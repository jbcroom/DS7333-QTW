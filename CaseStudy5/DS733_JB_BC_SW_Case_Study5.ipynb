{
 "cells": [
  {
   "cell_type": "markdown",
   "metadata": {},
   "source": [
    "### QTW Case Study 5 - Missing Data Analysis with California Housing Data\n",
    "### Jayson Barker, Brandon Croom, Shane Weinstock"
   ]
  },
  {
   "cell_type": "markdown",
   "metadata": {},
   "source": [
    "## Business Understanding\n",
    "\n",
    "#### Missing data (or missing values) occur when no data value is stored for a variable in an observation. To have missing data in a dataset is a common occurrence which can have profound effects on drawable conclusions from that data. There are several problems that can stem from having missing data in a dataset. First, missing data reduces statistical power, which refers to the probability that the hypothesis test will reject the null hypothesis when it is false. Second, missing data can cause bias in the estimations of parameters. Third, the representativeness of the sample used in analysis is reduced by missing data. Fourth, missing data may complicate the analysis by forcing the analyst to make assumptions on how to work with the data. Each of these distortions may threaten the validity of the conclusions.\n",
    "\n",
    "#### There are three types of missing data that typically occur in data sets. The definitions of these three types is based on the reasons the data is missing.\n",
    "\n",
    "#### Missing completely at random (MCAR) is defined as data that is missing without any specific reason; that is if the events that lead to any particular data being missing are independent both of observable variables and unobservable parameters of interest, and are entirely at random. MCAR data does allow any analysis to be unbiased given the random nature of the missing values. In practice, MCAR data is rare.\n",
    "\n",
    "#### Missing at random (MAR) occurs whe the missingness of the data is not random, but when it can be fully accounted for by observations with complete information. An example, of MAR would be a study on IQ and income, if participants with above average IQs tend to skip questions related to salary, analysis that do not take this into account may find a false relationship between IQ and salary. MAR data can introduce parameter bias if not detected. \n",
    "\n",
    "#### Missing not at random (MNAR) data occurs when there is a reason the data is missing. Extending on the example above if those with high IQs failed to answer the salary questions because of their IQ's the missingness of the salary data could be classified as MNAR\n",
    "\n",
    "#### Over the course of this report, we will leverage the California Housing data set provided as a part of the SKLearn package to show the impacts of these types of missing data on analysis. A baseline linear regression model will be built on the data set. Then the various missing data classifications will be executed on the data and the model re-evaluated to show the impacts on the model when compared to the baseline model. \n",
    "\n",
    "#### For those readers who want to understand the code used in this notebook, click the \"Show Inputs\" button below to display all of the cells containing code used in this analysis. Re-running the Jupyter cell will hide the code again."
   ]
  },
  {
   "cell_type": "code",
   "execution_count": 1,
   "metadata": {},
   "outputs": [
    {
     "data": {
      "text/html": [
       "<style id=hide>div.input{display:none;}</style><button type=\"button\"onclick=\"var myStyle = document.getElementById('hide').sheet;myStyle.insertRule('div.input{display:inherit !important;}', 0);\">Show inputs</button>"
      ],
      "text/plain": [
       "<IPython.core.display.HTML object>"
      ]
     },
     "metadata": {},
     "output_type": "display_data"
    }
   ],
   "source": [
    "# Run me to hide code cells\n",
    "\n",
    "from IPython.core.display import display, HTML\n",
    "display(HTML(r\"\"\"<style id=hide>div.input{display:none;}</style><button type=\"button\"onclick=\"var myStyle = document.getElementById('hide').sheet;myStyle.insertRule('div.input{display:inherit !important;}', 0);\">Show inputs</button>\"\"\"))"
   ]
  },
  {
   "cell_type": "markdown",
   "metadata": {},
   "source": [
    "## Data Analysis\n",
    "\n",
    "#### The California Housing data set is provided as part of the SKLearn package. Based on the description from the SKLearn website (https://scikit-learn.org/stable/datasets/index.html#real-world-datasets), the data set was obtained from the StatLib repository. The data set was derived from the 1990 US census. Each row in the data set is equal to a census block group. A block group is the smallest geographical unit that the US Census Bureau publishes sample data. The typical population in a block group is between 600 and 3000 people. The dataset contains 20,640 samples, 8 continuous features and no missing values. The features defined in the data are:\n",
    "\n",
    "- MedInc - Median Income in block\n",
    "- HouseAge - Median house age in block\n",
    "- AveRooms - Average number of rooms\n",
    "- AveBedrms - Average number of bedrooms\n",
    "- Population - Block population\n",
    "- AveOccup - Average house occupancy\n",
    "- Latitude - House Block Latitude\n",
    "- Longitude - House Block Longitude\n",
    "\n",
    "#### After loading the data set summary statistics are gathered for a quick analysis. The target variable is not initially inluded in the dataset and has been combined into the dataframe to obtain summary statistics.\n",
    "\n",
    "#### A quick review of these summary statistics shows that for the most part values seem reasonable. The counts in each feature column match the counts specified by the SKLearn library definition. Max values on a few columns (AveRooms, AveBedrms, and AveOccup) look suspect as they seem extremely high. These may need further investigation."
   ]
  },
  {
   "cell_type": "code",
   "execution_count": 2,
   "metadata": {},
   "outputs": [],
   "source": [
    "%%capture warn\n",
    "import numpy as np\n",
    "import os\n",
    "import tarfile\n",
    "import pandas as pd\n",
    "from sklearn.datasets import california_housing\n",
    "import seaborn as sns\n",
    "from sklearn.model_selection import train_test_split\n",
    "from sklearn.linear_model import LinearRegression\n",
    "import sklearn.metrics\n",
    "from sklearn.metrics import r2_score,adjusted_rand_score\n",
    "from sklearn.impute import SimpleImputer \n",
    "import ipywidgets as widgets\n",
    "from IPython import display\n",
    "import warnings\n",
    "warnings.filterwarnings('ignore')\n",
    "%matplotlib inline"
   ]
  },
  {
   "cell_type": "code",
   "execution_count": 3,
   "metadata": {},
   "outputs": [],
   "source": [
    "def getModelMetrics(testType, percentData, y_test, y_pred):\n",
    "\n",
    "    metricNames = ['r2_score',\n",
    "              'mean_squared_error',\n",
    "              'explained_variance_score', \n",
    "              'mean_absolute_error',\n",
    "              'median_absolute_error'\n",
    "                 ]\n",
    "    regMetrics = [sklearn.metrics.r2_score,\n",
    "                  sklearn.metrics.mean_squared_error,\n",
    "                  sklearn.metrics.explained_variance_score, \n",
    "                  sklearn.metrics.mean_absolute_error,\n",
    "                  sklearn.metrics.median_absolute_error\n",
    "                 ]\n",
    "\n",
    "    scores = {}\n",
    "    \n",
    "    scores['Test'] = testType\n",
    "    scores['Percent'] = percentData\n",
    "    \n",
    "    for name, metric in zip(metricNames, regMetrics):\n",
    "        scores[name] = round(metric(y_test, y_pred),3)\n",
    "        \n",
    "    return pd.DataFrame([scores])"
   ]
  },
  {
   "cell_type": "code",
   "execution_count": 4,
   "metadata": {},
   "outputs": [
    {
     "data": {
      "text/html": [
       "<div>\n",
       "<style scoped>\n",
       "    .dataframe tbody tr th:only-of-type {\n",
       "        vertical-align: middle;\n",
       "    }\n",
       "\n",
       "    .dataframe tbody tr th {\n",
       "        vertical-align: top;\n",
       "    }\n",
       "\n",
       "    .dataframe thead th {\n",
       "        text-align: right;\n",
       "    }\n",
       "</style>\n",
       "<table border=\"1\" class=\"dataframe\">\n",
       "  <thead>\n",
       "    <tr style=\"text-align: right;\">\n",
       "      <th></th>\n",
       "      <th>MedInc</th>\n",
       "      <th>HouseAge</th>\n",
       "      <th>AveRooms</th>\n",
       "      <th>AveBedrms</th>\n",
       "      <th>Population</th>\n",
       "      <th>AveOccup</th>\n",
       "      <th>Latitude</th>\n",
       "      <th>Longitude</th>\n",
       "      <th>prices</th>\n",
       "    </tr>\n",
       "  </thead>\n",
       "  <tbody>\n",
       "    <tr>\n",
       "      <th>count</th>\n",
       "      <td>20640.000000</td>\n",
       "      <td>20640.000000</td>\n",
       "      <td>20640.000000</td>\n",
       "      <td>20640.000000</td>\n",
       "      <td>20640.000000</td>\n",
       "      <td>20640.000000</td>\n",
       "      <td>20640.000000</td>\n",
       "      <td>20640.000000</td>\n",
       "      <td>20640.000000</td>\n",
       "    </tr>\n",
       "    <tr>\n",
       "      <th>mean</th>\n",
       "      <td>3.870671</td>\n",
       "      <td>28.639486</td>\n",
       "      <td>5.429000</td>\n",
       "      <td>1.096675</td>\n",
       "      <td>1425.476744</td>\n",
       "      <td>3.070655</td>\n",
       "      <td>35.631861</td>\n",
       "      <td>-119.569704</td>\n",
       "      <td>2.068558</td>\n",
       "    </tr>\n",
       "    <tr>\n",
       "      <th>std</th>\n",
       "      <td>1.899822</td>\n",
       "      <td>12.585558</td>\n",
       "      <td>2.474173</td>\n",
       "      <td>0.473911</td>\n",
       "      <td>1132.462122</td>\n",
       "      <td>10.386050</td>\n",
       "      <td>2.135952</td>\n",
       "      <td>2.003532</td>\n",
       "      <td>1.153956</td>\n",
       "    </tr>\n",
       "    <tr>\n",
       "      <th>min</th>\n",
       "      <td>0.499900</td>\n",
       "      <td>1.000000</td>\n",
       "      <td>0.846154</td>\n",
       "      <td>0.333333</td>\n",
       "      <td>3.000000</td>\n",
       "      <td>0.692308</td>\n",
       "      <td>32.540000</td>\n",
       "      <td>-124.350000</td>\n",
       "      <td>0.149990</td>\n",
       "    </tr>\n",
       "    <tr>\n",
       "      <th>25%</th>\n",
       "      <td>2.563400</td>\n",
       "      <td>18.000000</td>\n",
       "      <td>4.440716</td>\n",
       "      <td>1.006079</td>\n",
       "      <td>787.000000</td>\n",
       "      <td>2.429741</td>\n",
       "      <td>33.930000</td>\n",
       "      <td>-121.800000</td>\n",
       "      <td>1.196000</td>\n",
       "    </tr>\n",
       "    <tr>\n",
       "      <th>50%</th>\n",
       "      <td>3.534800</td>\n",
       "      <td>29.000000</td>\n",
       "      <td>5.229129</td>\n",
       "      <td>1.048780</td>\n",
       "      <td>1166.000000</td>\n",
       "      <td>2.818116</td>\n",
       "      <td>34.260000</td>\n",
       "      <td>-118.490000</td>\n",
       "      <td>1.797000</td>\n",
       "    </tr>\n",
       "    <tr>\n",
       "      <th>75%</th>\n",
       "      <td>4.743250</td>\n",
       "      <td>37.000000</td>\n",
       "      <td>6.052381</td>\n",
       "      <td>1.099526</td>\n",
       "      <td>1725.000000</td>\n",
       "      <td>3.282261</td>\n",
       "      <td>37.710000</td>\n",
       "      <td>-118.010000</td>\n",
       "      <td>2.647250</td>\n",
       "    </tr>\n",
       "    <tr>\n",
       "      <th>max</th>\n",
       "      <td>15.000100</td>\n",
       "      <td>52.000000</td>\n",
       "      <td>141.909091</td>\n",
       "      <td>34.066667</td>\n",
       "      <td>35682.000000</td>\n",
       "      <td>1243.333333</td>\n",
       "      <td>41.950000</td>\n",
       "      <td>-114.310000</td>\n",
       "      <td>5.000010</td>\n",
       "    </tr>\n",
       "  </tbody>\n",
       "</table>\n",
       "</div>"
      ],
      "text/plain": [
       "             MedInc      HouseAge      AveRooms     AveBedrms    Population  \\\n",
       "count  20640.000000  20640.000000  20640.000000  20640.000000  20640.000000   \n",
       "mean       3.870671     28.639486      5.429000      1.096675   1425.476744   \n",
       "std        1.899822     12.585558      2.474173      0.473911   1132.462122   \n",
       "min        0.499900      1.000000      0.846154      0.333333      3.000000   \n",
       "25%        2.563400     18.000000      4.440716      1.006079    787.000000   \n",
       "50%        3.534800     29.000000      5.229129      1.048780   1166.000000   \n",
       "75%        4.743250     37.000000      6.052381      1.099526   1725.000000   \n",
       "max       15.000100     52.000000    141.909091     34.066667  35682.000000   \n",
       "\n",
       "           AveOccup      Latitude     Longitude        prices  \n",
       "count  20640.000000  20640.000000  20640.000000  20640.000000  \n",
       "mean       3.070655     35.631861   -119.569704      2.068558  \n",
       "std       10.386050      2.135952      2.003532      1.153956  \n",
       "min        0.692308     32.540000   -124.350000      0.149990  \n",
       "25%        2.429741     33.930000   -121.800000      1.196000  \n",
       "50%        2.818116     34.260000   -118.490000      1.797000  \n",
       "75%        3.282261     37.710000   -118.010000      2.647250  \n",
       "max     1243.333333     41.950000   -114.310000      5.000010  "
      ]
     },
     "execution_count": 4,
     "metadata": {},
     "output_type": "execute_result"
    }
   ],
   "source": [
    "# build a full results dataframe\n",
    "df_results = []\n",
    "\n",
    "# download data and store to a data frame\n",
    "data = california_housing.fetch_california_housing()\n",
    "df = pd.DataFrame(data= data.data, columns=data.feature_names)\n",
    "\n",
    "# Fetch prices from the dataset\n",
    "p=data.target\n",
    "\n",
    "#converting prices to it's own dataframe for use later on in the split\n",
    "p_df=pd.DataFrame({\"prices\":p})\n",
    "\n",
    "#concatenating both dataframes to get the complete dataset\n",
    "calf_hous_df = pd.concat([df,p_df],axis=1)\n",
    "\n",
    "# Complete dataset\n",
    "calf_hous_df.describe()"
   ]
  },
  {
   "cell_type": "markdown",
   "metadata": {},
   "source": [
    "#### Now that summary analysis has been performed on the dataset, a check to verify that are are truly no missing values will occur. With the outut below, we can confirm that there are no missing values in any of the features or target variable of the data set."
   ]
  },
  {
   "cell_type": "code",
   "execution_count": 5,
   "metadata": {},
   "outputs": [
    {
     "data": {
      "text/plain": [
       "MedInc        0\n",
       "HouseAge      0\n",
       "AveRooms      0\n",
       "AveBedrms     0\n",
       "Population    0\n",
       "AveOccup      0\n",
       "Latitude      0\n",
       "Longitude     0\n",
       "prices        0\n",
       "dtype: int64"
      ]
     },
     "execution_count": 5,
     "metadata": {},
     "output_type": "execute_result"
    }
   ],
   "source": [
    "# check for nulls\n",
    "calf_hous_df.isnull().sum()"
   ]
  },
  {
   "cell_type": "markdown",
   "metadata": {},
   "source": [
    "#### As an additional check, data correlation needs to be evaluated. Evaluating correlation allows for teasing out any colinear variables that may need to be removed from the model to improve performance. The heatmap below shows the correlation between features. AveRooms and AveBedrms are potentially collinear and may warrant removal from the model."
   ]
  },
  {
   "cell_type": "code",
   "execution_count": 6,
   "metadata": {},
   "outputs": [
    {
     "data": {
      "text/plain": [
       "<matplotlib.axes._subplots.AxesSubplot at 0x14d50407520>"
      ]
     },
     "execution_count": 6,
     "metadata": {},
     "output_type": "execute_result"
    },
    {
     "data": {
      "image/png": "[encoded data removed]",
      "text/plain": [
       "<Figure size 432x288 with 2 Axes>"
      ]
     },
     "metadata": {
      "needs_background": "light"
     },
     "output_type": "display_data"
    }
   ],
   "source": [
    "# Correlation heatmap\n",
    "sns.heatmap(df.corr())"
   ]
  },
  {
   "cell_type": "markdown",
   "metadata": {},
   "source": [
    "## Linear Regression Baseline Model\n",
    "\n",
    "####  Building a linear regression model to predict the housing price will provide a baseline model to compare against. This is a very simplistic model that provides a starting point and something to compare to as we move further along in the analysis.\n",
    "\n",
    "#### The data is initially split using an 80/20 train-test split. This produces a training data set of 16,512 rows x 8 columns. The corresponding predictor training set is also 16,512 rows x 1 column (prices).\n",
    "\n",
    "#### Using the test/train split data a linear regression model will be run to see how well housing prices can be predicted. The model will be evaluated on the R-squared metric. R-squared evalates the scatter of the data points around the fitted regression line. R-squared values are always between 0 and 100%. A value of 0% represents a model that does not explain any of the variation in the response variable, while a value of 100% represents a model that explains all of the variation in the response variable. As a model comparison metric the larger the R-squared metric the better the model. In addition to R-Squared metrics, other model metrics will also be captured and analyzed across all of the models. \n",
    "\n",
    "#### For the baseline linear regression model, the R-squared score is 33.4% (~0.3340). Given the low value this may not be the best model for predicting housing prices in California and further model manipulation may be required."
   ]
  },
  {
   "cell_type": "code",
   "execution_count": 7,
   "metadata": {},
   "outputs": [],
   "source": [
    "# Split training and test data set using an 80/20 split\n",
    "calf_hous_df_2 = calf_hous_df[calf_hous_df.columns[~calf_hous_df.columns.isin(['prices'])]]\n",
    "\n",
    "x_train,x_test,y_train,y_test=train_test_split(calf_hous_df_2,p_df,test_size=0.2,random_state=7)"
   ]
  },
  {
   "cell_type": "code",
   "execution_count": 8,
   "metadata": {},
   "outputs": [],
   "source": [
    "%%capture x_train_capt\n",
    "x_train.shape"
   ]
  },
  {
   "cell_type": "code",
   "execution_count": 9,
   "metadata": {},
   "outputs": [],
   "source": [
    "%%capture y_train_capt\n",
    "y_train.shape"
   ]
  },
  {
   "cell_type": "code",
   "execution_count": 10,
   "metadata": {},
   "outputs": [],
   "source": [
    "%%capture lin_reg_capt\n",
    "# train the linear regression model\n",
    "baseline_model = LinearRegression()\n",
    "baseline_model.fit(x_train,y_train)"
   ]
  },
  {
   "cell_type": "code",
   "execution_count": 11,
   "metadata": {},
   "outputs": [],
   "source": [
    "# predict using the test data\n",
    "baseline_model_pred = baseline_model.predict(x_test)"
   ]
  },
  {
   "cell_type": "code",
   "execution_count": 12,
   "metadata": {},
   "outputs": [],
   "source": [
    "# How accuratge is our baseline model? Let's return the R2 score\n",
    "df_results\n",
    "\n",
    "r2_baseline = r2_score(baseline_model_pred,y_test)\n",
    "df_results.append(getModelMetrics('Baseline',0, baseline_model_pred, y_test))\n",
    "    \n",
    "# 0.334 is a pretty poor score for a baseline model. Can we do better?"
   ]
  },
  {
   "cell_type": "markdown",
   "metadata": {},
   "source": [
    "## Missing Data Analysis\n",
    "\n",
    "#### In order to show the impact that missing data can have on models, the next few sections will evaluate the baseline linear regression model against the three missing data scenarios:\n",
    "\n",
    "    * Missing Completely At Random (MCAR)\n",
    "    * Missing At Random (MAR)\n",
    "    * Missing Not At Random (MNAR)\n",
    "\n",
    "#### Each of these scenarios will show the impact these missing data scenarios has on model performance based on how the missing values are handled.\n",
    "\n",
    "### Missing Completely At Random (MCAR) Analysis\n",
    "\n",
    "#### For the Missing Completely at Random analysis a single column, for this analysis HouseAge,  will be manipulated to replace 1%, 5%, 10%, 20%, 33% and 50% of the original data values with NaN at random. Once the data values for the various percentages have been randomly set to NaN, data imputation will be performed to \"fill in\" the missing values. The imputation method used on the HouseAge column will be using the mean value of the house age. Using the mean as the imputation method allows for maintaining the sample size and is relatively easy to perform. \n",
    "\n",
    "#### As a comparison metric for each of the imputation percentages the R-Squared metric will be used. It is expected that as the imputation percentage increases the R-Squared metric should decrease due to less variability in the data. \n",
    "\n",
    "#### The outputs below allow for ensuring data is manipulated based on the individual percentages defined above. The expectation is the percentages will be relatively close for the analysis with no large discrepancies."
   ]
  },
  {
   "cell_type": "code",
   "execution_count": 13,
   "metadata": {
    "code_folding": [
     0
    ]
   },
   "outputs": [],
   "source": [
    "# Hold 1% of the records constant and replace with NAN\n",
    "df2 = calf_hous_df.copy()\n",
    "\n",
    "df2_1 = df.copy()\n",
    "df2_1.HouseAge[df2_1.HouseAge.sample(frac=(1/100)).index] = np.nan  \n",
    "\n",
    "# Hold 5% of the records constant and replace with NAN\n",
    "df2_5 = df.copy()\n",
    "df2_5.HouseAge[df2_5.HouseAge.sample(frac=(5/100)).index] = np.nan \n",
    "\n",
    "# Hold 10% of the records constant and replace with NAN\n",
    "df2_10 = df.copy()\n",
    "df2_10.HouseAge[df2_10.HouseAge.sample(frac=(10/100)).index] = np.nan \n",
    "\n",
    "# Hold 20% of the records constant and replace with NAN\n",
    "df2_20 = df.copy()\n",
    "df2_20.HouseAge[df2_20.HouseAge.sample(frac=(20/100)).index] = np.nan \n",
    "\n",
    "# Hold 33% of the records constant and replace with NAN\n",
    "df2_33 = df.copy()\n",
    "df2_33.HouseAge[df2_33.HouseAge.sample(frac=(33/100)).index] = np.nan \n",
    "\n",
    "# Hold 50% of the records constant and replace with NAN\n",
    "df2_50 = df.copy()\n",
    "df2_50.HouseAge[df2_50.HouseAge.sample(frac=(50/100)).index] = np.nan \n"
   ]
  },
  {
   "cell_type": "code",
   "execution_count": 14,
   "metadata": {},
   "outputs": [
    {
     "name": "stdout",
     "output_type": "stream",
     "text": [
      "Baseline NAs for 1%\n",
      "MedInc        0.000000\n",
      "HouseAge      0.998062\n",
      "AveRooms      0.000000\n",
      "AveBedrms     0.000000\n",
      "Population    0.000000\n",
      "AveOccup      0.000000\n",
      "Latitude      0.000000\n",
      "Longitude     0.000000\n",
      "dtype: float64\n"
     ]
    }
   ],
   "source": [
    "# Check baseline for NAs - 1%\n",
    "print('Baseline NAs for 1%')\n",
    "print((df2_1.isna().sum()/len(df2_1))*100)"
   ]
  },
  {
   "cell_type": "code",
   "execution_count": 15,
   "metadata": {},
   "outputs": [
    {
     "name": "stdout",
     "output_type": "stream",
     "text": [
      "Baseline NAs for 5%\n",
      "MedInc        0.0\n",
      "HouseAge      5.0\n",
      "AveRooms      0.0\n",
      "AveBedrms     0.0\n",
      "Population    0.0\n",
      "AveOccup      0.0\n",
      "Latitude      0.0\n",
      "Longitude     0.0\n",
      "dtype: float64\n"
     ]
    }
   ],
   "source": [
    "# Check baseline for NAs - 5%\n",
    "print('Baseline NAs for 5%')\n",
    "print((df2_5.isna().sum()/len(df2_5))*100)"
   ]
  },
  {
   "cell_type": "code",
   "execution_count": 16,
   "metadata": {},
   "outputs": [
    {
     "name": "stdout",
     "output_type": "stream",
     "text": [
      "Baseline NAs for 10%\n",
      "MedInc         0.0\n",
      "HouseAge      10.0\n",
      "AveRooms       0.0\n",
      "AveBedrms      0.0\n",
      "Population     0.0\n",
      "AveOccup       0.0\n",
      "Latitude       0.0\n",
      "Longitude      0.0\n",
      "dtype: float64\n"
     ]
    }
   ],
   "source": [
    "# Check baseline for NAs - 10%\n",
    "print('Baseline NAs for 10%')\n",
    "print((df2_10.isna().sum()/len(df2_10))*100)"
   ]
  },
  {
   "cell_type": "code",
   "execution_count": 17,
   "metadata": {},
   "outputs": [
    {
     "name": "stdout",
     "output_type": "stream",
     "text": [
      "Baseline NAs for 20%\n",
      "MedInc         0.0\n",
      "HouseAge      20.0\n",
      "AveRooms       0.0\n",
      "AveBedrms      0.0\n",
      "Population     0.0\n",
      "AveOccup       0.0\n",
      "Latitude       0.0\n",
      "Longitude      0.0\n",
      "dtype: float64\n"
     ]
    }
   ],
   "source": [
    "# Check baseline for NAs - 20%\n",
    "print('Baseline NAs for 20%')\n",
    "print((df2_20.isna().sum()/len(df2_20))*100)"
   ]
  },
  {
   "cell_type": "code",
   "execution_count": 18,
   "metadata": {},
   "outputs": [
    {
     "name": "stdout",
     "output_type": "stream",
     "text": [
      "Baseline NAs for 33%\n",
      "MedInc         0.000000\n",
      "HouseAge      32.999031\n",
      "AveRooms       0.000000\n",
      "AveBedrms      0.000000\n",
      "Population     0.000000\n",
      "AveOccup       0.000000\n",
      "Latitude       0.000000\n",
      "Longitude      0.000000\n",
      "dtype: float64\n"
     ]
    }
   ],
   "source": [
    "# Check baseline for NAs - 33%\n",
    "print('Baseline NAs for 33%')\n",
    "print((df2_33.isna().sum()/len(df2_33))*100)"
   ]
  },
  {
   "cell_type": "code",
   "execution_count": 19,
   "metadata": {},
   "outputs": [
    {
     "name": "stdout",
     "output_type": "stream",
     "text": [
      "Baseline NAs for 50%\n",
      "MedInc         0.0\n",
      "HouseAge      50.0\n",
      "AveRooms       0.0\n",
      "AveBedrms      0.0\n",
      "Population     0.0\n",
      "AveOccup       0.0\n",
      "Latitude       0.0\n",
      "Longitude      0.0\n",
      "dtype: float64\n"
     ]
    }
   ],
   "source": [
    "# Check baseline for NAs - 50%\n",
    "print('Baseline NAs for 50%')\n",
    "print((df2_50.isna().sum()/len(df2_50))*100)"
   ]
  },
  {
   "cell_type": "code",
   "execution_count": 20,
   "metadata": {},
   "outputs": [],
   "source": [
    "%%capture impute_cap\n",
    "# Impute for the NANs and replace with the mean\n",
    "\n",
    "# Impute NANs - 1%\n",
    "imputer = SimpleImputer(missing_values=np.nan, strategy='mean', copy=False)\n",
    "imputer.fit(df2_1)\n",
    "imputer.transform(df2_1)\n",
    "\n",
    "# Impute NANs - 5%\n",
    "imputer = SimpleImputer(missing_values=np.nan, strategy='mean', copy=False)\n",
    "imputer.fit(df2_5)\n",
    "imputer.transform(df2_5)\n",
    "\n",
    "# Impute NANs - 10%\n",
    "imputer = SimpleImputer(missing_values=np.nan, strategy='mean', copy=False)\n",
    "imputer.fit(df2_10)\n",
    "imputer.transform(df2_10)\n",
    "\n",
    "# Impute NANs - 20%\n",
    "imputer = SimpleImputer(missing_values=np.nan, strategy='mean', copy=False)\n",
    "imputer.fit(df2_20)\n",
    "imputer.transform(df2_20)\n",
    "\n",
    "# Impute NANs - 33%\n",
    "imputer = SimpleImputer(missing_values=np.nan, strategy='mean', copy=False)\n",
    "imputer.fit(df2_33)\n",
    "imputer.transform(df2_33)\n",
    "\n",
    "# Impute NANs - 50%\n",
    "imputer = SimpleImputer(missing_values=np.nan, strategy='mean', copy=False)\n",
    "imputer.fit(df2_50)\n",
    "imputer.transform(df2_50)"
   ]
  },
  {
   "cell_type": "code",
   "execution_count": 21,
   "metadata": {},
   "outputs": [],
   "source": [
    "# Replace existing HouseAge column with imputed column - 1%\n",
    "df2['HouseAge'] = df2_1['HouseAge']\n",
    "df2_v1 = df2[['MedInc', 'HouseAge','AveRooms','AveBedrms','Population','AveOccup','Latitude','Longitude']]\n",
    "df2_v1_p = df2[['prices']]\n",
    "\n",
    "# Split 1%\n",
    "x_train,x_test,y_train,y_test=train_test_split(df2_v1,df2_v1_p,test_size=0.2,random_state=7)\n",
    "\n",
    "# train the linear regression model\n",
    "impute_model = LinearRegression()\n",
    "impute_model.fit(x_train,y_train)\n",
    "\n",
    "# predict using the test data\n",
    "impute_model_pred = impute_model.predict(x_test)\n",
    "\n",
    "# How accuratge is our model? R2\n",
    "r2_impute_1 = r2_score(impute_model_pred,y_test)\n",
    "\n",
    "df_results.append(getModelMetrics('MCAR',1, impute_model_pred, y_test))"
   ]
  },
  {
   "cell_type": "code",
   "execution_count": 22,
   "metadata": {},
   "outputs": [],
   "source": [
    "# Replace existing HouseAge column with imputed column - 5%\n",
    "df2['HouseAge'] = df2_5['HouseAge']\n",
    "df2_v5 = df2[['MedInc', 'HouseAge','AveRooms','AveBedrms','Population','AveOccup','Latitude','Longitude']]\n",
    "df2_v5_p = df2[['prices']]\n",
    "\n",
    "# Split\n",
    "x_train,x_test,y_train,y_test=train_test_split(df2_v5,df2_v5_p,test_size=0.2,random_state=7)\n",
    "\n",
    "# train the linear regression model\n",
    "impute_model = LinearRegression()\n",
    "impute_model.fit(x_train,y_train)\n",
    "\n",
    "# predict using the test data\n",
    "impute_model_pred = impute_model.predict(x_test)\n",
    "\n",
    "# How accuratge is our model? R2\n",
    "r2_impute_5 = r2_score(impute_model_pred,y_test)\n",
    "df_results.append(getModelMetrics('MCAR',5, impute_model_pred, y_test))\n"
   ]
  },
  {
   "cell_type": "code",
   "execution_count": 23,
   "metadata": {},
   "outputs": [],
   "source": [
    "# Replace existing HouseAge column with imputed column - 10%\n",
    "df2['HouseAge'] = df2_10['HouseAge']\n",
    "df2_v10 = df2[['MedInc', 'HouseAge','AveRooms','AveBedrms','Population','AveOccup','Latitude','Longitude']]\n",
    "df2_v10_p = df2[['prices']]\n",
    "\n",
    "# Split\n",
    "x_train,x_test,y_train,y_test=train_test_split(df2_v10,df2_v10_p,test_size=0.2,random_state=7)\n",
    "\n",
    "# train the linear regression model\n",
    "impute_model = LinearRegression()\n",
    "impute_model.fit(x_train,y_train)\n",
    "\n",
    "# predict using the test data\n",
    "impute_model_pred = impute_model.predict(x_test)\n",
    "\n",
    "# How accuratge is our model? R2\n",
    "r2_impute_10 = r2_score(impute_model_pred,y_test)\n",
    "df_results.append(getModelMetrics('MCAR',10, impute_model_pred, y_test))"
   ]
  },
  {
   "cell_type": "code",
   "execution_count": 24,
   "metadata": {},
   "outputs": [],
   "source": [
    "# Replace existing HouseAge column with imputed column - 20%\n",
    "df2['HouseAge'] = df2_20['HouseAge']\n",
    "df2_v20 = df2[['MedInc', 'HouseAge','AveRooms','AveBedrms','Population','AveOccup','Latitude','Longitude']]\n",
    "df2_v20_p = df2[['prices']]\n",
    "\n",
    "# Split\n",
    "x_train,x_test,y_train,y_test=train_test_split(df2_v20,df2_v20_p,test_size=0.2,random_state=7)\n",
    "\n",
    "# train the linear regression model\n",
    "impute_model = LinearRegression()\n",
    "impute_model.fit(x_train,y_train)\n",
    "\n",
    "# predict using the test data\n",
    "impute_model_pred = impute_model.predict(x_test)\n",
    "\n",
    "# How accuratge is our model? R2\n",
    "r2_impute_20 = r2_score(impute_model_pred,y_test)\n",
    "df_results.append(getModelMetrics('MCAR',20, impute_model_pred, y_test))"
   ]
  },
  {
   "cell_type": "code",
   "execution_count": 25,
   "metadata": {},
   "outputs": [],
   "source": [
    "# Replace existing HouseAge column with imputed column - 33%\n",
    "df2['HouseAge'] = df2_33['HouseAge']\n",
    "df2_v33 = df2[['MedInc', 'HouseAge','AveRooms','AveBedrms','Population','AveOccup','Latitude','Longitude']]\n",
    "df2_v33_p = df2[['prices']]\n",
    "\n",
    "# Split\n",
    "x_train,x_test,y_train,y_test=train_test_split(df2_v33,df2_v33_p,test_size=0.2,random_state=7)\n",
    "\n",
    "# train the linear regression model\n",
    "impute_model = LinearRegression()\n",
    "impute_model.fit(x_train,y_train)\n",
    "\n",
    "# predict using the test data\n",
    "impute_model_pred = impute_model.predict(x_test)\n",
    "\n",
    "# How accuratge is our model? R2\n",
    "r2_impute_33 = r2_score(impute_model_pred,y_test)\n",
    "df_results.append(getModelMetrics('MCAR',33, impute_model_pred, y_test))"
   ]
  },
  {
   "cell_type": "code",
   "execution_count": 26,
   "metadata": {},
   "outputs": [],
   "source": [
    "# Replace existing HouseAge column with imputed column - 50%\n",
    "df2['HouseAge'] = df2_50['HouseAge']\n",
    "df2_v50 = df2[['MedInc', 'HouseAge','AveRooms','AveBedrms','Population','AveOccup','Latitude','Longitude']]\n",
    "df2_v50_p = df2[['prices']]\n",
    "\n",
    "# Split\n",
    "x_train,x_test,y_train,y_test=train_test_split(df2_v50,df2_v50_p,test_size=0.2,random_state=7)\n",
    "\n",
    "# train the linear regression model\n",
    "impute_model = LinearRegression()\n",
    "impute_model.fit(x_train,y_train)\n",
    "\n",
    "# predict using the test data\n",
    "impute_model_pred = impute_model.predict(x_test)\n",
    "\n",
    "# How accuratge is our model? R2\n",
    "r2_impute_50 = r2_score(impute_model_pred,y_test)\n",
    "df_results.append(getModelMetrics('MCAR',50, impute_model_pred, y_test))"
   ]
  },
  {
   "cell_type": "markdown",
   "metadata": {},
   "source": [
    "#### The table below shows the R-Squared results for each of the percentages of data imputation for the MCAR analysis. As expected the more data that is imputed the lower the R-Squared value. \n",
    "\n",
    "| Imputation |   |   R-Squared |\n",
    "|:----------:|:-:|:---------:|\n",
    "|     1%     |   | 33.4%     |\n",
    "|     5%     |   | 33.5%     |\n",
    "|     10%    |   | 33.1%     |\n",
    "|     20%    |   | 32.9%     |\n",
    "|     33%    |   | 32.5%     |\n",
    "|     50%    |   | 31.6%     |\n",
    "\n",
    "#### When compared to the baseline model R-Squared of 33.4% everything seems to be inline with the exception of the 5% imputation model. As more of the missing data is replaced with the mean the data values in the HouseAge column become more alike and thus the R-Squared values decrease. At 1% imputation this does not have a huge impact and is inline with the baseline model. At 50% imputation there is an impact and the R-Squared metrics differ. Comparing the MCAR models across themselves the impact of the imputation is evident as the values drop as more data is imputed. \n"
   ]
  },
  {
   "cell_type": "markdown",
   "metadata": {},
   "source": [
    "### Missing At Random (MAR) Analysis\n",
    "\n",
    "#### For the Missing At Random (MAR) Analysis two different columns will be selected and data will be missing at random when controlled for by a third column. For example, if variable Z is > 30, then variables X and Y are randomly missing). The analysis will be performed on data percentages of 10%, 20% and 20% of missing data. These data sets will then be fit to the linear regression model and compared against the baseline model. \n",
    "\n",
    "#### In order to create the missing at random data the HouseAge and AveRoom columns were selected as the columns to make randomly missing. These columns will be marked missing based on the population field. If the population is greater than 1425, the mean of the population field,  then the HouseAge and AveRoom columns will be marked as missing. As was done previously, the mean will be used as the imputation method for the missing data. \n",
    "\n",
    "#### The outputs below allow for ensuring data is manipulated based on the individual percentages defined above. The expectation is the percentages will be relatively close for the analysis with no large discrepancies."
   ]
  },
  {
   "cell_type": "code",
   "execution_count": 27,
   "metadata": {},
   "outputs": [
    {
     "name": "stdout",
     "output_type": "stream",
     "text": [
      "Baseline NAs for 10%\n",
      "MedInc        0.000000\n",
      "HouseAge      3.643411\n",
      "AveRooms      3.643411\n",
      "AveBedrms     0.000000\n",
      "Population    0.000000\n",
      "AveOccup      0.000000\n",
      "Latitude      0.000000\n",
      "Longitude     0.000000\n",
      "prices        0.000000\n",
      "dtype: float64\n",
      "\n",
      "Baseline NAs for 20%\n",
      "MedInc        0.000000\n",
      "HouseAge      7.286822\n",
      "AveRooms      7.286822\n",
      "AveBedrms     0.000000\n",
      "Population    0.000000\n",
      "AveOccup      0.000000\n",
      "Latitude      0.000000\n",
      "Longitude     0.000000\n",
      "prices        0.000000\n",
      "dtype: float64\n",
      "\n",
      "Baseline NAs for 30%\n",
      "MedInc         0.000000\n",
      "HouseAge      10.935078\n",
      "AveRooms      10.935078\n",
      "AveBedrms      0.000000\n",
      "Population     0.000000\n",
      "AveOccup       0.000000\n",
      "Latitude       0.000000\n",
      "Longitude      0.000000\n",
      "prices         0.000000\n",
      "dtype: float64\n",
      "\n"
     ]
    }
   ],
   "source": [
    "filter_var = df2.Population >= 1425\n",
    "cols_var = ['HouseAge','AveRooms']\n",
    "\n",
    "# 10% run\n",
    "df3 = df2.copy()\n",
    "\n",
    "df3_10 = df2.copy()\n",
    "df3_10.loc[df3_10.loc[filter_var].sample(frac=(10/100)).index, cols_var] = np.nan\n",
    "\n",
    "# Check baseline for NAs - 10%\n",
    "print('Baseline NAs for 10%')\n",
    "print((df3_10.isna().sum()/len(df3_10))*100)\n",
    "print('')\n",
    "\n",
    "# 20% run\n",
    "df3 = df2.copy()\n",
    "\n",
    "df3_20 = df2.copy()\n",
    "df3_20.loc[df3_20.loc[filter_var].sample(frac=(20/100)).index, cols_var] = np.nan\n",
    "\n",
    "# Check baseline for NAs - 20%\n",
    "print('Baseline NAs for 20%')\n",
    "print((df3_20.isna().sum()/len(df3_20))*100)\n",
    "print('')\n",
    "\n",
    "# 30% run\n",
    "df3 = df2.copy()\n",
    "\n",
    "df3_30 = df2.copy()\n",
    "df3_30.loc[df3_30.loc[filter_var].sample(frac=(30/100)).index, cols_var] = np.nan\n",
    "\n",
    "# Check baseline for NAs - 30%\n",
    "print('Baseline NAs for 30%')\n",
    "print((df3_30.isna().sum()/len(df3_30))*100)\n",
    "print('')"
   ]
  },
  {
   "cell_type": "code",
   "execution_count": 28,
   "metadata": {},
   "outputs": [],
   "source": [
    "%%capture impute2_capt\n",
    "\n",
    "# Impute 10% run\n",
    "imputer = SimpleImputer(missing_values=np.nan, strategy='mean', copy=False)\n",
    "imputer.fit(df3_10)\n",
    "imputer.transform(df3_10)\n",
    "\n",
    "# Impute 20% run\n",
    "imputer = SimpleImputer(missing_values=np.nan, strategy='mean', copy=False)\n",
    "imputer.fit(df3_20)\n",
    "imputer.transform(df3_20)\n",
    "\n",
    "# Impute 30% run\n",
    "imputer = SimpleImputer(missing_values=np.nan, strategy='mean', copy=False)\n",
    "imputer.fit(df3_30)\n",
    "imputer.transform(df3_30)"
   ]
  },
  {
   "cell_type": "code",
   "execution_count": 29,
   "metadata": {},
   "outputs": [],
   "source": [
    "# Replace existing HouseAge column with imputed column - 10%\n",
    "df3['HouseAge'] = df3_10['HouseAge']\n",
    "df3['AveRooms'] = df3_10['AveRooms']\n",
    "df3_v10 = df3[['MedInc', 'HouseAge','AveRooms','AveBedrms','Population','AveOccup','Latitude','Longitude']]\n",
    "df3_v10_p = df3[['prices']]\n",
    "\n",
    "# Split\n",
    "x_train,x_test,y_train,y_test=train_test_split(df3_v10,df3_v10_p,test_size=0.2,random_state=7)\n",
    "\n",
    "# train the linear regression model\n",
    "impute_model = LinearRegression()\n",
    "impute_model.fit(x_train,y_train)\n",
    "\n",
    "# predict using the test data\n",
    "impute_model_pred = impute_model.predict(x_test)\n",
    "\n",
    "# How accuratge is our model? R2\n",
    "r2_impute_3_10 = r2_score(impute_model_pred,y_test)\n",
    "df_results.append(getModelMetrics('MAR',10, impute_model_pred, y_test))"
   ]
  },
  {
   "cell_type": "code",
   "execution_count": 30,
   "metadata": {},
   "outputs": [],
   "source": [
    "# Replace existing HouseAge column with imputed column - 20%\n",
    "df3['HouseAge'] = df3_20['HouseAge']\n",
    "df3['AveRooms'] = df3_20['AveRooms']\n",
    "df3_v20 = df3[['MedInc', 'HouseAge','AveRooms','AveBedrms','Population','AveOccup','Latitude','Longitude']]\n",
    "df3_v20_p = df3[['prices']]\n",
    "\n",
    "# Split\n",
    "x_train,x_test,y_train,y_test=train_test_split(df3_v20,df3_v20_p,test_size=0.2,random_state=7)\n",
    "\n",
    "# train the linear regression model\n",
    "impute_model = LinearRegression()\n",
    "impute_model.fit(x_train,y_train)\n",
    "\n",
    "# predict using the test data\n",
    "impute_model_pred = impute_model.predict(x_test)\n",
    "\n",
    "# How accuratge is our model? R2\n",
    "r2_impute_3_20 = r2_score(impute_model_pred,y_test)\n",
    "df_results.append(getModelMetrics('MAR',20, impute_model_pred, y_test))"
   ]
  },
  {
   "cell_type": "code",
   "execution_count": 31,
   "metadata": {},
   "outputs": [],
   "source": [
    "# Replace existing HouseAge column with imputed column - 30%\n",
    "df3['HouseAge'] = df3_30['HouseAge']\n",
    "df3['AveRooms'] = df3_30['AveRooms']\n",
    "df3_v30 = df3[['MedInc', 'HouseAge','AveRooms','AveBedrms','Population','AveOccup','Latitude','Longitude']]\n",
    "df3_v30_p = df3[['prices']]\n",
    "\n",
    "# Split\n",
    "x_train,x_test,y_train,y_test=train_test_split(df3_v30,df3_v30_p,test_size=0.2,random_state=7)\n",
    "\n",
    "# train the linear regression model\n",
    "impute_model = LinearRegression()\n",
    "impute_model.fit(x_train,y_train)\n",
    "\n",
    "# predict using the test data\n",
    "impute_model_pred = impute_model.predict(x_test)\n",
    "\n",
    "# How accuratge is our model? R2\n",
    "r2_impute_3_30 = r2_score(impute_model_pred,y_test)\n",
    "df_results.append(getModelMetrics('MAR',30, impute_model_pred, y_test))"
   ]
  },
  {
   "cell_type": "markdown",
   "metadata": {},
   "source": [
    "#### The table below shows the R-Squared results for each of the percentages of data imputation for the MAR analysis. As expected, the more data that is imputed the lower the R-Squared value. \n",
    "\n",
    "| Imputation |   |   R-Squared |\n",
    "|:----------:|:-:|:---------:|\n",
    "|     10%     |   | 31.6%     |\n",
    "|     20%     |   | 31.5%     |\n",
    "|     30%    |   | 31.3%     |\n",
    "\n",
    "#### When compared to the baseline model R-Squared of 33.4%, everything seems to be inline with the expectations that these models will not perform as well as the baseline model. As more of the missing data is replaced with the mean the data values in the HouseAge and AveRooms columns become more alike and thus the R-Squared values decrease. At 10% imputation there is an immediate difference between this model and the baseline model. This difference continues when comparing all models to the baseline model. Comparing within the models built for the MAR analysis, the R-Squared values are all fairly close. "
   ]
  },
  {
   "cell_type": "markdown",
   "metadata": {},
   "source": [
    "### Missing Not At Random (MNAR) Analysis\n",
    "\n",
    "#### For the Missing Not At Random (MNAR) Analysis a single column will be selected and data will be missing not at random for this column. The analysis will be performed only on a 25% of missing data for the target column. These data sets will then be fit to the linear regression model and compared against the baseline model. \n",
    "\n",
    "#### In order to create the missing not at random data the HouseAge column was selected as the column for missing data. HouseAge values over 28, the mean of the HouseAge, were marked as missing data. As was done previously, the mean will be used as the imputation method for the missing data. \n",
    "\n",
    "#### The outputs below allow for ensuring data is manipulated based on the individual percentages defined above. The expectation is the percentages will be relatively close for the analysis with no large discrepancies."
   ]
  },
  {
   "cell_type": "code",
   "execution_count": 32,
   "metadata": {},
   "outputs": [
    {
     "name": "stdout",
     "output_type": "stream",
     "text": [
      "Baseline NAs for 25%\n",
      "MedInc         0.0\n",
      "HouseAge      25.0\n",
      "AveRooms       0.0\n",
      "AveBedrms      0.0\n",
      "Population     0.0\n",
      "AveOccup       0.0\n",
      "Latitude       0.0\n",
      "Longitude      0.0\n",
      "dtype: float64\n"
     ]
    }
   ],
   "source": [
    "df2 = calf_hous_df.copy()\n",
    "\n",
    "NANcols = ['HouseAge']\n",
    "mask = df2['HouseAge'] > 28\n",
    "\n",
    "df2_25 = df.copy()\n",
    "df2_25.loc[df2_25.loc[mask].sample(frac=(25/100)).index, NANcols] = np.nan\n",
    "\n",
    "# Check baseline for NAs - 25%\n",
    "print('Baseline NAs for 25%')\n",
    "print((df2_25[mask].isna().sum()/len(df2_25[mask]))*100)"
   ]
  },
  {
   "cell_type": "code",
   "execution_count": 33,
   "metadata": {},
   "outputs": [],
   "source": [
    "%%capture impute3_capt\n",
    "# Impute NANs - 25%\n",
    "imputer = SimpleImputer(missing_values=np.nan, strategy='mean', copy=False)\n",
    "imputer.fit(df2_25)\n",
    "imputer.transform(df2_25)"
   ]
  },
  {
   "cell_type": "code",
   "execution_count": 34,
   "metadata": {},
   "outputs": [],
   "source": [
    "# Replace existing HouseAge column with imputed column - 25%\n",
    "df2['HouseAge'] = df2_25['HouseAge']\n",
    "df2_v25 = df2[['MedInc', 'HouseAge','AveRooms','AveBedrms','Population','AveOccup','Latitude','Longitude']]\n",
    "df2_v25_p = df2[['prices']]\n",
    "\n",
    "# Split\n",
    "x_train,x_test,y_train,y_test=train_test_split(df2_v25,df2_v25_p,test_size=0.2,random_state=7)\n",
    "\n",
    "# train the linear regression model\n",
    "impute_model = LinearRegression()\n",
    "impute_model.fit(x_train,y_train)\n",
    "\n",
    "# predict using the test data\n",
    "impute_model_pred = impute_model.predict(x_test)\n",
    "\n",
    "# How accuratge is our model? R2\n",
    "r2_impute_5 = r2_score(impute_model_pred,y_test)\n",
    "df_results.append(getModelMetrics('MNAR',25, impute_model_pred, y_test))"
   ]
  },
  {
   "cell_type": "markdown",
   "metadata": {},
   "source": [
    "#### The MNAR model generates an R-Squared score of 32.5%. When compared to the baseline model R-Squared of 33.4% everything seems to be inline with the expectations that the MNAR model will not perform as well as the baseline model. As with the other models, the more the mean data is used the more similarities are available within the model which results in a lower R-squared score. "
   ]
  },
  {
   "cell_type": "markdown",
   "metadata": {},
   "source": [
    "## Conclusion\n",
    "\n",
    "\n",
    "#### Throughout the analysis R-Squared has been the metric of choice to compare the models against each other. As previously noted other metrics were also captured for comparison. The other metrics captured were:\n",
    "\n",
    "- Mean Squared Error - estimates the average squared difference between the estimated values and the actual value.\n",
    "\n",
    "- Explained Variance Score - used to measure the discrepance between the model and actual data. Higher percentages (scores) indicate better predictions.\n",
    "\n",
    "- Mean Absolute Error - is the measure of the magnitude of the errors between the predicted value and the actual value.\n",
    "    \n",
    "- Median Absolute Error - similar to mean absolute error, except leveraging the median\n",
    " \n",
    "#### The table below shows the results for each of the metrics defined above, as well as R-Squared, for each of the models defined in the analysis."
   ]
  },
  {
   "cell_type": "code",
   "execution_count": 35,
   "metadata": {
    "scrolled": false
   },
   "outputs": [
    {
     "data": {
      "application/vnd.jupyter.widget-view+json": {
       "model_id": "c9d1fcac32e3494cbbce927780c7eded",
       "version_major": 2,
       "version_minor": 0
      },
      "text/plain": [
       "HBox(children=(Output(),))"
      ]
     },
     "metadata": {},
     "output_type": "display_data"
    }
   ],
   "source": [
    "df_results_merged = pd.concat(df_results, ignore_index=True)\n",
    "\n",
    "widget1 = widgets.Output()\n",
    "with widget1:\n",
    "    display.display(df_results_merged)\n",
    "    \n",
    "hbox = widgets.HBox([widget1])\n",
    "hbox"
   ]
  },
  {
   "cell_type": "markdown",
   "metadata": {},
   "source": [
    "#### Similar results are seen with the other metrics as were seen with the R-Squared metric. For example, the Mean Squared Error values continue to increase as more data is manipulated through the various tests and data percentage changes. A similar pattern is seen with the explained variance score metric, the values continue to go lower as more data is manipulated. As a reminder, explained variance score typically looks at higher values to explain variance. \n",
    "\n",
    "#### In conclusion the impact of missing data on the model and the model comparison metrics based on the type of data missingness is very apparent. There is no replacement for the actual data, although there are some solutions. Depending on the study, attempting to correct for these various missing variables could be the right solution, especially in very small sample sizes. Otherwise, advising others on how to collect or suggesting to improve data collection might be most beneficial before coming to a conclusion. If a solution must be developed, exploring variables fully and imputing or correcting for the smallest amount will yield the best results (based on our work above, but maybe not empirically across every situation). With all of these situations, the more reliant we are on the mean for completing our data, the less statistical power our models will have. Even in much larger studies and models, there are ways to mathematically optimize the model through limiting the size of the data, this could also be considered when a larger dataset has missing data as well. Most importantly, the above methods show us that imputation and completing the different types of missing data will have profound effects on our data. In most cases, we will always be trying to avoid implementing these techniques, however they are useful when no other option exists to draw significant statistical inferences."
   ]
  }
 ],
 "metadata": {
  "kernelspec": {
   "display_name": "Python 3",
   "language": "python",
   "name": "python3"
  },
  "language_info": {
   "codemirror_mode": {
    "name": "ipython",
    "version": 3
   },
   "file_extension": ".py",
   "mimetype": "text/x-python",
   "name": "python",
   "nbconvert_exporter": "python",
   "pygments_lexer": "ipython3",
   "version": "3.8.3"
  }
 },
 "nbformat": 4,
 "nbformat_minor": 2
}
