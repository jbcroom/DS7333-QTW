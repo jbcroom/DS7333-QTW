{
 "cells": [
  {
   "source": [
    "### QTW Case Study 5 - Missing Data Analysis with California Housing Data\n",
    "### Jayson Barker, Brandon Croom, Shane Weinstock"
   ],
   "cell_type": "markdown",
   "metadata": {}
  },
  {
   "source": [
    "## Business Understanding\n",
    "\n",
    "#### Missing data (or missing values) occur with no data value is stored for a variable in an observation. Missing data are a common occurrence and can have a significant effect on the conclusions that can be drawn from the data. Missing data can present different types of problems when performing analysis. First, missing data reduces statistical power, which refers to the probability that the hypothesis test will reject the null hypothesis when it is false. Second, missing data can cause bias in the estimations of parameters. Third, the representativeness of the sample used in analysis is reduced by missing data. Fourth, missing data may complicate the analysis by forcing the analyst to make assumptions on how to work with the data. Each of these distortions may threaten the validity of the conclusions.\n",
    "\n",
    "#### There are three types of missing data that typically occur in data sets. The definitions of these three types is based on the reasons the data is missing.\n",
    "\n",
    "#### Missing completely at random (MCAR) is defined as data that is missing without any specific reason; that is if the events that lead to any particular data being missing are independent both of observable variables and unobservable parameters of interest, and are entirely at random. MCAR data does allow any analysis to be unbiased given the random nature of the missing values. In practice, MCAR data is rare.\n",
    "\n",
    "#### Missing at random (MAR) occurs whe the missingness of the data is not random, but when it can be fully accounted for by observations with complete information. An example, of MAR would be a study on IQ and income, if participants with above average IQs tend to skip questions related to salary, analysis that do not take this into account may find a false relationship between IQ and salary. MAR data can introduce parameter bias if not detected. \n",
    "\n",
    "#### Missing not at random (MNAR) data occurs when there is a reason the data is missing. Extending on the example above if those with high IQs failed to answer the salary questions because of their IQ's the missingness of the salary data could be classified as MNAR\n",
    "\n",
    "#### Over the course of this report we will leverage the California Housing data set provided as a part of the SKLearn package to show the impacts of these types of missing data on analysis. A baseline linear regression model will be built on the data set. Then the various missing data classifications will be executed on the data and the model re-evaluated to show the impacts on the model when compared to the baseline model. "
   ],
   "cell_type": "markdown",
   "metadata": {}
  },
  {
   "source": [
    "## Data Analysis\n",
    "\n",
    "#### The California Housing data set is provided as part of the SKLearn package. Based on the description from the SKLearn website (https://scikit-learn.org/stable/datasets/index.html#real-world-datasets) the data set was obtained from the StatLib repository. The data set was derived from the 1990 US census. Each row in the data set is equal to a census block group. A block group is the smallest geographical unit that the US Census Bureau publishes sample data. The typical population in a block group is between 600 and 3000 people. The dataset contains 20,640 samples, 8 continuous features and no missing values. The features defined in the data are:\n",
    "\n",
    "    * MedInc - Median Income in block\n",
    "    * HouseAge - Median house age in block\n",
    "    * AveRooms - Average number of rooms\n",
    "    * AveBedrms - Average number of bedrooms\n",
    "    * Population - Block population\n",
    "    * AveOccup - Average house occupancy\n",
    "    * Latitude - House Block Latitude\n",
    "    * Longitude - House Block Longitude\n",
    "\n",
    "#### After loading the data set summary statistics are gathered for a quick analysis. The target variable is not initially inluded in the dataset and has been combined into the dataframe to obtain summary statistics.\n",
    "\n",
    "#### A quick review of these summary statistics shows that for the most part values seem reasonable. The counts in each feature column match the counts specified by the SKLearn library definition. Max values on a few columns (AveRooms, AveBedrms, and AveOccup) look suspect as they seem extremely high. These may need further investigation."
   ],
   "cell_type": "markdown",
   "metadata": {}
  },
  {
   "cell_type": "code",
   "execution_count": 2,
   "metadata": {},
   "outputs": [],
   "source": [
    "import numpy as np\n",
    "import os\n",
    "import tarfile\n",
    "import pandas as pd\n",
    "from sklearn.datasets import california_housing\n",
    "import seaborn as sns\n",
    "from sklearn.model_selection import train_test_split\n",
    "from sklearn.linear_model import LinearRegression\n",
    "from sklearn.metrics import r2_score,adjusted_rand_score\n",
    "from sklearn.impute import SimpleImputer \n",
    "%matplotlib inline"
   ]
  },
  {
   "cell_type": "code",
   "execution_count": 3,
   "metadata": {},
   "outputs": [],
   "source": [
    "# download data and store to a data frame\n",
    "data = california_housing.fetch_california_housing()\n",
    "df = pd.DataFrame(data= data.data, columns=data.feature_names)\n",
    "\n",
    "# Note that we're missing the prices column\n",
    "# df.describe()    \n",
    "# df.head(5)"
   ]
  },
  {
   "cell_type": "code",
   "execution_count": 4,
   "metadata": {},
   "outputs": [],
   "source": [
    "# Fetch prices from the dataset\n",
    "p=data.target\n",
    "#p"
   ]
  },
  {
   "cell_type": "code",
   "execution_count": 5,
   "metadata": {},
   "outputs": [],
   "source": [
    "#converting prices to it's own dataframe for use later on in the split\n",
    "p_df=pd.DataFrame({\"prices\":p})\n",
    "#p_df.head()"
   ]
  },
  {
   "cell_type": "code",
   "execution_count": 6,
   "metadata": {},
   "outputs": [],
   "source": [
    "#concatenating both dataframes to get the complete dataset\n",
    "calf_hous_df = pd.concat([df,p_df],axis=1)"
   ]
  },
  {
   "cell_type": "code",
   "execution_count": 7,
   "metadata": {},
   "outputs": [
    {
     "output_type": "execute_result",
     "data": {
      "text/plain": [
       "             MedInc      HouseAge      AveRooms     AveBedrms    Population  \\\n",
       "count  20640.000000  20640.000000  20640.000000  20640.000000  20640.000000   \n",
       "mean       3.870671     28.639486      5.429000      1.096675   1425.476744   \n",
       "std        1.899822     12.585558      2.474173      0.473911   1132.462122   \n",
       "min        0.499900      1.000000      0.846154      0.333333      3.000000   \n",
       "25%        2.563400     18.000000      4.440716      1.006079    787.000000   \n",
       "50%        3.534800     29.000000      5.229129      1.048780   1166.000000   \n",
       "75%        4.743250     37.000000      6.052381      1.099526   1725.000000   \n",
       "max       15.000100     52.000000    141.909091     34.066667  35682.000000   \n",
       "\n",
       "           AveOccup      Latitude     Longitude        prices  \n",
       "count  20640.000000  20640.000000  20640.000000  20640.000000  \n",
       "mean       3.070655     35.631861   -119.569704      2.068558  \n",
       "std       10.386050      2.135952      2.003532      1.153956  \n",
       "min        0.692308     32.540000   -124.350000      0.149990  \n",
       "25%        2.429741     33.930000   -121.800000      1.196000  \n",
       "50%        2.818116     34.260000   -118.490000      1.797000  \n",
       "75%        3.282261     37.710000   -118.010000      2.647250  \n",
       "max     1243.333333     41.950000   -114.310000      5.000010  "
      ],
      "text/html": "<div>\n<style scoped>\n    .dataframe tbody tr th:only-of-type {\n        vertical-align: middle;\n    }\n\n    .dataframe tbody tr th {\n        vertical-align: top;\n    }\n\n    .dataframe thead th {\n        text-align: right;\n    }\n</style>\n<table border=\"1\" class=\"dataframe\">\n  <thead>\n    <tr style=\"text-align: right;\">\n      <th></th>\n      <th>MedInc</th>\n      <th>HouseAge</th>\n      <th>AveRooms</th>\n      <th>AveBedrms</th>\n      <th>Population</th>\n      <th>AveOccup</th>\n      <th>Latitude</th>\n      <th>Longitude</th>\n      <th>prices</th>\n    </tr>\n  </thead>\n  <tbody>\n    <tr>\n      <th>count</th>\n      <td>20640.000000</td>\n      <td>20640.000000</td>\n      <td>20640.000000</td>\n      <td>20640.000000</td>\n      <td>20640.000000</td>\n      <td>20640.000000</td>\n      <td>20640.000000</td>\n      <td>20640.000000</td>\n      <td>20640.000000</td>\n    </tr>\n    <tr>\n      <th>mean</th>\n      <td>3.870671</td>\n      <td>28.639486</td>\n      <td>5.429000</td>\n      <td>1.096675</td>\n      <td>1425.476744</td>\n      <td>3.070655</td>\n      <td>35.631861</td>\n      <td>-119.569704</td>\n      <td>2.068558</td>\n    </tr>\n    <tr>\n      <th>std</th>\n      <td>1.899822</td>\n      <td>12.585558</td>\n      <td>2.474173</td>\n      <td>0.473911</td>\n      <td>1132.462122</td>\n      <td>10.386050</td>\n      <td>2.135952</td>\n      <td>2.003532</td>\n      <td>1.153956</td>\n    </tr>\n    <tr>\n      <th>min</th>\n      <td>0.499900</td>\n      <td>1.000000</td>\n      <td>0.846154</td>\n      <td>0.333333</td>\n      <td>3.000000</td>\n      <td>0.692308</td>\n      <td>32.540000</td>\n      <td>-124.350000</td>\n      <td>0.149990</td>\n    </tr>\n    <tr>\n      <th>25%</th>\n      <td>2.563400</td>\n      <td>18.000000</td>\n      <td>4.440716</td>\n      <td>1.006079</td>\n      <td>787.000000</td>\n      <td>2.429741</td>\n      <td>33.930000</td>\n      <td>-121.800000</td>\n      <td>1.196000</td>\n    </tr>\n    <tr>\n      <th>50%</th>\n      <td>3.534800</td>\n      <td>29.000000</td>\n      <td>5.229129</td>\n      <td>1.048780</td>\n      <td>1166.000000</td>\n      <td>2.818116</td>\n      <td>34.260000</td>\n      <td>-118.490000</td>\n      <td>1.797000</td>\n    </tr>\n    <tr>\n      <th>75%</th>\n      <td>4.743250</td>\n      <td>37.000000</td>\n      <td>6.052381</td>\n      <td>1.099526</td>\n      <td>1725.000000</td>\n      <td>3.282261</td>\n      <td>37.710000</td>\n      <td>-118.010000</td>\n      <td>2.647250</td>\n    </tr>\n    <tr>\n      <th>max</th>\n      <td>15.000100</td>\n      <td>52.000000</td>\n      <td>141.909091</td>\n      <td>34.066667</td>\n      <td>35682.000000</td>\n      <td>1243.333333</td>\n      <td>41.950000</td>\n      <td>-114.310000</td>\n      <td>5.000010</td>\n    </tr>\n  </tbody>\n</table>\n</div>"
     },
     "metadata": {},
     "execution_count": 7
    }
   ],
   "source": [
    "# Complete dataset\n",
    "calf_hous_df.describe()"
   ]
  },
  {
   "source": [
    "#### Now that summary analysis has been performed on the dataset, a check to verify that are are truly no missing values will occur. As shown below it can be confirmed that there are no missing values in any of the features or target variable of the data set."
   ],
   "cell_type": "markdown",
   "metadata": {}
  },
  {
   "cell_type": "code",
   "execution_count": 8,
   "metadata": {},
   "outputs": [
    {
     "output_type": "execute_result",
     "data": {
      "text/plain": [
       "MedInc        0\n",
       "HouseAge      0\n",
       "AveRooms      0\n",
       "AveBedrms     0\n",
       "Population    0\n",
       "AveOccup      0\n",
       "Latitude      0\n",
       "Longitude     0\n",
       "prices        0\n",
       "dtype: int64"
      ]
     },
     "metadata": {},
     "execution_count": 8
    }
   ],
   "source": [
    "# check for nulls\n",
    "calf_hous_df.isnull().sum()"
   ]
  },
  {
   "cell_type": "markdown",
   "metadata": {},
   "source": [
    "#### As an additional check, data correlation needs to be evaluated. Evaluating correlation allows for teasing out any colinear variables that may need to be removed from the model to improve performance. The heatmap below shows the correlation between features. AveRooms and AveBedrms are potentially collinear and may warrant removal from the model."
   ]
  },
  {
   "cell_type": "code",
   "execution_count": 9,
   "metadata": {},
   "outputs": [
    {
     "output_type": "execute_result",
     "data": {
      "text/plain": [
       "<AxesSubplot:>"
      ]
     },
     "metadata": {},
     "execution_count": 9
    },
    {
     "output_type": "display_data",
     "data": {
      "text/plain": "<Figure size 432x288 with 2 Axes>",
      "image/svg+xml": "<?xml version=\"1.0\" encoding=\"utf-8\" standalone=\"no\"?>\r\n<!DOCTYPE svg PUBLIC \"-//W3C//DTD SVG 1.1//EN\"\r\n  \"http://www.w3.org/Graphics/SVG/1.1/DTD/svg11.dtd\">\r\n<!-- Created with matplotlib (https://matplotlib.org/) -->\r\n<svg height=\"299.212656pt\" version=\"1.1\" viewBox=\"0 0 411.07075 299.212656\" width=\"411.07075pt\" xmlns=\"http://www.w3.org/2000/svg\" xmlns:xlink=\"http://www.w3.org/1999/xlink\">\r\n <metadata>\r\n  <rdf:RDF xmlns:cc=\"http://creativecommons.org/ns#\" xmlns:dc=\"http://purl.org/dc/elements/1.1/\" xmlns:rdf=\"http://www.w3.org/1999/02/22-rdf-syntax-ns#\">\r\n   <cc:Work>\r\n    <dc:type rdf:resource=\"http://purl.org/dc/dcmitype/StillImage\"/>\r\n    <dc:date>2020-11-01T21:14:22.850913</dc:date>\r\n    <dc:format>image/svg+xml</dc:format>\r\n    <dc:creator>\r\n     <cc:Agent>\r\n      <dc:title>Matplotlib v3.3.2, https://matplotlib.org/</dc:title>\r\n     </cc:Agent>\r\n    </dc:creator>\r\n   </cc:Work>\r\n  </rdf:RDF>\r\n </metadata>\r\n <defs>\r\n  <style type=\"text/css\">*{stroke-linecap:butt;stroke-linejoin:round;}</style>\r\n </defs>\r\n <g id=\"figure_1\">\r\n  <g id=\"patch_1\">\r\n   <path d=\"M 0 299.212656 \r\nL 411.07075 299.212656 \r\nL 411.07075 0 \r\nL 0 0 \r\nz\r\n\" style=\"fill:none;\"/>\r\n  </g>\r\n  <g id=\"axes_1\">\r\n   <g id=\"patch_2\">\r\n    <path d=\"M 70.773438 228.439219 \r\nL 338.613438 228.439219 \r\nL 338.613438 10.999219 \r\nL 70.773438 10.999219 \r\nz\r\n\" style=\"fill:#ffffff;\"/>\r\n   </g>\r\n   <g id=\"QuadMesh_1\">\r\n    <path clip-path=\"url(#p3689663a9c)\" d=\"M 70.773438 10.999219 \r\nL 104.253438 10.999219 \r\nL 104.253438 38.179219 \r\nL 70.773438 38.179219 \r\nL 70.773438 10.999219 \r\n\" style=\"fill:#faebdd;\"/>\r\n    <path clip-path=\"url(#p3689663a9c)\" d=\"M 104.253438 10.999219 \r\nL 137.733438 10.999219 \r\nL 137.733438 38.179219 \r\nL 104.253438 38.179219 \r\nL 104.253438 10.999219 \r\n\" style=\"fill:#aa185a;\"/>\r\n    <path clip-path=\"url(#p3689663a9c)\" d=\"M 137.733438 10.999219 \r\nL 171.213437 10.999219 \r\nL 171.213437 38.179219 \r\nL 137.733438 38.179219 \r\nL 137.733438 10.999219 \r\n\" style=\"fill:#ef5840;\"/>\r\n    <path clip-path=\"url(#p3689663a9c)\" d=\"M 171.213437 10.999219 \r\nL 204.693438 10.999219 \r\nL 204.693438 38.179219 \r\nL 171.213437 38.179219 \r\nL 171.213437 10.999219 \r\n\" style=\"fill:#b51657;\"/>\r\n    <path clip-path=\"url(#p3689663a9c)\" d=\"M 204.693438 10.999219 \r\nL 238.173438 10.999219 \r\nL 238.173438 38.179219 \r\nL 204.693438 38.179219 \r\nL 204.693438 10.999219 \r\n\" style=\"fill:#c41753;\"/>\r\n    <path clip-path=\"url(#p3689663a9c)\" d=\"M 238.173438 10.999219 \r\nL 271.653437 10.999219 \r\nL 271.653437 38.179219 \r\nL 238.173438 38.179219 \r\nL 238.173438 10.999219 \r\n\" style=\"fill:#c71951;\"/>\r\n    <path clip-path=\"url(#p3689663a9c)\" d=\"M 271.653437 10.999219 \r\nL 305.133438 10.999219 \r\nL 305.133438 38.179219 \r\nL 271.653437 38.179219 \r\nL 271.653437 10.999219 \r\n\" style=\"fill:#b21758;\"/>\r\n    <path clip-path=\"url(#p3689663a9c)\" d=\"M 305.133438 10.999219 \r\nL 338.613438 10.999219 \r\nL 338.613438 38.179219 \r\nL 305.133438 38.179219 \r\nL 305.133438 10.999219 \r\n\" style=\"fill:#bf1654;\"/>\r\n    <path clip-path=\"url(#p3689663a9c)\" d=\"M 70.773438 38.179219 \r\nL 104.253438 38.179219 \r\nL 104.253438 65.359219 \r\nL 70.773438 65.359219 \r\nL 70.773438 38.179219 \r\n\" style=\"fill:#aa185a;\"/>\r\n    <path clip-path=\"url(#p3689663a9c)\" d=\"M 104.253438 38.179219 \r\nL 137.733438 38.179219 \r\nL 137.733438 65.359219 \r\nL 104.253438 65.359219 \r\nL 104.253438 38.179219 \r\n\" style=\"fill:#faebdd;\"/>\r\n    <path clip-path=\"url(#p3689663a9c)\" d=\"M 137.733438 38.179219 \r\nL 171.213437 38.179219 \r\nL 171.213437 65.359219 \r\nL 137.733438 65.359219 \r\nL 137.733438 38.179219 \r\n\" style=\"fill:#a11a5b;\"/>\r\n    <path clip-path=\"url(#p3689663a9c)\" d=\"M 171.213437 38.179219 \r\nL 204.693438 38.179219 \r\nL 204.693438 65.359219 \r\nL 171.213437 65.359219 \r\nL 171.213437 38.179219 \r\n\" style=\"fill:#b21758;\"/>\r\n    <path clip-path=\"url(#p3689663a9c)\" d=\"M 204.693438 38.179219 \r\nL 238.173438 38.179219 \r\nL 238.173438 65.359219 \r\nL 204.693438 65.359219 \r\nL 204.693438 38.179219 \r\n\" style=\"fill:#811e5a;\"/>\r\n    <path clip-path=\"url(#p3689663a9c)\" d=\"M 238.173438 38.179219 \r\nL 271.653437 38.179219 \r\nL 271.653437 65.359219 \r\nL 238.173438 65.359219 \r\nL 238.173438 38.179219 \r\n\" style=\"fill:#c51852;\"/>\r\n    <path clip-path=\"url(#p3689663a9c)\" d=\"M 271.653437 38.179219 \r\nL 305.133438 38.179219 \r\nL 305.133438 65.359219 \r\nL 271.653437 65.359219 \r\nL 271.653437 38.179219 \r\n\" style=\"fill:#c51852;\"/>\r\n    <path clip-path=\"url(#p3689663a9c)\" d=\"M 305.133438 38.179219 \r\nL 338.613438 38.179219 \r\nL 338.613438 65.359219 \r\nL 305.133438 65.359219 \r\nL 305.133438 38.179219 \r\n\" style=\"fill:#ab185a;\"/>\r\n    <path clip-path=\"url(#p3689663a9c)\" d=\"M 70.773438 65.359219 \r\nL 104.253438 65.359219 \r\nL 104.253438 92.539219 \r\nL 70.773438 92.539219 \r\nL 70.773438 65.359219 \r\n\" style=\"fill:#ef5840;\"/>\r\n    <path clip-path=\"url(#p3689663a9c)\" d=\"M 104.253438 65.359219 \r\nL 137.733438 65.359219 \r\nL 137.733438 92.539219 \r\nL 104.253438 92.539219 \r\nL 104.253438 65.359219 \r\n\" style=\"fill:#a11a5b;\"/>\r\n    <path clip-path=\"url(#p3689663a9c)\" d=\"M 137.733438 65.359219 \r\nL 171.213437 65.359219 \r\nL 171.213437 92.539219 \r\nL 137.733438 92.539219 \r\nL 137.733438 65.359219 \r\n\" style=\"fill:#faebdd;\"/>\r\n    <path clip-path=\"url(#p3689663a9c)\" d=\"M 171.213437 65.359219 \r\nL 204.693438 65.359219 \r\nL 204.693438 92.539219 \r\nL 171.213437 92.539219 \r\nL 171.213437 65.359219 \r\n\" style=\"fill:#f7cdb1;\"/>\r\n    <path clip-path=\"url(#p3689663a9c)\" d=\"M 204.693438 65.359219 \r\nL 238.173438 65.359219 \r\nL 238.173438 92.539219 \r\nL 204.693438 92.539219 \r\nL 204.693438 65.359219 \r\n\" style=\"fill:#b41658;\"/>\r\n    <path clip-path=\"url(#p3689663a9c)\" d=\"M 238.173438 65.359219 \r\nL 271.653437 65.359219 \r\nL 271.653437 92.539219 \r\nL 238.173438 92.539219 \r\nL 238.173438 65.359219 \r\n\" style=\"fill:#c21753;\"/>\r\n    <path clip-path=\"url(#p3689663a9c)\" d=\"M 271.653437 65.359219 \r\nL 305.133438 65.359219 \r\nL 305.133438 92.539219 \r\nL 271.653437 92.539219 \r\nL 271.653437 65.359219 \r\n\" style=\"fill:#d72549;\"/>\r\n    <path clip-path=\"url(#p3689663a9c)\" d=\"M 305.133438 65.359219 \r\nL 338.613438 65.359219 \r\nL 338.613438 92.539219 \r\nL 305.133438 92.539219 \r\nL 305.133438 65.359219 \r\n\" style=\"fill:#bd1655;\"/>\r\n    <path clip-path=\"url(#p3689663a9c)\" d=\"M 70.773438 92.539219 \r\nL 104.253438 92.539219 \r\nL 104.253438 119.719219 \r\nL 70.773438 119.719219 \r\nL 70.773438 92.539219 \r\n\" style=\"fill:#b51657;\"/>\r\n    <path clip-path=\"url(#p3689663a9c)\" d=\"M 104.253438 92.539219 \r\nL 137.733438 92.539219 \r\nL 137.733438 119.719219 \r\nL 104.253438 119.719219 \r\nL 104.253438 92.539219 \r\n\" style=\"fill:#b21758;\"/>\r\n    <path clip-path=\"url(#p3689663a9c)\" d=\"M 137.733438 92.539219 \r\nL 171.213437 92.539219 \r\nL 171.213437 119.719219 \r\nL 137.733438 119.719219 \r\nL 137.733438 92.539219 \r\n\" style=\"fill:#f7cdb1;\"/>\r\n    <path clip-path=\"url(#p3689663a9c)\" d=\"M 171.213437 92.539219 \r\nL 204.693438 92.539219 \r\nL 204.693438 119.719219 \r\nL 171.213437 119.719219 \r\nL 171.213437 92.539219 \r\n\" style=\"fill:#faebdd;\"/>\r\n    <path clip-path=\"url(#p3689663a9c)\" d=\"M 204.693438 92.539219 \r\nL 238.173438 92.539219 \r\nL 238.173438 119.719219 \r\nL 204.693438 119.719219 \r\nL 204.693438 92.539219 \r\n\" style=\"fill:#b51657;\"/>\r\n    <path clip-path=\"url(#p3689663a9c)\" d=\"M 238.173438 92.539219 \r\nL 271.653437 92.539219 \r\nL 271.653437 119.719219 \r\nL 238.173438 119.719219 \r\nL 238.173438 92.539219 \r\n\" style=\"fill:#c21753;\"/>\r\n    <path clip-path=\"url(#p3689663a9c)\" d=\"M 271.653437 92.539219 \r\nL 305.133438 92.539219 \r\nL 305.133438 119.719219 \r\nL 271.653437 119.719219 \r\nL 271.653437 92.539219 \r\n\" style=\"fill:#d11f4c;\"/>\r\n    <path clip-path=\"url(#p3689663a9c)\" d=\"M 305.133438 92.539219 \r\nL 338.613438 92.539219 \r\nL 338.613438 119.719219 \r\nL 305.133438 119.719219 \r\nL 305.133438 92.539219 \r\n\" style=\"fill:#c51852;\"/>\r\n    <path clip-path=\"url(#p3689663a9c)\" d=\"M 70.773438 119.719219 \r\nL 104.253438 119.719219 \r\nL 104.253438 146.899219 \r\nL 70.773438 146.899219 \r\nL 70.773438 119.719219 \r\n\" style=\"fill:#c41753;\"/>\r\n    <path clip-path=\"url(#p3689663a9c)\" d=\"M 104.253438 119.719219 \r\nL 137.733438 119.719219 \r\nL 137.733438 146.899219 \r\nL 104.253438 146.899219 \r\nL 104.253438 119.719219 \r\n\" style=\"fill:#811e5a;\"/>\r\n    <path clip-path=\"url(#p3689663a9c)\" d=\"M 137.733438 119.719219 \r\nL 171.213437 119.719219 \r\nL 171.213437 146.899219 \r\nL 137.733438 146.899219 \r\nL 137.733438 119.719219 \r\n\" style=\"fill:#b41658;\"/>\r\n    <path clip-path=\"url(#p3689663a9c)\" d=\"M 171.213437 119.719219 \r\nL 204.693438 119.719219 \r\nL 204.693438 146.899219 \r\nL 171.213437 146.899219 \r\nL 171.213437 119.719219 \r\n\" style=\"fill:#b51657;\"/>\r\n    <path clip-path=\"url(#p3689663a9c)\" d=\"M 204.693438 119.719219 \r\nL 238.173438 119.719219 \r\nL 238.173438 146.899219 \r\nL 204.693438 146.899219 \r\nL 204.693438 119.719219 \r\n\" style=\"fill:#faebdd;\"/>\r\n    <path clip-path=\"url(#p3689663a9c)\" d=\"M 238.173438 119.719219 \r\nL 271.653437 119.719219 \r\nL 271.653437 146.899219 \r\nL 238.173438 146.899219 \r\nL 238.173438 119.719219 \r\n\" style=\"fill:#d11f4c;\"/>\r\n    <path clip-path=\"url(#p3689663a9c)\" d=\"M 271.653437 119.719219 \r\nL 305.133438 119.719219 \r\nL 305.133438 146.899219 \r\nL 271.653437 146.899219 \r\nL 271.653437 119.719219 \r\n\" style=\"fill:#ab185a;\"/>\r\n    <path clip-path=\"url(#p3689663a9c)\" d=\"M 305.133438 119.719219 \r\nL 338.613438 119.719219 \r\nL 338.613438 146.899219 \r\nL 305.133438 146.899219 \r\nL 305.133438 119.719219 \r\n\" style=\"fill:#d62449;\"/>\r\n    <path clip-path=\"url(#p3689663a9c)\" d=\"M 70.773438 146.899219 \r\nL 104.253438 146.899219 \r\nL 104.253438 174.079219 \r\nL 70.773438 174.079219 \r\nL 70.773438 146.899219 \r\n\" style=\"fill:#c71951;\"/>\r\n    <path clip-path=\"url(#p3689663a9c)\" d=\"M 104.253438 146.899219 \r\nL 137.733438 146.899219 \r\nL 137.733438 174.079219 \r\nL 104.253438 174.079219 \r\nL 104.253438 146.899219 \r\n\" style=\"fill:#c51852;\"/>\r\n    <path clip-path=\"url(#p3689663a9c)\" d=\"M 137.733438 146.899219 \r\nL 171.213437 146.899219 \r\nL 171.213437 174.079219 \r\nL 137.733438 174.079219 \r\nL 137.733438 146.899219 \r\n\" style=\"fill:#c21753;\"/>\r\n    <path clip-path=\"url(#p3689663a9c)\" d=\"M 171.213437 146.899219 \r\nL 204.693438 146.899219 \r\nL 204.693438 174.079219 \r\nL 171.213437 174.079219 \r\nL 171.213437 146.899219 \r\n\" style=\"fill:#c21753;\"/>\r\n    <path clip-path=\"url(#p3689663a9c)\" d=\"M 204.693438 146.899219 \r\nL 238.173438 146.899219 \r\nL 238.173438 174.079219 \r\nL 204.693438 174.079219 \r\nL 204.693438 146.899219 \r\n\" style=\"fill:#d11f4c;\"/>\r\n    <path clip-path=\"url(#p3689663a9c)\" d=\"M 238.173438 146.899219 \r\nL 271.653437 146.899219 \r\nL 271.653437 174.079219 \r\nL 238.173438 174.079219 \r\nL 238.173438 146.899219 \r\n\" style=\"fill:#faebdd;\"/>\r\n    <path clip-path=\"url(#p3689663a9c)\" d=\"M 271.653437 146.899219 \r\nL 305.133438 146.899219 \r\nL 305.133438 174.079219 \r\nL 271.653437 174.079219 \r\nL 271.653437 146.899219 \r\n\" style=\"fill:#c41753;\"/>\r\n    <path clip-path=\"url(#p3689663a9c)\" d=\"M 305.133438 146.899219 \r\nL 338.613438 146.899219 \r\nL 338.613438 174.079219 \r\nL 305.133438 174.079219 \r\nL 305.133438 146.899219 \r\n\" style=\"fill:#c41753;\"/>\r\n    <path clip-path=\"url(#p3689663a9c)\" d=\"M 70.773438 174.079219 \r\nL 104.253438 174.079219 \r\nL 104.253438 201.259219 \r\nL 70.773438 201.259219 \r\nL 70.773438 174.079219 \r\n\" style=\"fill:#b21758;\"/>\r\n    <path clip-path=\"url(#p3689663a9c)\" d=\"M 104.253438 174.079219 \r\nL 137.733438 174.079219 \r\nL 137.733438 201.259219 \r\nL 104.253438 201.259219 \r\nL 104.253438 174.079219 \r\n\" style=\"fill:#c51852;\"/>\r\n    <path clip-path=\"url(#p3689663a9c)\" d=\"M 137.733438 174.079219 \r\nL 171.213437 174.079219 \r\nL 171.213437 201.259219 \r\nL 137.733438 201.259219 \r\nL 137.733438 174.079219 \r\n\" style=\"fill:#d72549;\"/>\r\n    <path clip-path=\"url(#p3689663a9c)\" d=\"M 171.213437 174.079219 \r\nL 204.693438 174.079219 \r\nL 204.693438 201.259219 \r\nL 171.213437 201.259219 \r\nL 171.213437 174.079219 \r\n\" style=\"fill:#d11f4c;\"/>\r\n    <path clip-path=\"url(#p3689663a9c)\" d=\"M 204.693438 174.079219 \r\nL 238.173438 174.079219 \r\nL 238.173438 201.259219 \r\nL 204.693438 201.259219 \r\nL 204.693438 174.079219 \r\n\" style=\"fill:#ab185a;\"/>\r\n    <path clip-path=\"url(#p3689663a9c)\" d=\"M 238.173438 174.079219 \r\nL 271.653437 174.079219 \r\nL 271.653437 201.259219 \r\nL 238.173438 201.259219 \r\nL 238.173438 174.079219 \r\n\" style=\"fill:#c41753;\"/>\r\n    <path clip-path=\"url(#p3689663a9c)\" d=\"M 271.653437 174.079219 \r\nL 305.133438 174.079219 \r\nL 305.133438 201.259219 \r\nL 271.653437 201.259219 \r\nL 271.653437 174.079219 \r\n\" style=\"fill:#faebdd;\"/>\r\n    <path clip-path=\"url(#p3689663a9c)\" d=\"M 305.133438 174.079219 \r\nL 338.613438 174.079219 \r\nL 338.613438 201.259219 \r\nL 305.133438 201.259219 \r\nL 305.133438 174.079219 \r\n\" style=\"fill:#03051a;\"/>\r\n    <path clip-path=\"url(#p3689663a9c)\" d=\"M 70.773438 201.259219 \r\nL 104.253438 201.259219 \r\nL 104.253438 228.439219 \r\nL 70.773438 228.439219 \r\nL 70.773438 201.259219 \r\n\" style=\"fill:#bf1654;\"/>\r\n    <path clip-path=\"url(#p3689663a9c)\" d=\"M 104.253438 201.259219 \r\nL 137.733438 201.259219 \r\nL 137.733438 228.439219 \r\nL 104.253438 228.439219 \r\nL 104.253438 201.259219 \r\n\" style=\"fill:#ab185a;\"/>\r\n    <path clip-path=\"url(#p3689663a9c)\" d=\"M 137.733438 201.259219 \r\nL 171.213437 201.259219 \r\nL 171.213437 228.439219 \r\nL 137.733438 228.439219 \r\nL 137.733438 201.259219 \r\n\" style=\"fill:#bd1655;\"/>\r\n    <path clip-path=\"url(#p3689663a9c)\" d=\"M 171.213437 201.259219 \r\nL 204.693438 201.259219 \r\nL 204.693438 228.439219 \r\nL 171.213437 228.439219 \r\nL 171.213437 201.259219 \r\n\" style=\"fill:#c51852;\"/>\r\n    <path clip-path=\"url(#p3689663a9c)\" d=\"M 204.693438 201.259219 \r\nL 238.173438 201.259219 \r\nL 238.173438 228.439219 \r\nL 204.693438 228.439219 \r\nL 204.693438 201.259219 \r\n\" style=\"fill:#d62449;\"/>\r\n    <path clip-path=\"url(#p3689663a9c)\" d=\"M 238.173438 201.259219 \r\nL 271.653437 201.259219 \r\nL 271.653437 228.439219 \r\nL 238.173438 228.439219 \r\nL 238.173438 201.259219 \r\n\" style=\"fill:#c41753;\"/>\r\n    <path clip-path=\"url(#p3689663a9c)\" d=\"M 271.653437 201.259219 \r\nL 305.133438 201.259219 \r\nL 305.133438 228.439219 \r\nL 271.653437 228.439219 \r\nL 271.653437 201.259219 \r\n\" style=\"fill:#03051a;\"/>\r\n    <path clip-path=\"url(#p3689663a9c)\" d=\"M 305.133438 201.259219 \r\nL 338.613438 201.259219 \r\nL 338.613438 228.439219 \r\nL 305.133438 228.439219 \r\nL 305.133438 201.259219 \r\n\" style=\"fill:#faebdd;\"/>\r\n   </g>\r\n   <g id=\"matplotlib.axis_1\">\r\n    <g id=\"xtick_1\">\r\n     <g id=\"line2d_1\">\r\n      <defs>\r\n       <path d=\"M 0 0 \r\nL 0 3.5 \r\n\" id=\"m547d4713d5\" style=\"stroke:#000000;stroke-width:0.8;\"/>\r\n      </defs>\r\n      <g>\r\n       <use style=\"stroke:#000000;stroke-width:0.8;\" x=\"87.513438\" xlink:href=\"#m547d4713d5\" y=\"228.439219\"/>\r\n      </g>\r\n     </g>\r\n     <g id=\"text_1\">\r\n      <!-- MedInc -->\r\n      <g transform=\"translate(90.272813 271.354844)rotate(-90)scale(0.1 -0.1)\">\r\n       <defs>\r\n        <path d=\"M 9.8125 72.90625 \r\nL 24.515625 72.90625 \r\nL 43.109375 23.296875 \r\nL 61.8125 72.90625 \r\nL 76.515625 72.90625 \r\nL 76.515625 0 \r\nL 66.890625 0 \r\nL 66.890625 64.015625 \r\nL 48.09375 14.015625 \r\nL 38.1875 14.015625 \r\nL 19.390625 64.015625 \r\nL 19.390625 0 \r\nL 9.8125 0 \r\nz\r\n\" id=\"DejaVuSans-77\"/>\r\n        <path d=\"M 56.203125 29.59375 \r\nL 56.203125 25.203125 \r\nL 14.890625 25.203125 \r\nQ 15.484375 15.921875 20.484375 11.0625 \r\nQ 25.484375 6.203125 34.421875 6.203125 \r\nQ 39.59375 6.203125 44.453125 7.46875 \r\nQ 49.3125 8.734375 54.109375 11.28125 \r\nL 54.109375 2.78125 \r\nQ 49.265625 0.734375 44.1875 -0.34375 \r\nQ 39.109375 -1.421875 33.890625 -1.421875 \r\nQ 20.796875 -1.421875 13.15625 6.1875 \r\nQ 5.515625 13.8125 5.515625 26.8125 \r\nQ 5.515625 40.234375 12.765625 48.109375 \r\nQ 20.015625 56 32.328125 56 \r\nQ 43.359375 56 49.78125 48.890625 \r\nQ 56.203125 41.796875 56.203125 29.59375 \r\nz\r\nM 47.21875 32.234375 \r\nQ 47.125 39.59375 43.09375 43.984375 \r\nQ 39.0625 48.390625 32.421875 48.390625 \r\nQ 24.90625 48.390625 20.390625 44.140625 \r\nQ 15.875 39.890625 15.1875 32.171875 \r\nz\r\n\" id=\"DejaVuSans-101\"/>\r\n        <path d=\"M 45.40625 46.390625 \r\nL 45.40625 75.984375 \r\nL 54.390625 75.984375 \r\nL 54.390625 0 \r\nL 45.40625 0 \r\nL 45.40625 8.203125 \r\nQ 42.578125 3.328125 38.25 0.953125 \r\nQ 33.9375 -1.421875 27.875 -1.421875 \r\nQ 17.96875 -1.421875 11.734375 6.484375 \r\nQ 5.515625 14.40625 5.515625 27.296875 \r\nQ 5.515625 40.1875 11.734375 48.09375 \r\nQ 17.96875 56 27.875 56 \r\nQ 33.9375 56 38.25 53.625 \r\nQ 42.578125 51.265625 45.40625 46.390625 \r\nz\r\nM 14.796875 27.296875 \r\nQ 14.796875 17.390625 18.875 11.75 \r\nQ 22.953125 6.109375 30.078125 6.109375 \r\nQ 37.203125 6.109375 41.296875 11.75 \r\nQ 45.40625 17.390625 45.40625 27.296875 \r\nQ 45.40625 37.203125 41.296875 42.84375 \r\nQ 37.203125 48.484375 30.078125 48.484375 \r\nQ 22.953125 48.484375 18.875 42.84375 \r\nQ 14.796875 37.203125 14.796875 27.296875 \r\nz\r\n\" id=\"DejaVuSans-100\"/>\r\n        <path d=\"M 9.8125 72.90625 \r\nL 19.671875 72.90625 \r\nL 19.671875 0 \r\nL 9.8125 0 \r\nz\r\n\" id=\"DejaVuSans-73\"/>\r\n        <path d=\"M 54.890625 33.015625 \r\nL 54.890625 0 \r\nL 45.90625 0 \r\nL 45.90625 32.71875 \r\nQ 45.90625 40.484375 42.875 44.328125 \r\nQ 39.84375 48.1875 33.796875 48.1875 \r\nQ 26.515625 48.1875 22.3125 43.546875 \r\nQ 18.109375 38.921875 18.109375 30.90625 \r\nL 18.109375 0 \r\nL 9.078125 0 \r\nL 9.078125 54.6875 \r\nL 18.109375 54.6875 \r\nL 18.109375 46.1875 \r\nQ 21.34375 51.125 25.703125 53.5625 \r\nQ 30.078125 56 35.796875 56 \r\nQ 45.21875 56 50.046875 50.171875 \r\nQ 54.890625 44.34375 54.890625 33.015625 \r\nz\r\n\" id=\"DejaVuSans-110\"/>\r\n        <path d=\"M 48.78125 52.59375 \r\nL 48.78125 44.1875 \r\nQ 44.96875 46.296875 41.140625 47.34375 \r\nQ 37.3125 48.390625 33.40625 48.390625 \r\nQ 24.65625 48.390625 19.8125 42.84375 \r\nQ 14.984375 37.3125 14.984375 27.296875 \r\nQ 14.984375 17.28125 19.8125 11.734375 \r\nQ 24.65625 6.203125 33.40625 6.203125 \r\nQ 37.3125 6.203125 41.140625 7.25 \r\nQ 44.96875 8.296875 48.78125 10.40625 \r\nL 48.78125 2.09375 \r\nQ 45.015625 0.34375 40.984375 -0.53125 \r\nQ 36.96875 -1.421875 32.421875 -1.421875 \r\nQ 20.0625 -1.421875 12.78125 6.34375 \r\nQ 5.515625 14.109375 5.515625 27.296875 \r\nQ 5.515625 40.671875 12.859375 48.328125 \r\nQ 20.21875 56 33.015625 56 \r\nQ 37.15625 56 41.109375 55.140625 \r\nQ 45.0625 54.296875 48.78125 52.59375 \r\nz\r\n\" id=\"DejaVuSans-99\"/>\r\n       </defs>\r\n       <use xlink:href=\"#DejaVuSans-77\"/>\r\n       <use x=\"86.279297\" xlink:href=\"#DejaVuSans-101\"/>\r\n       <use x=\"147.802734\" xlink:href=\"#DejaVuSans-100\"/>\r\n       <use x=\"211.279297\" xlink:href=\"#DejaVuSans-73\"/>\r\n       <use x=\"240.771484\" xlink:href=\"#DejaVuSans-110\"/>\r\n       <use x=\"304.150391\" xlink:href=\"#DejaVuSans-99\"/>\r\n      </g>\r\n     </g>\r\n    </g>\r\n    <g id=\"xtick_2\">\r\n     <g id=\"line2d_2\">\r\n      <g>\r\n       <use style=\"stroke:#000000;stroke-width:0.8;\" x=\"120.993437\" xlink:href=\"#m547d4713d5\" y=\"228.439219\"/>\r\n      </g>\r\n     </g>\r\n     <g id=\"text_2\">\r\n      <!-- HouseAge -->\r\n      <g transform=\"translate(123.752813 286.120469)rotate(-90)scale(0.1 -0.1)\">\r\n       <defs>\r\n        <path d=\"M 9.8125 72.90625 \r\nL 19.671875 72.90625 \r\nL 19.671875 43.015625 \r\nL 55.515625 43.015625 \r\nL 55.515625 72.90625 \r\nL 65.375 72.90625 \r\nL 65.375 0 \r\nL 55.515625 0 \r\nL 55.515625 34.71875 \r\nL 19.671875 34.71875 \r\nL 19.671875 0 \r\nL 9.8125 0 \r\nz\r\n\" id=\"DejaVuSans-72\"/>\r\n        <path d=\"M 30.609375 48.390625 \r\nQ 23.390625 48.390625 19.1875 42.75 \r\nQ 14.984375 37.109375 14.984375 27.296875 \r\nQ 14.984375 17.484375 19.15625 11.84375 \r\nQ 23.34375 6.203125 30.609375 6.203125 \r\nQ 37.796875 6.203125 41.984375 11.859375 \r\nQ 46.1875 17.53125 46.1875 27.296875 \r\nQ 46.1875 37.015625 41.984375 42.703125 \r\nQ 37.796875 48.390625 30.609375 48.390625 \r\nz\r\nM 30.609375 56 \r\nQ 42.328125 56 49.015625 48.375 \r\nQ 55.71875 40.765625 55.71875 27.296875 \r\nQ 55.71875 13.875 49.015625 6.21875 \r\nQ 42.328125 -1.421875 30.609375 -1.421875 \r\nQ 18.84375 -1.421875 12.171875 6.21875 \r\nQ 5.515625 13.875 5.515625 27.296875 \r\nQ 5.515625 40.765625 12.171875 48.375 \r\nQ 18.84375 56 30.609375 56 \r\nz\r\n\" id=\"DejaVuSans-111\"/>\r\n        <path d=\"M 8.5 21.578125 \r\nL 8.5 54.6875 \r\nL 17.484375 54.6875 \r\nL 17.484375 21.921875 \r\nQ 17.484375 14.15625 20.5 10.265625 \r\nQ 23.53125 6.390625 29.59375 6.390625 \r\nQ 36.859375 6.390625 41.078125 11.03125 \r\nQ 45.3125 15.671875 45.3125 23.6875 \r\nL 45.3125 54.6875 \r\nL 54.296875 54.6875 \r\nL 54.296875 0 \r\nL 45.3125 0 \r\nL 45.3125 8.40625 \r\nQ 42.046875 3.421875 37.71875 1 \r\nQ 33.40625 -1.421875 27.6875 -1.421875 \r\nQ 18.265625 -1.421875 13.375 4.4375 \r\nQ 8.5 10.296875 8.5 21.578125 \r\nz\r\nM 31.109375 56 \r\nz\r\n\" id=\"DejaVuSans-117\"/>\r\n        <path d=\"M 44.28125 53.078125 \r\nL 44.28125 44.578125 \r\nQ 40.484375 46.53125 36.375 47.5 \r\nQ 32.28125 48.484375 27.875 48.484375 \r\nQ 21.1875 48.484375 17.84375 46.4375 \r\nQ 14.5 44.390625 14.5 40.28125 \r\nQ 14.5 37.15625 16.890625 35.375 \r\nQ 19.28125 33.59375 26.515625 31.984375 \r\nL 29.59375 31.296875 \r\nQ 39.15625 29.25 43.1875 25.515625 \r\nQ 47.21875 21.78125 47.21875 15.09375 \r\nQ 47.21875 7.46875 41.1875 3.015625 \r\nQ 35.15625 -1.421875 24.609375 -1.421875 \r\nQ 20.21875 -1.421875 15.453125 -0.5625 \r\nQ 10.6875 0.296875 5.421875 2 \r\nL 5.421875 11.28125 \r\nQ 10.40625 8.6875 15.234375 7.390625 \r\nQ 20.0625 6.109375 24.8125 6.109375 \r\nQ 31.15625 6.109375 34.5625 8.28125 \r\nQ 37.984375 10.453125 37.984375 14.40625 \r\nQ 37.984375 18.0625 35.515625 20.015625 \r\nQ 33.0625 21.96875 24.703125 23.78125 \r\nL 21.578125 24.515625 \r\nQ 13.234375 26.265625 9.515625 29.90625 \r\nQ 5.8125 33.546875 5.8125 39.890625 \r\nQ 5.8125 47.609375 11.28125 51.796875 \r\nQ 16.75 56 26.8125 56 \r\nQ 31.78125 56 36.171875 55.265625 \r\nQ 40.578125 54.546875 44.28125 53.078125 \r\nz\r\n\" id=\"DejaVuSans-115\"/>\r\n        <path d=\"M 34.1875 63.1875 \r\nL 20.796875 26.90625 \r\nL 47.609375 26.90625 \r\nz\r\nM 28.609375 72.90625 \r\nL 39.796875 72.90625 \r\nL 67.578125 0 \r\nL 57.328125 0 \r\nL 50.6875 18.703125 \r\nL 17.828125 18.703125 \r\nL 11.1875 0 \r\nL 0.78125 0 \r\nz\r\n\" id=\"DejaVuSans-65\"/>\r\n        <path d=\"M 45.40625 27.984375 \r\nQ 45.40625 37.75 41.375 43.109375 \r\nQ 37.359375 48.484375 30.078125 48.484375 \r\nQ 22.859375 48.484375 18.828125 43.109375 \r\nQ 14.796875 37.75 14.796875 27.984375 \r\nQ 14.796875 18.265625 18.828125 12.890625 \r\nQ 22.859375 7.515625 30.078125 7.515625 \r\nQ 37.359375 7.515625 41.375 12.890625 \r\nQ 45.40625 18.265625 45.40625 27.984375 \r\nz\r\nM 54.390625 6.78125 \r\nQ 54.390625 -7.171875 48.1875 -13.984375 \r\nQ 42 -20.796875 29.203125 -20.796875 \r\nQ 24.46875 -20.796875 20.265625 -20.09375 \r\nQ 16.0625 -19.390625 12.109375 -17.921875 \r\nL 12.109375 -9.1875 \r\nQ 16.0625 -11.328125 19.921875 -12.34375 \r\nQ 23.78125 -13.375 27.78125 -13.375 \r\nQ 36.625 -13.375 41.015625 -8.765625 \r\nQ 45.40625 -4.15625 45.40625 5.171875 \r\nL 45.40625 9.625 \r\nQ 42.625 4.78125 38.28125 2.390625 \r\nQ 33.9375 0 27.875 0 \r\nQ 17.828125 0 11.671875 7.65625 \r\nQ 5.515625 15.328125 5.515625 27.984375 \r\nQ 5.515625 40.671875 11.671875 48.328125 \r\nQ 17.828125 56 27.875 56 \r\nQ 33.9375 56 38.28125 53.609375 \r\nQ 42.625 51.21875 45.40625 46.390625 \r\nL 45.40625 54.6875 \r\nL 54.390625 54.6875 \r\nz\r\n\" id=\"DejaVuSans-103\"/>\r\n       </defs>\r\n       <use xlink:href=\"#DejaVuSans-72\"/>\r\n       <use x=\"75.195312\" xlink:href=\"#DejaVuSans-111\"/>\r\n       <use x=\"136.376953\" xlink:href=\"#DejaVuSans-117\"/>\r\n       <use x=\"199.755859\" xlink:href=\"#DejaVuSans-115\"/>\r\n       <use x=\"251.855469\" xlink:href=\"#DejaVuSans-101\"/>\r\n       <use x=\"313.378906\" xlink:href=\"#DejaVuSans-65\"/>\r\n       <use x=\"381.787109\" xlink:href=\"#DejaVuSans-103\"/>\r\n       <use x=\"445.263672\" xlink:href=\"#DejaVuSans-101\"/>\r\n      </g>\r\n     </g>\r\n    </g>\r\n    <g id=\"xtick_3\">\r\n     <g id=\"line2d_3\">\r\n      <g>\r\n       <use style=\"stroke:#000000;stroke-width:0.8;\" x=\"154.473438\" xlink:href=\"#m547d4713d5\" y=\"228.439219\"/>\r\n      </g>\r\n     </g>\r\n     <g id=\"text_3\">\r\n      <!-- AveRooms -->\r\n      <g transform=\"translate(157.232813 287.450156)rotate(-90)scale(0.1 -0.1)\">\r\n       <defs>\r\n        <path d=\"M 2.984375 54.6875 \r\nL 12.5 54.6875 \r\nL 29.59375 8.796875 \r\nL 46.6875 54.6875 \r\nL 56.203125 54.6875 \r\nL 35.6875 0 \r\nL 23.484375 0 \r\nz\r\n\" id=\"DejaVuSans-118\"/>\r\n        <path d=\"M 44.390625 34.1875 \r\nQ 47.5625 33.109375 50.5625 29.59375 \r\nQ 53.5625 26.078125 56.59375 19.921875 \r\nL 66.609375 0 \r\nL 56 0 \r\nL 46.6875 18.703125 \r\nQ 43.0625 26.03125 39.671875 28.421875 \r\nQ 36.28125 30.8125 30.421875 30.8125 \r\nL 19.671875 30.8125 \r\nL 19.671875 0 \r\nL 9.8125 0 \r\nL 9.8125 72.90625 \r\nL 32.078125 72.90625 \r\nQ 44.578125 72.90625 50.734375 67.671875 \r\nQ 56.890625 62.453125 56.890625 51.90625 \r\nQ 56.890625 45.015625 53.6875 40.46875 \r\nQ 50.484375 35.9375 44.390625 34.1875 \r\nz\r\nM 19.671875 64.796875 \r\nL 19.671875 38.921875 \r\nL 32.078125 38.921875 \r\nQ 39.203125 38.921875 42.84375 42.21875 \r\nQ 46.484375 45.515625 46.484375 51.90625 \r\nQ 46.484375 58.296875 42.84375 61.546875 \r\nQ 39.203125 64.796875 32.078125 64.796875 \r\nz\r\n\" id=\"DejaVuSans-82\"/>\r\n        <path d=\"M 52 44.1875 \r\nQ 55.375 50.25 60.0625 53.125 \r\nQ 64.75 56 71.09375 56 \r\nQ 79.640625 56 84.28125 50.015625 \r\nQ 88.921875 44.046875 88.921875 33.015625 \r\nL 88.921875 0 \r\nL 79.890625 0 \r\nL 79.890625 32.71875 \r\nQ 79.890625 40.578125 77.09375 44.375 \r\nQ 74.3125 48.1875 68.609375 48.1875 \r\nQ 61.625 48.1875 57.5625 43.546875 \r\nQ 53.515625 38.921875 53.515625 30.90625 \r\nL 53.515625 0 \r\nL 44.484375 0 \r\nL 44.484375 32.71875 \r\nQ 44.484375 40.625 41.703125 44.40625 \r\nQ 38.921875 48.1875 33.109375 48.1875 \r\nQ 26.21875 48.1875 22.15625 43.53125 \r\nQ 18.109375 38.875 18.109375 30.90625 \r\nL 18.109375 0 \r\nL 9.078125 0 \r\nL 9.078125 54.6875 \r\nL 18.109375 54.6875 \r\nL 18.109375 46.1875 \r\nQ 21.1875 51.21875 25.484375 53.609375 \r\nQ 29.78125 56 35.6875 56 \r\nQ 41.65625 56 45.828125 52.96875 \r\nQ 50 49.953125 52 44.1875 \r\nz\r\n\" id=\"DejaVuSans-109\"/>\r\n       </defs>\r\n       <use xlink:href=\"#DejaVuSans-65\"/>\r\n       <use x=\"62.533203\" xlink:href=\"#DejaVuSans-118\"/>\r\n       <use x=\"121.712891\" xlink:href=\"#DejaVuSans-101\"/>\r\n       <use x=\"183.236328\" xlink:href=\"#DejaVuSans-82\"/>\r\n       <use x=\"248.21875\" xlink:href=\"#DejaVuSans-111\"/>\r\n       <use x=\"309.400391\" xlink:href=\"#DejaVuSans-111\"/>\r\n       <use x=\"370.582031\" xlink:href=\"#DejaVuSans-109\"/>\r\n       <use x=\"467.994141\" xlink:href=\"#DejaVuSans-115\"/>\r\n      </g>\r\n     </g>\r\n    </g>\r\n    <g id=\"xtick_4\">\r\n     <g id=\"line2d_4\">\r\n      <g>\r\n       <use style=\"stroke:#000000;stroke-width:0.8;\" x=\"187.953438\" xlink:href=\"#m547d4713d5\" y=\"228.439219\"/>\r\n      </g>\r\n     </g>\r\n     <g id=\"text_4\">\r\n      <!-- AveBedrms -->\r\n      <g transform=\"translate(190.712813 292.012656)rotate(-90)scale(0.1 -0.1)\">\r\n       <defs>\r\n        <path d=\"M 19.671875 34.8125 \r\nL 19.671875 8.109375 \r\nL 35.5 8.109375 \r\nQ 43.453125 8.109375 47.28125 11.40625 \r\nQ 51.125 14.703125 51.125 21.484375 \r\nQ 51.125 28.328125 47.28125 31.5625 \r\nQ 43.453125 34.8125 35.5 34.8125 \r\nz\r\nM 19.671875 64.796875 \r\nL 19.671875 42.828125 \r\nL 34.28125 42.828125 \r\nQ 41.5 42.828125 45.03125 45.53125 \r\nQ 48.578125 48.25 48.578125 53.8125 \r\nQ 48.578125 59.328125 45.03125 62.0625 \r\nQ 41.5 64.796875 34.28125 64.796875 \r\nz\r\nM 9.8125 72.90625 \r\nL 35.015625 72.90625 \r\nQ 46.296875 72.90625 52.390625 68.21875 \r\nQ 58.5 63.53125 58.5 54.890625 \r\nQ 58.5 48.1875 55.375 44.234375 \r\nQ 52.25 40.28125 46.1875 39.3125 \r\nQ 53.46875 37.75 57.5 32.78125 \r\nQ 61.53125 27.828125 61.53125 20.40625 \r\nQ 61.53125 10.640625 54.890625 5.3125 \r\nQ 48.25 0 35.984375 0 \r\nL 9.8125 0 \r\nz\r\n\" id=\"DejaVuSans-66\"/>\r\n        <path d=\"M 41.109375 46.296875 \r\nQ 39.59375 47.171875 37.8125 47.578125 \r\nQ 36.03125 48 33.890625 48 \r\nQ 26.265625 48 22.1875 43.046875 \r\nQ 18.109375 38.09375 18.109375 28.8125 \r\nL 18.109375 0 \r\nL 9.078125 0 \r\nL 9.078125 54.6875 \r\nL 18.109375 54.6875 \r\nL 18.109375 46.1875 \r\nQ 20.953125 51.171875 25.484375 53.578125 \r\nQ 30.03125 56 36.53125 56 \r\nQ 37.453125 56 38.578125 55.875 \r\nQ 39.703125 55.765625 41.0625 55.515625 \r\nz\r\n\" id=\"DejaVuSans-114\"/>\r\n       </defs>\r\n       <use xlink:href=\"#DejaVuSans-65\"/>\r\n       <use x=\"62.533203\" xlink:href=\"#DejaVuSans-118\"/>\r\n       <use x=\"121.712891\" xlink:href=\"#DejaVuSans-101\"/>\r\n       <use x=\"183.236328\" xlink:href=\"#DejaVuSans-66\"/>\r\n       <use x=\"251.839844\" xlink:href=\"#DejaVuSans-101\"/>\r\n       <use x=\"313.363281\" xlink:href=\"#DejaVuSans-100\"/>\r\n       <use x=\"376.839844\" xlink:href=\"#DejaVuSans-114\"/>\r\n       <use x=\"416.203125\" xlink:href=\"#DejaVuSans-109\"/>\r\n       <use x=\"513.615234\" xlink:href=\"#DejaVuSans-115\"/>\r\n      </g>\r\n     </g>\r\n    </g>\r\n    <g id=\"xtick_5\">\r\n     <g id=\"line2d_5\">\r\n      <g>\r\n       <use style=\"stroke:#000000;stroke-width:0.8;\" x=\"221.433438\" xlink:href=\"#m547d4713d5\" y=\"228.439219\"/>\r\n      </g>\r\n     </g>\r\n     <g id=\"text_5\">\r\n      <!-- Population -->\r\n      <g transform=\"translate(224.192813 287.972031)rotate(-90)scale(0.1 -0.1)\">\r\n       <defs>\r\n        <path d=\"M 19.671875 64.796875 \r\nL 19.671875 37.40625 \r\nL 32.078125 37.40625 \r\nQ 38.96875 37.40625 42.71875 40.96875 \r\nQ 46.484375 44.53125 46.484375 51.125 \r\nQ 46.484375 57.671875 42.71875 61.234375 \r\nQ 38.96875 64.796875 32.078125 64.796875 \r\nz\r\nM 9.8125 72.90625 \r\nL 32.078125 72.90625 \r\nQ 44.34375 72.90625 50.609375 67.359375 \r\nQ 56.890625 61.8125 56.890625 51.125 \r\nQ 56.890625 40.328125 50.609375 34.8125 \r\nQ 44.34375 29.296875 32.078125 29.296875 \r\nL 19.671875 29.296875 \r\nL 19.671875 0 \r\nL 9.8125 0 \r\nz\r\n\" id=\"DejaVuSans-80\"/>\r\n        <path d=\"M 18.109375 8.203125 \r\nL 18.109375 -20.796875 \r\nL 9.078125 -20.796875 \r\nL 9.078125 54.6875 \r\nL 18.109375 54.6875 \r\nL 18.109375 46.390625 \r\nQ 20.953125 51.265625 25.265625 53.625 \r\nQ 29.59375 56 35.59375 56 \r\nQ 45.5625 56 51.78125 48.09375 \r\nQ 58.015625 40.1875 58.015625 27.296875 \r\nQ 58.015625 14.40625 51.78125 6.484375 \r\nQ 45.5625 -1.421875 35.59375 -1.421875 \r\nQ 29.59375 -1.421875 25.265625 0.953125 \r\nQ 20.953125 3.328125 18.109375 8.203125 \r\nz\r\nM 48.6875 27.296875 \r\nQ 48.6875 37.203125 44.609375 42.84375 \r\nQ 40.53125 48.484375 33.40625 48.484375 \r\nQ 26.265625 48.484375 22.1875 42.84375 \r\nQ 18.109375 37.203125 18.109375 27.296875 \r\nQ 18.109375 17.390625 22.1875 11.75 \r\nQ 26.265625 6.109375 33.40625 6.109375 \r\nQ 40.53125 6.109375 44.609375 11.75 \r\nQ 48.6875 17.390625 48.6875 27.296875 \r\nz\r\n\" id=\"DejaVuSans-112\"/>\r\n        <path d=\"M 9.421875 75.984375 \r\nL 18.40625 75.984375 \r\nL 18.40625 0 \r\nL 9.421875 0 \r\nz\r\n\" id=\"DejaVuSans-108\"/>\r\n        <path d=\"M 34.28125 27.484375 \r\nQ 23.390625 27.484375 19.1875 25 \r\nQ 14.984375 22.515625 14.984375 16.5 \r\nQ 14.984375 11.71875 18.140625 8.90625 \r\nQ 21.296875 6.109375 26.703125 6.109375 \r\nQ 34.1875 6.109375 38.703125 11.40625 \r\nQ 43.21875 16.703125 43.21875 25.484375 \r\nL 43.21875 27.484375 \r\nz\r\nM 52.203125 31.203125 \r\nL 52.203125 0 \r\nL 43.21875 0 \r\nL 43.21875 8.296875 \r\nQ 40.140625 3.328125 35.546875 0.953125 \r\nQ 30.953125 -1.421875 24.3125 -1.421875 \r\nQ 15.921875 -1.421875 10.953125 3.296875 \r\nQ 6 8.015625 6 15.921875 \r\nQ 6 25.140625 12.171875 29.828125 \r\nQ 18.359375 34.515625 30.609375 34.515625 \r\nL 43.21875 34.515625 \r\nL 43.21875 35.40625 \r\nQ 43.21875 41.609375 39.140625 45 \r\nQ 35.0625 48.390625 27.6875 48.390625 \r\nQ 23 48.390625 18.546875 47.265625 \r\nQ 14.109375 46.140625 10.015625 43.890625 \r\nL 10.015625 52.203125 \r\nQ 14.9375 54.109375 19.578125 55.046875 \r\nQ 24.21875 56 28.609375 56 \r\nQ 40.484375 56 46.34375 49.84375 \r\nQ 52.203125 43.703125 52.203125 31.203125 \r\nz\r\n\" id=\"DejaVuSans-97\"/>\r\n        <path d=\"M 18.3125 70.21875 \r\nL 18.3125 54.6875 \r\nL 36.8125 54.6875 \r\nL 36.8125 47.703125 \r\nL 18.3125 47.703125 \r\nL 18.3125 18.015625 \r\nQ 18.3125 11.328125 20.140625 9.421875 \r\nQ 21.96875 7.515625 27.59375 7.515625 \r\nL 36.8125 7.515625 \r\nL 36.8125 0 \r\nL 27.59375 0 \r\nQ 17.1875 0 13.234375 3.875 \r\nQ 9.28125 7.765625 9.28125 18.015625 \r\nL 9.28125 47.703125 \r\nL 2.6875 47.703125 \r\nL 2.6875 54.6875 \r\nL 9.28125 54.6875 \r\nL 9.28125 70.21875 \r\nz\r\n\" id=\"DejaVuSans-116\"/>\r\n        <path d=\"M 9.421875 54.6875 \r\nL 18.40625 54.6875 \r\nL 18.40625 0 \r\nL 9.421875 0 \r\nz\r\nM 9.421875 75.984375 \r\nL 18.40625 75.984375 \r\nL 18.40625 64.59375 \r\nL 9.421875 64.59375 \r\nz\r\n\" id=\"DejaVuSans-105\"/>\r\n       </defs>\r\n       <use xlink:href=\"#DejaVuSans-80\"/>\r\n       <use x=\"56.677734\" xlink:href=\"#DejaVuSans-111\"/>\r\n       <use x=\"117.859375\" xlink:href=\"#DejaVuSans-112\"/>\r\n       <use x=\"181.335938\" xlink:href=\"#DejaVuSans-117\"/>\r\n       <use x=\"244.714844\" xlink:href=\"#DejaVuSans-108\"/>\r\n       <use x=\"272.498047\" xlink:href=\"#DejaVuSans-97\"/>\r\n       <use x=\"333.777344\" xlink:href=\"#DejaVuSans-116\"/>\r\n       <use x=\"372.986328\" xlink:href=\"#DejaVuSans-105\"/>\r\n       <use x=\"400.769531\" xlink:href=\"#DejaVuSans-111\"/>\r\n       <use x=\"461.951172\" xlink:href=\"#DejaVuSans-110\"/>\r\n      </g>\r\n     </g>\r\n    </g>\r\n    <g id=\"xtick_6\">\r\n     <g id=\"line2d_6\">\r\n      <g>\r\n       <use style=\"stroke:#000000;stroke-width:0.8;\" x=\"254.913438\" xlink:href=\"#m547d4713d5\" y=\"228.439219\"/>\r\n      </g>\r\n     </g>\r\n     <g id=\"text_6\">\r\n      <!-- AveOccup -->\r\n      <g transform=\"translate(257.672813 285.318906)rotate(-90)scale(0.1 -0.1)\">\r\n       <defs>\r\n        <path d=\"M 39.40625 66.21875 \r\nQ 28.65625 66.21875 22.328125 58.203125 \r\nQ 16.015625 50.203125 16.015625 36.375 \r\nQ 16.015625 22.609375 22.328125 14.59375 \r\nQ 28.65625 6.59375 39.40625 6.59375 \r\nQ 50.140625 6.59375 56.421875 14.59375 \r\nQ 62.703125 22.609375 62.703125 36.375 \r\nQ 62.703125 50.203125 56.421875 58.203125 \r\nQ 50.140625 66.21875 39.40625 66.21875 \r\nz\r\nM 39.40625 74.21875 \r\nQ 54.734375 74.21875 63.90625 63.9375 \r\nQ 73.09375 53.65625 73.09375 36.375 \r\nQ 73.09375 19.140625 63.90625 8.859375 \r\nQ 54.734375 -1.421875 39.40625 -1.421875 \r\nQ 24.03125 -1.421875 14.8125 8.828125 \r\nQ 5.609375 19.09375 5.609375 36.375 \r\nQ 5.609375 53.65625 14.8125 63.9375 \r\nQ 24.03125 74.21875 39.40625 74.21875 \r\nz\r\n\" id=\"DejaVuSans-79\"/>\r\n       </defs>\r\n       <use xlink:href=\"#DejaVuSans-65\"/>\r\n       <use x=\"62.533203\" xlink:href=\"#DejaVuSans-118\"/>\r\n       <use x=\"121.712891\" xlink:href=\"#DejaVuSans-101\"/>\r\n       <use x=\"183.236328\" xlink:href=\"#DejaVuSans-79\"/>\r\n       <use x=\"261.947266\" xlink:href=\"#DejaVuSans-99\"/>\r\n       <use x=\"316.927734\" xlink:href=\"#DejaVuSans-99\"/>\r\n       <use x=\"371.908203\" xlink:href=\"#DejaVuSans-117\"/>\r\n       <use x=\"435.287109\" xlink:href=\"#DejaVuSans-112\"/>\r\n      </g>\r\n     </g>\r\n    </g>\r\n    <g id=\"xtick_7\">\r\n     <g id=\"line2d_7\">\r\n      <g>\r\n       <use style=\"stroke:#000000;stroke-width:0.8;\" x=\"288.393438\" xlink:href=\"#m547d4713d5\" y=\"228.439219\"/>\r\n      </g>\r\n     </g>\r\n     <g id=\"text_7\">\r\n      <!-- Latitude -->\r\n      <g transform=\"translate(291.152812 276.597031)rotate(-90)scale(0.1 -0.1)\">\r\n       <defs>\r\n        <path d=\"M 9.8125 72.90625 \r\nL 19.671875 72.90625 \r\nL 19.671875 8.296875 \r\nL 55.171875 8.296875 \r\nL 55.171875 0 \r\nL 9.8125 0 \r\nz\r\n\" id=\"DejaVuSans-76\"/>\r\n       </defs>\r\n       <use xlink:href=\"#DejaVuSans-76\"/>\r\n       <use x=\"55.712891\" xlink:href=\"#DejaVuSans-97\"/>\r\n       <use x=\"116.992188\" xlink:href=\"#DejaVuSans-116\"/>\r\n       <use x=\"156.201172\" xlink:href=\"#DejaVuSans-105\"/>\r\n       <use x=\"183.984375\" xlink:href=\"#DejaVuSans-116\"/>\r\n       <use x=\"223.193359\" xlink:href=\"#DejaVuSans-117\"/>\r\n       <use x=\"286.572266\" xlink:href=\"#DejaVuSans-100\"/>\r\n       <use x=\"350.048828\" xlink:href=\"#DejaVuSans-101\"/>\r\n      </g>\r\n     </g>\r\n    </g>\r\n    <g id=\"xtick_8\">\r\n     <g id=\"line2d_8\">\r\n      <g>\r\n       <use style=\"stroke:#000000;stroke-width:0.8;\" x=\"321.873438\" xlink:href=\"#m547d4713d5\" y=\"228.439219\"/>\r\n      </g>\r\n     </g>\r\n     <g id=\"text_8\">\r\n      <!-- Longitude -->\r\n      <g transform=\"translate(324.632812 285.178281)rotate(-90)scale(0.1 -0.1)\">\r\n       <use xlink:href=\"#DejaVuSans-76\"/>\r\n       <use x=\"53.962891\" xlink:href=\"#DejaVuSans-111\"/>\r\n       <use x=\"115.144531\" xlink:href=\"#DejaVuSans-110\"/>\r\n       <use x=\"178.523438\" xlink:href=\"#DejaVuSans-103\"/>\r\n       <use x=\"242\" xlink:href=\"#DejaVuSans-105\"/>\r\n       <use x=\"269.783203\" xlink:href=\"#DejaVuSans-116\"/>\r\n       <use x=\"308.992188\" xlink:href=\"#DejaVuSans-117\"/>\r\n       <use x=\"372.371094\" xlink:href=\"#DejaVuSans-100\"/>\r\n       <use x=\"435.847656\" xlink:href=\"#DejaVuSans-101\"/>\r\n      </g>\r\n     </g>\r\n    </g>\r\n   </g>\r\n   <g id=\"matplotlib.axis_2\">\r\n    <g id=\"ytick_1\">\r\n     <g id=\"line2d_9\">\r\n      <defs>\r\n       <path d=\"M 0 0 \r\nL -3.5 0 \r\n\" id=\"m292dfaa646\" style=\"stroke:#000000;stroke-width:0.8;\"/>\r\n      </defs>\r\n      <g>\r\n       <use style=\"stroke:#000000;stroke-width:0.8;\" x=\"70.773438\" xlink:href=\"#m292dfaa646\" y=\"24.589219\"/>\r\n      </g>\r\n     </g>\r\n     <g id=\"text_9\">\r\n      <!-- MedInc -->\r\n      <g transform=\"translate(27.857813 28.388438)scale(0.1 -0.1)\">\r\n       <use xlink:href=\"#DejaVuSans-77\"/>\r\n       <use x=\"86.279297\" xlink:href=\"#DejaVuSans-101\"/>\r\n       <use x=\"147.802734\" xlink:href=\"#DejaVuSans-100\"/>\r\n       <use x=\"211.279297\" xlink:href=\"#DejaVuSans-73\"/>\r\n       <use x=\"240.771484\" xlink:href=\"#DejaVuSans-110\"/>\r\n       <use x=\"304.150391\" xlink:href=\"#DejaVuSans-99\"/>\r\n      </g>\r\n     </g>\r\n    </g>\r\n    <g id=\"ytick_2\">\r\n     <g id=\"line2d_10\">\r\n      <g>\r\n       <use style=\"stroke:#000000;stroke-width:0.8;\" x=\"70.773438\" xlink:href=\"#m292dfaa646\" y=\"51.769219\"/>\r\n      </g>\r\n     </g>\r\n     <g id=\"text_10\">\r\n      <!-- HouseAge -->\r\n      <g transform=\"translate(13.092187 55.568437)scale(0.1 -0.1)\">\r\n       <use xlink:href=\"#DejaVuSans-72\"/>\r\n       <use x=\"75.195312\" xlink:href=\"#DejaVuSans-111\"/>\r\n       <use x=\"136.376953\" xlink:href=\"#DejaVuSans-117\"/>\r\n       <use x=\"199.755859\" xlink:href=\"#DejaVuSans-115\"/>\r\n       <use x=\"251.855469\" xlink:href=\"#DejaVuSans-101\"/>\r\n       <use x=\"313.378906\" xlink:href=\"#DejaVuSans-65\"/>\r\n       <use x=\"381.787109\" xlink:href=\"#DejaVuSans-103\"/>\r\n       <use x=\"445.263672\" xlink:href=\"#DejaVuSans-101\"/>\r\n      </g>\r\n     </g>\r\n    </g>\r\n    <g id=\"ytick_3\">\r\n     <g id=\"line2d_11\">\r\n      <g>\r\n       <use style=\"stroke:#000000;stroke-width:0.8;\" x=\"70.773438\" xlink:href=\"#m292dfaa646\" y=\"78.949219\"/>\r\n      </g>\r\n     </g>\r\n     <g id=\"text_11\">\r\n      <!-- AveRooms -->\r\n      <g transform=\"translate(11.7625 82.748437)scale(0.1 -0.1)\">\r\n       <use xlink:href=\"#DejaVuSans-65\"/>\r\n       <use x=\"62.533203\" xlink:href=\"#DejaVuSans-118\"/>\r\n       <use x=\"121.712891\" xlink:href=\"#DejaVuSans-101\"/>\r\n       <use x=\"183.236328\" xlink:href=\"#DejaVuSans-82\"/>\r\n       <use x=\"248.21875\" xlink:href=\"#DejaVuSans-111\"/>\r\n       <use x=\"309.400391\" xlink:href=\"#DejaVuSans-111\"/>\r\n       <use x=\"370.582031\" xlink:href=\"#DejaVuSans-109\"/>\r\n       <use x=\"467.994141\" xlink:href=\"#DejaVuSans-115\"/>\r\n      </g>\r\n     </g>\r\n    </g>\r\n    <g id=\"ytick_4\">\r\n     <g id=\"line2d_12\">\r\n      <g>\r\n       <use style=\"stroke:#000000;stroke-width:0.8;\" x=\"70.773438\" xlink:href=\"#m292dfaa646\" y=\"106.129219\"/>\r\n      </g>\r\n     </g>\r\n     <g id=\"text_12\">\r\n      <!-- AveBedrms -->\r\n      <g transform=\"translate(7.2 109.928438)scale(0.1 -0.1)\">\r\n       <use xlink:href=\"#DejaVuSans-65\"/>\r\n       <use x=\"62.533203\" xlink:href=\"#DejaVuSans-118\"/>\r\n       <use x=\"121.712891\" xlink:href=\"#DejaVuSans-101\"/>\r\n       <use x=\"183.236328\" xlink:href=\"#DejaVuSans-66\"/>\r\n       <use x=\"251.839844\" xlink:href=\"#DejaVuSans-101\"/>\r\n       <use x=\"313.363281\" xlink:href=\"#DejaVuSans-100\"/>\r\n       <use x=\"376.839844\" xlink:href=\"#DejaVuSans-114\"/>\r\n       <use x=\"416.203125\" xlink:href=\"#DejaVuSans-109\"/>\r\n       <use x=\"513.615234\" xlink:href=\"#DejaVuSans-115\"/>\r\n      </g>\r\n     </g>\r\n    </g>\r\n    <g id=\"ytick_5\">\r\n     <g id=\"line2d_13\">\r\n      <g>\r\n       <use style=\"stroke:#000000;stroke-width:0.8;\" x=\"70.773438\" xlink:href=\"#m292dfaa646\" y=\"133.309219\"/>\r\n      </g>\r\n     </g>\r\n     <g id=\"text_13\">\r\n      <!-- Population -->\r\n      <g transform=\"translate(11.240625 137.108438)scale(0.1 -0.1)\">\r\n       <use xlink:href=\"#DejaVuSans-80\"/>\r\n       <use x=\"56.677734\" xlink:href=\"#DejaVuSans-111\"/>\r\n       <use x=\"117.859375\" xlink:href=\"#DejaVuSans-112\"/>\r\n       <use x=\"181.335938\" xlink:href=\"#DejaVuSans-117\"/>\r\n       <use x=\"244.714844\" xlink:href=\"#DejaVuSans-108\"/>\r\n       <use x=\"272.498047\" xlink:href=\"#DejaVuSans-97\"/>\r\n       <use x=\"333.777344\" xlink:href=\"#DejaVuSans-116\"/>\r\n       <use x=\"372.986328\" xlink:href=\"#DejaVuSans-105\"/>\r\n       <use x=\"400.769531\" xlink:href=\"#DejaVuSans-111\"/>\r\n       <use x=\"461.951172\" xlink:href=\"#DejaVuSans-110\"/>\r\n      </g>\r\n     </g>\r\n    </g>\r\n    <g id=\"ytick_6\">\r\n     <g id=\"line2d_14\">\r\n      <g>\r\n       <use style=\"stroke:#000000;stroke-width:0.8;\" x=\"70.773438\" xlink:href=\"#m292dfaa646\" y=\"160.489219\"/>\r\n      </g>\r\n     </g>\r\n     <g id=\"text_14\">\r\n      <!-- AveOccup -->\r\n      <g transform=\"translate(13.89375 164.288438)scale(0.1 -0.1)\">\r\n       <use xlink:href=\"#DejaVuSans-65\"/>\r\n       <use x=\"62.533203\" xlink:href=\"#DejaVuSans-118\"/>\r\n       <use x=\"121.712891\" xlink:href=\"#DejaVuSans-101\"/>\r\n       <use x=\"183.236328\" xlink:href=\"#DejaVuSans-79\"/>\r\n       <use x=\"261.947266\" xlink:href=\"#DejaVuSans-99\"/>\r\n       <use x=\"316.927734\" xlink:href=\"#DejaVuSans-99\"/>\r\n       <use x=\"371.908203\" xlink:href=\"#DejaVuSans-117\"/>\r\n       <use x=\"435.287109\" xlink:href=\"#DejaVuSans-112\"/>\r\n      </g>\r\n     </g>\r\n    </g>\r\n    <g id=\"ytick_7\">\r\n     <g id=\"line2d_15\">\r\n      <g>\r\n       <use style=\"stroke:#000000;stroke-width:0.8;\" x=\"70.773438\" xlink:href=\"#m292dfaa646\" y=\"187.669219\"/>\r\n      </g>\r\n     </g>\r\n     <g id=\"text_15\">\r\n      <!-- Latitude -->\r\n      <g transform=\"translate(22.615625 191.468437)scale(0.1 -0.1)\">\r\n       <use xlink:href=\"#DejaVuSans-76\"/>\r\n       <use x=\"55.712891\" xlink:href=\"#DejaVuSans-97\"/>\r\n       <use x=\"116.992188\" xlink:href=\"#DejaVuSans-116\"/>\r\n       <use x=\"156.201172\" xlink:href=\"#DejaVuSans-105\"/>\r\n       <use x=\"183.984375\" xlink:href=\"#DejaVuSans-116\"/>\r\n       <use x=\"223.193359\" xlink:href=\"#DejaVuSans-117\"/>\r\n       <use x=\"286.572266\" xlink:href=\"#DejaVuSans-100\"/>\r\n       <use x=\"350.048828\" xlink:href=\"#DejaVuSans-101\"/>\r\n      </g>\r\n     </g>\r\n    </g>\r\n    <g id=\"ytick_8\">\r\n     <g id=\"line2d_16\">\r\n      <g>\r\n       <use style=\"stroke:#000000;stroke-width:0.8;\" x=\"70.773438\" xlink:href=\"#m292dfaa646\" y=\"214.849219\"/>\r\n      </g>\r\n     </g>\r\n     <g id=\"text_16\">\r\n      <!-- Longitude -->\r\n      <g transform=\"translate(14.034375 218.648438)scale(0.1 -0.1)\">\r\n       <use xlink:href=\"#DejaVuSans-76\"/>\r\n       <use x=\"53.962891\" xlink:href=\"#DejaVuSans-111\"/>\r\n       <use x=\"115.144531\" xlink:href=\"#DejaVuSans-110\"/>\r\n       <use x=\"178.523438\" xlink:href=\"#DejaVuSans-103\"/>\r\n       <use x=\"242\" xlink:href=\"#DejaVuSans-105\"/>\r\n       <use x=\"269.783203\" xlink:href=\"#DejaVuSans-116\"/>\r\n       <use x=\"308.992188\" xlink:href=\"#DejaVuSans-117\"/>\r\n       <use x=\"372.371094\" xlink:href=\"#DejaVuSans-100\"/>\r\n       <use x=\"435.847656\" xlink:href=\"#DejaVuSans-101\"/>\r\n      </g>\r\n     </g>\r\n    </g>\r\n   </g>\r\n  </g>\r\n  <g id=\"axes_2\">\r\n   <g id=\"patch_3\">\r\n    <path clip-path=\"url(#pd8b76289be)\" d=\"M 355.353438 228.439219 \r\nL 355.353438 227.589844 \r\nL 355.353438 11.848594 \r\nL 355.353438 10.999219 \r\nL 366.225438 10.999219 \r\nL 366.225438 11.848594 \r\nL 366.225438 227.589844 \r\nL 366.225438 228.439219 \r\nz\r\n\" style=\"fill:#ffffff;stroke:#ffffff;stroke-linejoin:miter;stroke-width:0.01;\"/>\r\n   </g>\r\n   <image height=\"217\" id=\"image2b390ce23c\" transform=\"scale(1 -1)translate(0 -217)\" width=\"11\" x=\"355\" xlink:href=\"data:image/png;base64,\r\niVBORw0KGgoAAAANSUhEUgAAAAsAAADZCAYAAAD2WsoCAAABYUlEQVR4nO3aSW4DMRBD0dbgS+T+54yzTXZ6iw8ogHtNECySqh7ssV9f7+fw2mOMU6yCHwCvOSPmmQ04uwEzGV2C5PMal7hxRevMja783YDPJXFnbtAqkLhtwGNo2o1yQArl/Co3f1Yk1Hx+leXv3DiGavnJOhqw63NoXRg3yOg0dzL2HaHM49cDLz8xd24IWNzAuK+QgXtDZIjmf+mGyFjPOTo8g+bGWzQLc+fGIOZzYvYZZJgbBIa8Q+vW/BYZwDxhy+whYGQ+xqoblGA3IBzCPdcdoUBHTUbohjBbN4g5s27uSsbTdYPA8CiDA2aakVmezGGdm4yHZAg4lAG3TWSWTxbEbGB4ydNQBCzfGDs3hrhRas6Y6bcJcuOWuIV50YBXhEIy7MCu8xshumG7jpgFDB8tSs3dgFZ+ciOT8XHjF3iMbCOFp5vc6O6wtBhfEXNY0c5n6Qb9y+Iz4B9wNeAPulsrIwFAr+kAAAAASUVORK5CYII=\" y=\"-11\"/>\r\n   <g id=\"matplotlib.axis_3\"/>\r\n   <g id=\"matplotlib.axis_4\">\r\n    <g id=\"ytick_9\">\r\n     <g id=\"line2d_17\">\r\n      <defs>\r\n       <path d=\"M 0 0 \r\nL 3.5 0 \r\n\" id=\"m5a4ec6de1a\" style=\"stroke:#000000;stroke-width:0.8;\"/>\r\n      </defs>\r\n      <g>\r\n       <use style=\"stroke:#000000;stroke-width:0.8;\" x=\"366.225438\" xlink:href=\"#m5a4ec6de1a\" y=\"208.70641\"/>\r\n      </g>\r\n     </g>\r\n     <g id=\"text_17\">\r\n      <!-- −0.75 -->\r\n      <g transform=\"translate(373.225438 212.505629)scale(0.1 -0.1)\">\r\n       <defs>\r\n        <path d=\"M 10.59375 35.5 \r\nL 73.1875 35.5 \r\nL 73.1875 27.203125 \r\nL 10.59375 27.203125 \r\nz\r\n\" id=\"DejaVuSans-8722\"/>\r\n        <path d=\"M 31.78125 66.40625 \r\nQ 24.171875 66.40625 20.328125 58.90625 \r\nQ 16.5 51.421875 16.5 36.375 \r\nQ 16.5 21.390625 20.328125 13.890625 \r\nQ 24.171875 6.390625 31.78125 6.390625 \r\nQ 39.453125 6.390625 43.28125 13.890625 \r\nQ 47.125 21.390625 47.125 36.375 \r\nQ 47.125 51.421875 43.28125 58.90625 \r\nQ 39.453125 66.40625 31.78125 66.40625 \r\nz\r\nM 31.78125 74.21875 \r\nQ 44.046875 74.21875 50.515625 64.515625 \r\nQ 56.984375 54.828125 56.984375 36.375 \r\nQ 56.984375 17.96875 50.515625 8.265625 \r\nQ 44.046875 -1.421875 31.78125 -1.421875 \r\nQ 19.53125 -1.421875 13.0625 8.265625 \r\nQ 6.59375 17.96875 6.59375 36.375 \r\nQ 6.59375 54.828125 13.0625 64.515625 \r\nQ 19.53125 74.21875 31.78125 74.21875 \r\nz\r\n\" id=\"DejaVuSans-48\"/>\r\n        <path d=\"M 10.6875 12.40625 \r\nL 21 12.40625 \r\nL 21 0 \r\nL 10.6875 0 \r\nz\r\n\" id=\"DejaVuSans-46\"/>\r\n        <path d=\"M 8.203125 72.90625 \r\nL 55.078125 72.90625 \r\nL 55.078125 68.703125 \r\nL 28.609375 0 \r\nL 18.3125 0 \r\nL 43.21875 64.59375 \r\nL 8.203125 64.59375 \r\nz\r\n\" id=\"DejaVuSans-55\"/>\r\n        <path d=\"M 10.796875 72.90625 \r\nL 49.515625 72.90625 \r\nL 49.515625 64.59375 \r\nL 19.828125 64.59375 \r\nL 19.828125 46.734375 \r\nQ 21.96875 47.46875 24.109375 47.828125 \r\nQ 26.265625 48.1875 28.421875 48.1875 \r\nQ 40.625 48.1875 47.75 41.5 \r\nQ 54.890625 34.8125 54.890625 23.390625 \r\nQ 54.890625 11.625 47.5625 5.09375 \r\nQ 40.234375 -1.421875 26.90625 -1.421875 \r\nQ 22.3125 -1.421875 17.546875 -0.640625 \r\nQ 12.796875 0.140625 7.71875 1.703125 \r\nL 7.71875 11.625 \r\nQ 12.109375 9.234375 16.796875 8.0625 \r\nQ 21.484375 6.890625 26.703125 6.890625 \r\nQ 35.15625 6.890625 40.078125 11.328125 \r\nQ 45.015625 15.765625 45.015625 23.390625 \r\nQ 45.015625 31 40.078125 35.4375 \r\nQ 35.15625 39.890625 26.703125 39.890625 \r\nQ 22.75 39.890625 18.8125 39.015625 \r\nQ 14.890625 38.140625 10.796875 36.28125 \r\nz\r\n\" id=\"DejaVuSans-53\"/>\r\n       </defs>\r\n       <use xlink:href=\"#DejaVuSans-8722\"/>\r\n       <use x=\"83.789062\" xlink:href=\"#DejaVuSans-48\"/>\r\n       <use x=\"147.412109\" xlink:href=\"#DejaVuSans-46\"/>\r\n       <use x=\"179.199219\" xlink:href=\"#DejaVuSans-55\"/>\r\n       <use x=\"242.822266\" xlink:href=\"#DejaVuSans-53\"/>\r\n      </g>\r\n     </g>\r\n    </g>\r\n    <g id=\"ytick_10\">\r\n     <g id=\"line2d_18\">\r\n      <g>\r\n       <use style=\"stroke:#000000;stroke-width:0.8;\" x=\"366.225438\" xlink:href=\"#m5a4ec6de1a\" y=\"180.462526\"/>\r\n      </g>\r\n     </g>\r\n     <g id=\"text_18\">\r\n      <!-- −0.50 -->\r\n      <g transform=\"translate(373.225438 184.261745)scale(0.1 -0.1)\">\r\n       <use xlink:href=\"#DejaVuSans-8722\"/>\r\n       <use x=\"83.789062\" xlink:href=\"#DejaVuSans-48\"/>\r\n       <use x=\"147.412109\" xlink:href=\"#DejaVuSans-46\"/>\r\n       <use x=\"179.199219\" xlink:href=\"#DejaVuSans-53\"/>\r\n       <use x=\"242.822266\" xlink:href=\"#DejaVuSans-48\"/>\r\n      </g>\r\n     </g>\r\n    </g>\r\n    <g id=\"ytick_11\">\r\n     <g id=\"line2d_19\">\r\n      <g>\r\n       <use style=\"stroke:#000000;stroke-width:0.8;\" x=\"366.225438\" xlink:href=\"#m5a4ec6de1a\" y=\"152.218641\"/>\r\n      </g>\r\n     </g>\r\n     <g id=\"text_19\">\r\n      <!-- −0.25 -->\r\n      <g transform=\"translate(373.225438 156.01786)scale(0.1 -0.1)\">\r\n       <defs>\r\n        <path d=\"M 19.1875 8.296875 \r\nL 53.609375 8.296875 \r\nL 53.609375 0 \r\nL 7.328125 0 \r\nL 7.328125 8.296875 \r\nQ 12.9375 14.109375 22.625 23.890625 \r\nQ 32.328125 33.6875 34.8125 36.53125 \r\nQ 39.546875 41.84375 41.421875 45.53125 \r\nQ 43.3125 49.21875 43.3125 52.78125 \r\nQ 43.3125 58.59375 39.234375 62.25 \r\nQ 35.15625 65.921875 28.609375 65.921875 \r\nQ 23.96875 65.921875 18.8125 64.3125 \r\nQ 13.671875 62.703125 7.8125 59.421875 \r\nL 7.8125 69.390625 \r\nQ 13.765625 71.78125 18.9375 73 \r\nQ 24.125 74.21875 28.421875 74.21875 \r\nQ 39.75 74.21875 46.484375 68.546875 \r\nQ 53.21875 62.890625 53.21875 53.421875 \r\nQ 53.21875 48.921875 51.53125 44.890625 \r\nQ 49.859375 40.875 45.40625 35.40625 \r\nQ 44.1875 33.984375 37.640625 27.21875 \r\nQ 31.109375 20.453125 19.1875 8.296875 \r\nz\r\n\" id=\"DejaVuSans-50\"/>\r\n       </defs>\r\n       <use xlink:href=\"#DejaVuSans-8722\"/>\r\n       <use x=\"83.789062\" xlink:href=\"#DejaVuSans-48\"/>\r\n       <use x=\"147.412109\" xlink:href=\"#DejaVuSans-46\"/>\r\n       <use x=\"179.199219\" xlink:href=\"#DejaVuSans-50\"/>\r\n       <use x=\"242.822266\" xlink:href=\"#DejaVuSans-53\"/>\r\n      </g>\r\n     </g>\r\n    </g>\r\n    <g id=\"ytick_12\">\r\n     <g id=\"line2d_20\">\r\n      <g>\r\n       <use style=\"stroke:#000000;stroke-width:0.8;\" x=\"366.225438\" xlink:href=\"#m5a4ec6de1a\" y=\"123.974757\"/>\r\n      </g>\r\n     </g>\r\n     <g id=\"text_20\">\r\n      <!-- 0.00 -->\r\n      <g transform=\"translate(373.225438 127.773976)scale(0.1 -0.1)\">\r\n       <use xlink:href=\"#DejaVuSans-48\"/>\r\n       <use x=\"63.623047\" xlink:href=\"#DejaVuSans-46\"/>\r\n       <use x=\"95.410156\" xlink:href=\"#DejaVuSans-48\"/>\r\n       <use x=\"159.033203\" xlink:href=\"#DejaVuSans-48\"/>\r\n      </g>\r\n     </g>\r\n    </g>\r\n    <g id=\"ytick_13\">\r\n     <g id=\"line2d_21\">\r\n      <g>\r\n       <use style=\"stroke:#000000;stroke-width:0.8;\" x=\"366.225438\" xlink:href=\"#m5a4ec6de1a\" y=\"95.730872\"/>\r\n      </g>\r\n     </g>\r\n     <g id=\"text_21\">\r\n      <!-- 0.25 -->\r\n      <g transform=\"translate(373.225438 99.530091)scale(0.1 -0.1)\">\r\n       <use xlink:href=\"#DejaVuSans-48\"/>\r\n       <use x=\"63.623047\" xlink:href=\"#DejaVuSans-46\"/>\r\n       <use x=\"95.410156\" xlink:href=\"#DejaVuSans-50\"/>\r\n       <use x=\"159.033203\" xlink:href=\"#DejaVuSans-53\"/>\r\n      </g>\r\n     </g>\r\n    </g>\r\n    <g id=\"ytick_14\">\r\n     <g id=\"line2d_22\">\r\n      <g>\r\n       <use style=\"stroke:#000000;stroke-width:0.8;\" x=\"366.225438\" xlink:href=\"#m5a4ec6de1a\" y=\"67.486988\"/>\r\n      </g>\r\n     </g>\r\n     <g id=\"text_22\">\r\n      <!-- 0.50 -->\r\n      <g transform=\"translate(373.225438 71.286207)scale(0.1 -0.1)\">\r\n       <use xlink:href=\"#DejaVuSans-48\"/>\r\n       <use x=\"63.623047\" xlink:href=\"#DejaVuSans-46\"/>\r\n       <use x=\"95.410156\" xlink:href=\"#DejaVuSans-53\"/>\r\n       <use x=\"159.033203\" xlink:href=\"#DejaVuSans-48\"/>\r\n      </g>\r\n     </g>\r\n    </g>\r\n    <g id=\"ytick_15\">\r\n     <g id=\"line2d_23\">\r\n      <g>\r\n       <use style=\"stroke:#000000;stroke-width:0.8;\" x=\"366.225438\" xlink:href=\"#m5a4ec6de1a\" y=\"39.243103\"/>\r\n      </g>\r\n     </g>\r\n     <g id=\"text_23\">\r\n      <!-- 0.75 -->\r\n      <g transform=\"translate(373.225438 43.042322)scale(0.1 -0.1)\">\r\n       <use xlink:href=\"#DejaVuSans-48\"/>\r\n       <use x=\"63.623047\" xlink:href=\"#DejaVuSans-46\"/>\r\n       <use x=\"95.410156\" xlink:href=\"#DejaVuSans-55\"/>\r\n       <use x=\"159.033203\" xlink:href=\"#DejaVuSans-53\"/>\r\n      </g>\r\n     </g>\r\n    </g>\r\n    <g id=\"ytick_16\">\r\n     <g id=\"line2d_24\">\r\n      <g>\r\n       <use style=\"stroke:#000000;stroke-width:0.8;\" x=\"366.225438\" xlink:href=\"#m5a4ec6de1a\" y=\"10.999219\"/>\r\n      </g>\r\n     </g>\r\n     <g id=\"text_24\">\r\n      <!-- 1.00 -->\r\n      <g transform=\"translate(373.225438 14.798438)scale(0.1 -0.1)\">\r\n       <defs>\r\n        <path d=\"M 12.40625 8.296875 \r\nL 28.515625 8.296875 \r\nL 28.515625 63.921875 \r\nL 10.984375 60.40625 \r\nL 10.984375 69.390625 \r\nL 28.421875 72.90625 \r\nL 38.28125 72.90625 \r\nL 38.28125 8.296875 \r\nL 54.390625 8.296875 \r\nL 54.390625 0 \r\nL 12.40625 0 \r\nz\r\n\" id=\"DejaVuSans-49\"/>\r\n       </defs>\r\n       <use xlink:href=\"#DejaVuSans-49\"/>\r\n       <use x=\"63.623047\" xlink:href=\"#DejaVuSans-46\"/>\r\n       <use x=\"95.410156\" xlink:href=\"#DejaVuSans-48\"/>\r\n       <use x=\"159.033203\" xlink:href=\"#DejaVuSans-48\"/>\r\n      </g>\r\n     </g>\r\n    </g>\r\n   </g>\r\n   <g id=\"patch_4\">\r\n    <path d=\"M 355.353438 228.439219 \r\nL 355.353438 227.589844 \r\nL 355.353438 11.848594 \r\nL 355.353438 10.999219 \r\nL 366.225438 10.999219 \r\nL 366.225438 11.848594 \r\nL 366.225438 227.589844 \r\nL 366.225438 228.439219 \r\nz\r\n\" style=\"fill:none;\"/>\r\n   </g>\r\n  </g>\r\n </g>\r\n <defs>\r\n  <clipPath id=\"p3689663a9c\">\r\n   <rect height=\"217.44\" width=\"267.84\" x=\"70.773438\" y=\"10.999219\"/>\r\n  </clipPath>\r\n  <clipPath id=\"pd8b76289be\">\r\n   <rect height=\"217.44\" width=\"10.872\" x=\"355.353438\" y=\"10.999219\"/>\r\n  </clipPath>\r\n </defs>\r\n</svg>\r\n",
      "image/png": "[encoded data removed]"
     },
     "metadata": {
      "needs_background": "light"
     }
    }
   ],
   "source": [
    "# Correlation heatmap\n",
    "sns.heatmap(df.corr())"
   ]
  },
  {
   "cell_type": "markdown",
   "metadata": {},
   "source": [
    "## Linear Regression Baseline Model\n",
    "\n",
    "####  Building a linear regression model to predict the housing price will provide a baseline model to compare against. This is a very simplistic model that provides a starting point and something to compare to as we move further along in the analysis.\n",
    "\n",
    "#### The data is initially split using an 80/20 train-test split. We can see that this produces a training data set of 16,512 rows x 8 columns. The corresponding predictor training set is also 16,512 rows x 1 column (prices).\n",
    "\n",
    "#### Using the test/train split data a linear regression model will be run to see how well housing prices can be predicted. The model will be evaluated on the R-squared metric. R-squared evalates the scatter of the data points around the fitted regression line. R-squared values are always between 0 and 100%. A value of 0% represents a model that does not explain any of the variation in the response variable, while a value of 100% represents a model that explains all of the variation in the response variable. As a model comparison metric the larger the R-squared metric the better the model.\n",
    "\n",
    "#### For the baseline linear regression model, the R-squared score is 33.4% (~0.3340). Given the low value this may not be the best model for predicting housing prices in California and further model manipulation may be required."
   ]
  },
  {
   "cell_type": "code",
   "execution_count": 10,
   "metadata": {},
   "outputs": [],
   "source": [
    "# Split training and test data set using an 80/20 split\n",
    "calf_hous_df_2 = calf_hous_df[calf_hous_df.columns[~calf_hous_df.columns.isin(['prices'])]]\n",
    "\n",
    "x_train,x_test,y_train,y_test=train_test_split(calf_hous_df_2,p_df,test_size=0.2,random_state=7)"
   ]
  },
  {
   "cell_type": "code",
   "execution_count": 11,
   "metadata": {},
   "outputs": [
    {
     "output_type": "execute_result",
     "data": {
      "text/plain": [
       "(16512, 8)"
      ]
     },
     "metadata": {},
     "execution_count": 11
    }
   ],
   "source": [
    "x_train.shape"
   ]
  },
  {
   "cell_type": "code",
   "execution_count": 12,
   "metadata": {},
   "outputs": [
    {
     "output_type": "execute_result",
     "data": {
      "text/plain": [
       "       MedInc  HouseAge  AveRooms  AveBedrms  Population  AveOccup  Latitude  \\\n",
       "17142  4.4688      43.0  5.353247   1.135065       817.0  2.122078     37.45   \n",
       "5460   2.6042      37.0  3.508820   1.037992      1801.0  2.443691     34.00   \n",
       "7920   3.4250      28.0  5.421212   1.066667      1347.0  4.081818     33.86   \n",
       "15846  5.0519      40.0  5.094538   1.026261      1824.0  1.915966     37.75   \n",
       "18194  3.2574      32.0  3.718504   0.958661      1321.0  2.600394     37.38   \n",
       "\n",
       "       Longitude  \n",
       "17142    -122.18  \n",
       "5460     -118.47  \n",
       "7920     -118.07  \n",
       "15846    -122.43  \n",
       "18194    -122.02  "
      ],
      "text/html": "<div>\n<style scoped>\n    .dataframe tbody tr th:only-of-type {\n        vertical-align: middle;\n    }\n\n    .dataframe tbody tr th {\n        vertical-align: top;\n    }\n\n    .dataframe thead th {\n        text-align: right;\n    }\n</style>\n<table border=\"1\" class=\"dataframe\">\n  <thead>\n    <tr style=\"text-align: right;\">\n      <th></th>\n      <th>MedInc</th>\n      <th>HouseAge</th>\n      <th>AveRooms</th>\n      <th>AveBedrms</th>\n      <th>Population</th>\n      <th>AveOccup</th>\n      <th>Latitude</th>\n      <th>Longitude</th>\n    </tr>\n  </thead>\n  <tbody>\n    <tr>\n      <th>17142</th>\n      <td>4.4688</td>\n      <td>43.0</td>\n      <td>5.353247</td>\n      <td>1.135065</td>\n      <td>817.0</td>\n      <td>2.122078</td>\n      <td>37.45</td>\n      <td>-122.18</td>\n    </tr>\n    <tr>\n      <th>5460</th>\n      <td>2.6042</td>\n      <td>37.0</td>\n      <td>3.508820</td>\n      <td>1.037992</td>\n      <td>1801.0</td>\n      <td>2.443691</td>\n      <td>34.00</td>\n      <td>-118.47</td>\n    </tr>\n    <tr>\n      <th>7920</th>\n      <td>3.4250</td>\n      <td>28.0</td>\n      <td>5.421212</td>\n      <td>1.066667</td>\n      <td>1347.0</td>\n      <td>4.081818</td>\n      <td>33.86</td>\n      <td>-118.07</td>\n    </tr>\n    <tr>\n      <th>15846</th>\n      <td>5.0519</td>\n      <td>40.0</td>\n      <td>5.094538</td>\n      <td>1.026261</td>\n      <td>1824.0</td>\n      <td>1.915966</td>\n      <td>37.75</td>\n      <td>-122.43</td>\n    </tr>\n    <tr>\n      <th>18194</th>\n      <td>3.2574</td>\n      <td>32.0</td>\n      <td>3.718504</td>\n      <td>0.958661</td>\n      <td>1321.0</td>\n      <td>2.600394</td>\n      <td>37.38</td>\n      <td>-122.02</td>\n    </tr>\n  </tbody>\n</table>\n</div>"
     },
     "metadata": {},
     "execution_count": 12
    }
   ],
   "source": [
    "#x_train.head()"
   ]
  },
  {
   "cell_type": "code",
   "execution_count": 13,
   "metadata": {},
   "outputs": [
    {
     "output_type": "execute_result",
     "data": {
      "text/plain": [
       "(16512, 1)"
      ]
     },
     "metadata": {},
     "execution_count": 13
    }
   ],
   "source": [
    "y_train.shape"
   ]
  },
  {
   "cell_type": "code",
   "execution_count": 14,
   "metadata": {},
   "outputs": [
    {
     "output_type": "execute_result",
     "data": {
      "text/plain": [
       "       prices\n",
       "17142   4.602\n",
       "5460    3.058\n",
       "7920    1.897\n",
       "15846   3.561\n",
       "18194   2.544"
      ],
      "text/html": "<div>\n<style scoped>\n    .dataframe tbody tr th:only-of-type {\n        vertical-align: middle;\n    }\n\n    .dataframe tbody tr th {\n        vertical-align: top;\n    }\n\n    .dataframe thead th {\n        text-align: right;\n    }\n</style>\n<table border=\"1\" class=\"dataframe\">\n  <thead>\n    <tr style=\"text-align: right;\">\n      <th></th>\n      <th>prices</th>\n    </tr>\n  </thead>\n  <tbody>\n    <tr>\n      <th>17142</th>\n      <td>4.602</td>\n    </tr>\n    <tr>\n      <th>5460</th>\n      <td>3.058</td>\n    </tr>\n    <tr>\n      <th>7920</th>\n      <td>1.897</td>\n    </tr>\n    <tr>\n      <th>15846</th>\n      <td>3.561</td>\n    </tr>\n    <tr>\n      <th>18194</th>\n      <td>2.544</td>\n    </tr>\n  </tbody>\n</table>\n</div>"
     },
     "metadata": {},
     "execution_count": 14
    }
   ],
   "source": [
    "y_train.head()"
   ]
  },
  {
   "cell_type": "code",
   "execution_count": 15,
   "metadata": {},
   "outputs": [
    {
     "output_type": "execute_result",
     "data": {
      "text/plain": [
       "LinearRegression()"
      ]
     },
     "metadata": {},
     "execution_count": 15
    }
   ],
   "source": [
    "# train the linear regression model\n",
    "baseline_model = LinearRegression()\n",
    "baseline_model.fit(x_train,y_train)"
   ]
  },
  {
   "cell_type": "code",
   "execution_count": 16,
   "metadata": {},
   "outputs": [],
   "source": [
    "# predict using the test data\n",
    "baseline_model_pred = baseline_model.predict(x_test)"
   ]
  },
  {
   "cell_type": "code",
   "execution_count": 17,
   "metadata": {},
   "outputs": [
    {
     "output_type": "execute_result",
     "data": {
      "text/plain": [
       "0.3340207644656116"
      ]
     },
     "metadata": {},
     "execution_count": 17
    }
   ],
   "source": [
    "# How accuratge is our baseline model? Let's return the R2 score\n",
    "r2_baseline = r2_score(baseline_model_pred,y_test)\n",
    "r2_baseline\n",
    "    \n",
    "# 0.334 is a pretty poor score for a baseline model. Can we do better?"
   ]
  },
  {
   "cell_type": "markdown",
   "metadata": {},
   "source": [
    "## Missing Data Analysis\n",
    "\n",
    "#### In order to show the impact that missing data can have on models the next few sections will evaluate the baseline linear regression model against the three missing data scenarios:\n",
    "\n",
    "    * Missing Completely At Random (MCAR)\n",
    "    * Missing At Random (MAR)\n",
    "    * Missing Not At Random (MNAR)\n",
    "\n",
    "#### Each of these scenarios will show the impact these missing data scenarios has on model performance based on how the missing values are handled.\n",
    "\n",
    "### Missing Completely At Random (MCAR) Analysis\n",
    "\n",
    "#### For the Missing Completely at Random analysis a single column, for this analysis HouseAge,  will be manipulated to replace 1%, 5%, 10%, 20%, 33% and 50% of the original data values with NaN at random. Once the data values for the various percentages have been randomly set to NaN, data imputation will be performed to \"fill in\" the missing values. The imputation method used on the HouseAge column will be using the mean value of the house age. Using the mean as the imputation method allows for maintaining the sample size and is relatively easy to perform. \n",
    "\n",
    "#### As a comparison metric for each of the imputation percentages the R-Squared metric will be used. It is expected that as the imputation percentage increases the R-Squared metric should decrease due to less variability in the data. "
   ]
  },
  {
   "cell_type": "code",
   "execution_count": 18,
   "metadata": {},
   "outputs": [],
   "source": [
    "# Hold 1% of the records constant and replace with NAN\n",
    "df2 = calf_hous_df.copy()\n",
    "\n",
    "df2_1 = df.copy()\n",
    "df2_1.HouseAge[df2_1.HouseAge.sample(frac=(1/100)).index] = np.nan  \n",
    "\n",
    "# Hold 5% of the records constant and replace with NAN\n",
    "df2_5 = df.copy()\n",
    "df2_5.HouseAge[df2_5.HouseAge.sample(frac=(5/100)).index] = np.nan \n",
    "\n",
    "# Hold 10% of the records constant and replace with NAN\n",
    "df2_10 = df.copy()\n",
    "df2_10.HouseAge[df2_10.HouseAge.sample(frac=(10/100)).index] = np.nan \n",
    "\n",
    "# Hold 20% of the records constant and replace with NAN\n",
    "df2_20 = df.copy()\n",
    "df2_20.HouseAge[df2_20.HouseAge.sample(frac=(20/100)).index] = np.nan \n",
    "\n",
    "# Hold 33% of the records constant and replace with NAN\n",
    "df2_33 = df.copy()\n",
    "df2_33.HouseAge[df2_33.HouseAge.sample(frac=(33/100)).index] = np.nan \n",
    "\n",
    "# Hold 50% of the records constant and replace with NAN\n",
    "df2_50 = df.copy()\n",
    "df2_50.HouseAge[df2_50.HouseAge.sample(frac=(50/100)).index] = np.nan \n"
   ]
  },
  {
   "cell_type": "code",
   "execution_count": 19,
   "metadata": {},
   "outputs": [
    {
     "output_type": "stream",
     "name": "stdout",
     "text": [
      "MedInc        0.000000\nHouseAge      0.998062\nAveRooms      0.000000\nAveBedrms     0.000000\nPopulation    0.000000\nAveOccup      0.000000\nLatitude      0.000000\nLongitude     0.000000\ndtype: float64\nMedInc        0.0\nHouseAge      5.0\nAveRooms      0.0\nAveBedrms     0.0\nPopulation    0.0\nAveOccup      0.0\nLatitude      0.0\nLongitude     0.0\ndtype: float64\nMedInc         0.0\nHouseAge      10.0\nAveRooms       0.0\nAveBedrms      0.0\nPopulation     0.0\nAveOccup       0.0\nLatitude       0.0\nLongitude      0.0\ndtype: float64\nMedInc         0.0\nHouseAge      20.0\nAveRooms       0.0\nAveBedrms      0.0\nPopulation     0.0\nAveOccup       0.0\nLatitude       0.0\nLongitude      0.0\ndtype: float64\nMedInc         0.000000\nHouseAge      32.999031\nAveRooms       0.000000\nAveBedrms      0.000000\nPopulation     0.000000\nAveOccup       0.000000\nLatitude       0.000000\nLongitude      0.000000\ndtype: float64\nMedInc         0.0\nHouseAge      50.0\nAveRooms       0.0\nAveBedrms      0.0\nPopulation     0.0\nAveOccup       0.0\nLatitude       0.0\nLongitude      0.0\ndtype: float64\n"
     ]
    }
   ],
   "source": [
    "# Check baseline for NAs - 1%\n",
    "print((df2_1.isna().sum()/len(df2_1))*100)\n",
    "\n",
    "# Check baseline for NAs - 5%\n",
    "print((df2_5.isna().sum()/len(df2_5))*100)\n",
    "\n",
    "# Check baseline for NAs - 10%\n",
    "print((df2_10.isna().sum()/len(df2_10))*100)\n",
    "\n",
    "# Check baseline for NAs - 20%\n",
    "print((df2_20.isna().sum()/len(df2_20))*100)\n",
    "\n",
    "# Check baseline for NAs - 33%\n",
    "print((df2_33.isna().sum()/len(df2_33))*100)\n",
    "\n",
    "# Check baseline for NAs - 50%\n",
    "print((df2_50.isna().sum()/len(df2_50))*100)\n",
    "\n",
    "# Display NAN sample rows\n",
    "# df2_1[df2_1.isna().any(axis=1)]"
   ]
  },
  {
   "cell_type": "code",
   "execution_count": 20,
   "metadata": {},
   "outputs": [
    {
     "output_type": "execute_result",
     "data": {
      "text/plain": [
       "array([[   8.3252    ,   41.        ,    6.98412698, ...,    2.55555556,\n",
       "          37.88      , -122.23      ],\n",
       "       [   8.3014    ,   28.62829457,    6.23813708, ...,    2.10984183,\n",
       "          37.86      , -122.22      ],\n",
       "       [   7.2574    ,   28.62829457,    8.28813559, ...,    2.80225989,\n",
       "          37.85      , -122.24      ],\n",
       "       ...,\n",
       "       [   1.7       ,   17.        ,    5.20554273, ...,    2.3256351 ,\n",
       "          39.43      , -121.22      ],\n",
       "       [   1.8672    ,   18.        ,    5.32951289, ...,    2.12320917,\n",
       "          39.43      , -121.32      ],\n",
       "       [   2.3886    ,   16.        ,    5.25471698, ...,    2.61698113,\n",
       "          39.37      , -121.24      ]])"
      ]
     },
     "metadata": {},
     "execution_count": 20
    }
   ],
   "source": [
    "# Impute for the NANs and replace with the mean\n",
    "\n",
    "# Impute NANs - 1%\n",
    "imputer = SimpleImputer(missing_values=np.nan, strategy='mean', copy=False)\n",
    "imputer.fit(df2_1)\n",
    "imputer.transform(df2_1)\n",
    "\n",
    "# Impute NANs - 5%\n",
    "imputer = SimpleImputer(missing_values=np.nan, strategy='mean', copy=False)\n",
    "imputer.fit(df2_5)\n",
    "imputer.transform(df2_5)\n",
    "\n",
    "# Impute NANs - 10%\n",
    "imputer = SimpleImputer(missing_values=np.nan, strategy='mean', copy=False)\n",
    "imputer.fit(df2_10)\n",
    "imputer.transform(df2_10)\n",
    "\n",
    "# Impute NANs - 20%\n",
    "imputer = SimpleImputer(missing_values=np.nan, strategy='mean', copy=False)\n",
    "imputer.fit(df2_20)\n",
    "imputer.transform(df2_20)\n",
    "\n",
    "# Impute NANs - 33%\n",
    "imputer = SimpleImputer(missing_values=np.nan, strategy='mean', copy=False)\n",
    "imputer.fit(df2_33)\n",
    "imputer.transform(df2_33)\n",
    "\n",
    "# Impute NANs - 50%\n",
    "imputer = SimpleImputer(missing_values=np.nan, strategy='mean', copy=False)\n",
    "imputer.fit(df2_50)\n",
    "imputer.transform(df2_50)"
   ]
  },
  {
   "cell_type": "code",
   "execution_count": 22,
   "metadata": {},
   "outputs": [
    {
     "output_type": "execute_result",
     "data": {
      "text/plain": [
       "0.3339376909276107"
      ]
     },
     "metadata": {},
     "execution_count": 22
    }
   ],
   "source": [
    "# Replace existing HouseAge column with imputed column - 1%\n",
    "df2['HouseAge'] = df2_1['HouseAge']\n",
    "df2_v1 = df2[['MedInc', 'HouseAge','AveRooms','AveBedrms','Population','AveOccup','Latitude','Longitude']]\n",
    "df2_v1_p = df2[['prices']]\n",
    "\n",
    "# Split 1%\n",
    "x_train,x_test,y_train,y_test=train_test_split(df2_v1,df2_v1_p,test_size=0.2,random_state=7)\n",
    "\n",
    "# train the linear regression model\n",
    "impute_model = LinearRegression()\n",
    "impute_model.fit(x_train,y_train)\n",
    "\n",
    "# predict using the test data\n",
    "impute_model_pred = impute_model.predict(x_test)\n",
    "\n",
    "# How accuratge is our model? R2\n",
    "r2_impute_1 = r2_score(impute_model_pred,y_test)\n",
    "r2_impute_1"
   ]
  },
  {
   "cell_type": "code",
   "execution_count": 23,
   "metadata": {},
   "outputs": [
    {
     "output_type": "execute_result",
     "data": {
      "text/plain": [
       "0.3311813521324689"
      ]
     },
     "metadata": {},
     "execution_count": 23
    }
   ],
   "source": [
    "# Replace existing HouseAge column with imputed column - 5%\n",
    "df2['HouseAge'] = df2_5['HouseAge']\n",
    "df2_v5 = df2[['MedInc', 'HouseAge','AveRooms','AveBedrms','Population','AveOccup','Latitude','Longitude']]\n",
    "df2_v5_p = df2[['prices']]\n",
    "\n",
    "# Split\n",
    "x_train,x_test,y_train,y_test=train_test_split(df2_v5,df2_v5_p,test_size=0.2,random_state=7)\n",
    "\n",
    "# train the linear regression model\n",
    "impute_model = LinearRegression()\n",
    "impute_model.fit(x_train,y_train)\n",
    "\n",
    "# predict using the test data\n",
    "impute_model_pred = impute_model.predict(x_test)\n",
    "\n",
    "# How accuratge is our model? R2\n",
    "r2_impute_5 = r2_score(impute_model_pred,y_test)\n",
    "r2_impute_5"
   ]
  },
  {
   "cell_type": "code",
   "execution_count": 24,
   "metadata": {},
   "outputs": [
    {
     "output_type": "execute_result",
     "data": {
      "text/plain": [
       "0.3307759464517922"
      ]
     },
     "metadata": {},
     "execution_count": 24
    }
   ],
   "source": [
    "# Replace existing HouseAge column with imputed column - 10%\n",
    "df2['HouseAge'] = df2_10['HouseAge']\n",
    "df2_v10 = df2[['MedInc', 'HouseAge','AveRooms','AveBedrms','Population','AveOccup','Latitude','Longitude']]\n",
    "df2_v10_p = df2[['prices']]\n",
    "\n",
    "# Split\n",
    "x_train,x_test,y_train,y_test=train_test_split(df2_v10,df2_v10_p,test_size=0.2,random_state=7)\n",
    "\n",
    "# train the linear regression model\n",
    "impute_model = LinearRegression()\n",
    "impute_model.fit(x_train,y_train)\n",
    "\n",
    "# predict using the test data\n",
    "impute_model_pred = impute_model.predict(x_test)\n",
    "\n",
    "# How accuratge is our model? R2\n",
    "r2_impute_10 = r2_score(impute_model_pred,y_test)\n",
    "r2_impute_10"
   ]
  },
  {
   "cell_type": "code",
   "execution_count": 25,
   "metadata": {},
   "outputs": [
    {
     "output_type": "execute_result",
     "data": {
      "text/plain": [
       "0.3245994732785006"
      ]
     },
     "metadata": {},
     "execution_count": 25
    }
   ],
   "source": [
    "# Replace existing HouseAge column with imputed column - 20%\n",
    "df2['HouseAge'] = df2_20['HouseAge']\n",
    "df2_v20 = df2[['MedInc', 'HouseAge','AveRooms','AveBedrms','Population','AveOccup','Latitude','Longitude']]\n",
    "df2_v20_p = df2[['prices']]\n",
    "\n",
    "# Split\n",
    "x_train,x_test,y_train,y_test=train_test_split(df2_v20,df2_v20_p,test_size=0.2,random_state=7)\n",
    "\n",
    "# train the linear regression model\n",
    "impute_model = LinearRegression()\n",
    "impute_model.fit(x_train,y_train)\n",
    "\n",
    "# predict using the test data\n",
    "impute_model_pred = impute_model.predict(x_test)\n",
    "\n",
    "# How accuratge is our model? R2\n",
    "r2_impute_20 = r2_score(impute_model_pred,y_test)\n",
    "r2_impute_20"
   ]
  },
  {
   "cell_type": "code",
   "execution_count": 26,
   "metadata": {},
   "outputs": [
    {
     "output_type": "execute_result",
     "data": {
      "text/plain": [
       "0.3211776038525259"
      ]
     },
     "metadata": {},
     "execution_count": 26
    }
   ],
   "source": [
    "# Replace existing HouseAge column with imputed column - 33%\n",
    "df2['HouseAge'] = df2_33['HouseAge']\n",
    "df2_v33 = df2[['MedInc', 'HouseAge','AveRooms','AveBedrms','Population','AveOccup','Latitude','Longitude']]\n",
    "df2_v33_p = df2[['prices']]\n",
    "\n",
    "# Split\n",
    "x_train,x_test,y_train,y_test=train_test_split(df2_v33,df2_v33_p,test_size=0.2,random_state=7)\n",
    "\n",
    "# train the linear regression model\n",
    "impute_model = LinearRegression()\n",
    "impute_model.fit(x_train,y_train)\n",
    "\n",
    "# predict using the test data\n",
    "impute_model_pred = impute_model.predict(x_test)\n",
    "\n",
    "# How accuratge is our model? R2\n",
    "r2_impute_33 = r2_score(impute_model_pred,y_test)\n",
    "r2_impute_33"
   ]
  },
  {
   "cell_type": "code",
   "execution_count": 27,
   "metadata": {},
   "outputs": [
    {
     "output_type": "execute_result",
     "data": {
      "text/plain": [
       "0.3169051350410724"
      ]
     },
     "metadata": {},
     "execution_count": 27
    }
   ],
   "source": [
    "# Replace existing HouseAge column with imputed column - 50%\n",
    "df2['HouseAge'] = df2_50['HouseAge']\n",
    "df2_v50 = df2[['MedInc', 'HouseAge','AveRooms','AveBedrms','Population','AveOccup','Latitude','Longitude']]\n",
    "df2_v50_p = df2[['prices']]\n",
    "\n",
    "# Split\n",
    "x_train,x_test,y_train,y_test=train_test_split(df2_v50,df2_v50_p,test_size=0.2,random_state=7)\n",
    "\n",
    "# train the linear regression model\n",
    "impute_model = LinearRegression()\n",
    "impute_model.fit(x_train,y_train)\n",
    "\n",
    "# predict using the test data\n",
    "impute_model_pred = impute_model.predict(x_test)\n",
    "\n",
    "# How accuratge is our model? R2\n",
    "r2_impute_50 = r2_score(impute_model_pred,y_test)\n",
    "r2_impute_50"
   ]
  },
  {
   "cell_type": "markdown",
   "metadata": {},
   "source": [
    "#### The table below shows the R-Squared results for each of the percentages of data imputation for the MCAR analysis. As expected the more data that is imputed the lower the R-Squared value. \n",
    "\n",
    "| Imputation |   |   R-Squared |\n",
    "|:----------:|:-:|:---------:|\n",
    "|     1%     |   | 33.4%     |\n",
    "|     5%     |   | 33.5%     |\n",
    "|     10%    |   | 33.1%     |\n",
    "|     20%    |   | 32.9%     |\n",
    "|     33%    |   | 32.5%     |\n",
    "|     50%    |   | 31.6%     |\n",
    "\n",
    "#### When compared to the baseline model R-Squared of 33.4% everything seems to be inline with the exception of the 5% imputation model. As more of the missing data is replaced with the mean the data values in the HouseAge column become more alike and thus the R-Squared values decrease. At 1% imputation this does not have a huge impact and is inline with the baseline model. At 50% imputation there is an impact and the R-Squared metrics differ. Comparing the MCAR models across themselves the impact of the imputation is evident as the values drop as more data is imputed. \n"
   ]
  },
  {
   "cell_type": "markdown",
   "metadata": {},
   "source": [
    "### Missing At Random (MAR) Analysis\n",
    "\n",
    "#### For the Missing At Random (MAR) Analysis two different columns will be selected and data will be missing at random when controlled for by a third column. For example, if variable Z is > 30, then variables X and Y are randomly missing). The analysis will be performed on data percentages of 10%, 20% and 20% of missing data. These data sets will then be fit to the linear regression model and compared against the baseline model. \n",
    "\n",
    "#### In order to create the missing at random data the HouseAge and AveRoom columns were selected as the columns to make randomly missing. These columns will be marked missing based on the population field. If the population is greater than 1425 then the HouseAge and AveRoom columns will be marked as missing. As was done previously, the mean will be used as the imputation method for the missing data. "
   ]
  },
  {
   "cell_type": "code",
   "execution_count": 28,
   "metadata": {},
   "outputs": [
    {
     "output_type": "execute_result",
     "data": {
      "text/plain": [
       "array([[   8.3252    ,   41.        ,    6.98412698, ...,   37.88      ,\n",
       "        -122.23      ,    4.526     ],\n",
       "       [   8.3014    ,   28.62829457,    6.23813708, ...,   37.86      ,\n",
       "        -122.22      ,    3.585     ],\n",
       "       [   7.2574    ,   28.62829457,    8.28813559, ...,   37.85      ,\n",
       "        -122.24      ,    3.521     ],\n",
       "       ...,\n",
       "       [   1.7       ,   17.        ,    5.20554273, ...,   39.43      ,\n",
       "        -121.22      ,    0.923     ],\n",
       "       [   1.8672    ,   18.        ,    5.32951289, ...,   39.43      ,\n",
       "        -121.32      ,    0.847     ],\n",
       "       [   2.3886    ,   16.        ,    5.25471698, ...,   39.37      ,\n",
       "        -121.24      ,    0.894     ]])"
      ]
     },
     "metadata": {},
     "execution_count": 28
    }
   ],
   "source": [
    "filter_var = df2.Population > 1425\n",
    "cols_var = ['HouseAge','AveRooms']\n",
    "\n",
    "# 10% run\n",
    "df3 = df2.copy()\n",
    "\n",
    "df3_10 = df2.copy()\n",
    "df3_10.loc[df3_10.loc[filter_var].sample(frac=(10/100)).index, cols_var] = np.nan\n",
    "\n",
    "# Impute 10% run\n",
    "imputer = SimpleImputer(missing_values=np.nan, strategy='mean', copy=False)\n",
    "imputer.fit(df3_10)\n",
    "imputer.transform(df3_10)\n",
    "\n",
    "# 20% run\n",
    "df3 = df2.copy()\n",
    "\n",
    "df3_20 = df2.copy()\n",
    "df3_20.loc[df3_20.loc[filter_var].sample(frac=(20/100)).index, cols_var] = np.nan\n",
    "\n",
    "# Impute 20% run\n",
    "imputer = SimpleImputer(missing_values=np.nan, strategy='mean', copy=False)\n",
    "imputer.fit(df3_20)\n",
    "imputer.transform(df3_20)\n",
    "\n",
    "# 30% run\n",
    "df3 = df2.copy()\n",
    "\n",
    "df3_30 = df2.copy()\n",
    "df3_30.loc[df3_30.loc[filter_var].sample(frac=(30/100)).index, cols_var] = np.nan\n",
    "\n",
    "# Impute 30% run\n",
    "imputer = SimpleImputer(missing_values=np.nan, strategy='mean', copy=False)\n",
    "imputer.fit(df3_30)\n",
    "imputer.transform(df3_30)"
   ]
  },
  {
   "cell_type": "code",
   "execution_count": 29,
   "metadata": {},
   "outputs": [
    {
     "output_type": "execute_result",
     "data": {
      "text/plain": [
       "0.31451499371294145"
      ]
     },
     "metadata": {},
     "execution_count": 29
    }
   ],
   "source": [
    "# Replace existing HouseAge column with imputed column - 10%\n",
    "df3['HouseAge'] = df3_10['HouseAge']\n",
    "df3['AveRooms'] = df3_10['AveRooms']\n",
    "df3_v10 = df3[['MedInc', 'HouseAge','AveRooms','AveBedrms','Population','AveOccup','Latitude','Longitude']]\n",
    "df3_v10_p = df3[['prices']]\n",
    "\n",
    "# Split\n",
    "x_train,x_test,y_train,y_test=train_test_split(df3_v10,df3_v10_p,test_size=0.2,random_state=7)\n",
    "\n",
    "# train the linear regression model\n",
    "impute_model = LinearRegression()\n",
    "impute_model.fit(x_train,y_train)\n",
    "\n",
    "# predict using the test data\n",
    "impute_model_pred = impute_model.predict(x_test)\n",
    "\n",
    "# How accuratge is our model? R2\n",
    "r2_impute_3_10 = r2_score(impute_model_pred,y_test)\n",
    "r2_impute_3_10"
   ]
  },
  {
   "cell_type": "code",
   "execution_count": 30,
   "metadata": {},
   "outputs": [
    {
     "output_type": "execute_result",
     "data": {
      "text/plain": [
       "0.30877909947171345"
      ]
     },
     "metadata": {},
     "execution_count": 30
    }
   ],
   "source": [
    "# Replace existing HouseAge column with imputed column - 20%\n",
    "df3['HouseAge'] = df3_20['HouseAge']\n",
    "df3['AveRooms'] = df3_20['AveRooms']\n",
    "df3_v20 = df3[['MedInc', 'HouseAge','AveRooms','AveBedrms','Population','AveOccup','Latitude','Longitude']]\n",
    "df3_v20_p = df3[['prices']]\n",
    "\n",
    "# Split\n",
    "x_train,x_test,y_train,y_test=train_test_split(df3_v20,df3_v20_p,test_size=0.2,random_state=7)\n",
    "\n",
    "# train the linear regression model\n",
    "impute_model = LinearRegression()\n",
    "impute_model.fit(x_train,y_train)\n",
    "\n",
    "# predict using the test data\n",
    "impute_model_pred = impute_model.predict(x_test)\n",
    "\n",
    "# How accuratge is our model? R2\n",
    "r2_impute_3_20 = r2_score(impute_model_pred,y_test)\n",
    "r2_impute_3_20"
   ]
  },
  {
   "cell_type": "code",
   "execution_count": 31,
   "metadata": {},
   "outputs": [
    {
     "output_type": "execute_result",
     "data": {
      "text/plain": [
       "0.30952801726452717"
      ]
     },
     "metadata": {},
     "execution_count": 31
    }
   ],
   "source": [
    "# Replace existing HouseAge column with imputed column - 30%\n",
    "df3['HouseAge'] = df3_30['HouseAge']\n",
    "df3['AveRooms'] = df3_30['AveRooms']\n",
    "df3_v30 = df3[['MedInc', 'HouseAge','AveRooms','AveBedrms','Population','AveOccup','Latitude','Longitude']]\n",
    "df3_v30_p = df3[['prices']]\n",
    "\n",
    "# Split\n",
    "x_train,x_test,y_train,y_test=train_test_split(df3_v30,df3_v30_p,test_size=0.2,random_state=7)\n",
    "\n",
    "# train the linear regression model\n",
    "impute_model = LinearRegression()\n",
    "impute_model.fit(x_train,y_train)\n",
    "\n",
    "# predict using the test data\n",
    "impute_model_pred = impute_model.predict(x_test)\n",
    "\n",
    "# How accuratge is our model? R2\n",
    "r2_impute_3_30 = r2_score(impute_model_pred,y_test)\n",
    "r2_impute_3_30"
   ]
  },
  {
   "cell_type": "markdown",
   "metadata": {},
   "source": [
    "#### The table below shows the R-Squared results for each of the percentages of data imputation for the MAR analysis. As expected the more data that is imputed the lower the R-Squared value. \n",
    "\n",
    "| Imputation |   |   R-Squared |\n",
    "|:----------:|:-:|:---------:|\n",
    "|     10%     |   | 31.6%     |\n",
    "|     20%     |   | 31.5%     |\n",
    "|     30%    |   | 31.3%     |\n",
    "\n",
    "#### When compared to the baseline model R-Squared of 33.4% everything seems to be inline with the exceptions that these models will not perform as well as the baseline model. As more of the missing data is replaced with the mean the data values in the HouseAge and AveRooms columns become more alike and thus the R-Squared values decrease. At 10% imputation there is an immediate difference between this model and the baseline model. This difference continues when comparing all models to the baseline model. Comparing within the models built for the MAR analysis, the R-Squared values are all fairly close. "
   ]
  },
  {
   "cell_type": "markdown",
   "metadata": {},
   "source": [
    "#### Step 4: Create a Missing Not at Random pattern in which 25% of the data is missing for a single column. Impute your data, fit the results and compare to a baseline."
   ]
  },
  {
   "cell_type": "code",
   "execution_count": null,
   "metadata": {},
   "outputs": [],
   "source": []
  }
 ],
 "metadata": {
  "kernelspec": {
   "display_name": "Python 3",
   "language": "python",
   "name": "python3"
  },
  "language_info": {
   "codemirror_mode": {
    "name": "ipython",
    "version": 3
   },
   "file_extension": ".py",
   "mimetype": "text/x-python",
   "name": "python",
   "nbconvert_exporter": "python",
   "pygments_lexer": "ipython3",
   "version": "3.8.3-candidate"
  }
 },
 "nbformat": 4,
 "nbformat_minor": 2
}