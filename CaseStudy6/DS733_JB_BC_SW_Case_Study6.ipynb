{
  "nbformat": 4,
  "nbformat_minor": 0,
  "metadata": {
    "kernelspec": {
      "display_name": "Python 3",
      "language": "python",
      "name": "python3"
    },
    "language_info": {
      "codemirror_mode": {
        "name": "ipython",
        "version": 3
      },
      "file_extension": ".py",
      "mimetype": "text/x-python",
      "name": "python",
      "nbconvert_exporter": "python",
      "pygments_lexer": "ipython3",
      "version": "3.8.3-candidate"
    },
    "colab": {
      "name": "DS733_JB_BC_SW_Case_Study6_BC.ipynb",
      "provenance": [],
      "collapsed_sections": [
        "I-_tC8Hy6gg_",
        "ROnzE5yg6ghH",
        "DU2tZidkDe2V",
        "QxHCpa79PO6v"
      ]
    },
    "accelerator": "GPU"
  },
  "cells": [
    {
      "cell_type": "markdown",
      "metadata": {
        "id": "I-_tC8Hy6gg_"
      },
      "source": [
        "### QTW Case Study 6 - \"Searching for Exotic Particles in High-Energy Physics with Deep Learning\"\n",
        "### Jayson Barker, Brandon Croom, Shane Weinstock"
      ]
    },
    {
      "cell_type": "markdown",
      "metadata": {
        "id": "ROnzE5yg6ghH"
      },
      "source": [
        "## Business Understanding\n",
        "\n",
        "#### The study of particle collisions, especially at high-energy particle colliders, are a key source for identifying exotic particles in the physics community. The discovery of these exotic particles is a difficult task that deep machine learning can help to classify these particles and speed up scientific discoveries. \n",
        "\n",
        "#### In the paper \"Searching for Exotic Particles in High-Energy Physics with Deep Learning\" (https://arxiv.org/pdf/1402.4735.pdf) the researchers build out a deep learning framework to model particle collisions using the Pylearn2 framework. Key features of the model built in this paper are as follows:\n",
        "\n",
        "* (pg. 6)\n",
        ">We selected a five-layer neural\n",
        "network with 300 hidden units in each layer, a learning\n",
        "rate of 0.05, and a weight decay coefficient of 1 × 10−5.\n",
        "\n",
        "* (pg. 9, Methods)\n",
        ">Hidden units all used the tanh activation function.\n",
        "Weights were initialized from a normal distribution with\n",
        "zero mean and standard deviation 0.1 in the first layer,\n",
        "0.001 in the output layer, and 0.05 all other hidden layers\n",
        "\n",
        "* (pg. 9, Methods)\n",
        ">  Gradient computations were made on mini-batches\n",
        "of size 100. A momentum term increased linearly over\n",
        "the first 200 epochs from 0.9 to 0.99, at which point it\n",
        "remained constant.\n",
        "\n",
        "* (pg. 9, Methods)\n",
        ">Training ended when the momentum had\n",
        "reached its maximum value and the minimum error on\n",
        "the validation set (500,000 examples) had not decreased\n",
        "by more than a factor of 0.00001 over 10 epochs. This\n",
        "early stopping prevented overfitting and resulted in each\n",
        "neural network being trained for 200-1000 epochs.\n",
        "\n",
        "* (pg. 9, Methods)\n",
        ">Autoencoder pretraining was performed by training a\n",
        "stack of single-hidden-layer autoencoder networks, then fine-tuning the full network using the class labels. Each autoencoder in the stack used tanh hidden\n",
        "units and linear outputs, and was trained with the same\n",
        "initialization scheme, learning algorithm, and stopping\n",
        "parameters as in the fine-tuning stage. When training\n",
        "with dropout, we increased the learning rate decay factor\n",
        "to 1.0000003, and only ended training when the momentum had reached its maximum value and the error on the\n",
        "validation set had not decreased for 40 epochs.\n",
        "\n",
        "\n",
        "#### Given that the PyLearn2 framework is no longer in development or support, the goal of our research article will be to replicate the model, defined above, in Tensorflow. Through the analysis we will attempt to replicate the original model as close as possible, call out areas that cannot be replicated, and also provide information on possible improvements to the model that could be developed. Leveraging TensorFlow for the model framework will provide a supported machine learning platform that continues to evolve.\n",
        "\n",
        "#### NOTE: As the reader proceeds through this document, many of the non critical notebook cells will be collapsed. For further investigation, simply click on the cells to expand the cells to see information contained in them."
      ]
    },
    {
      "cell_type": "markdown",
      "metadata": {
        "id": "WncT0uwL6ghM"
      },
      "source": [
        "## Data Setup and Description\n",
        "\n",
        "#### In this section the required software libraries for building out the model will be imported, helper functions will be defined and the data will be imported. \n",
        "\n",
        "#### The first step will be to setup the libraries for modeling and verify the TensorFlow version. There are nuiances within TensorFlow that sometimes require specific versions. Checking the TensorFlow version will allow for anticipating any issues that may arise. Additionally, the environment will be configured for logging of any errors for investigation."
      ]
    },
    {
      "cell_type": "code",
      "metadata": {
        "id": "7aqIpn3x6ghQ",
        "outputId": "02e4dc2a-b7a0-4a3b-d794-c2596a69112e",
        "colab": {
          "base_uri": "https://localhost:8080/"
        }
      },
      "source": [
        "import pandas as pd\n",
        "import numpy as np\n",
        "import matplotlib.pyplot as plt\n",
        "from IPython.display import Markdown as md\n",
        "from IPython.display import display\n",
        "%matplotlib inline\n",
        "\n",
        "# modeling\n",
        "import tensorflow as tf\n",
        "from tensorflow.keras import Sequential\n",
        "from tensorflow.keras.layers import Dense\n",
        "from tensorflow.keras.callbacks import EarlyStopping\n",
        "from tensorflow.keras import layers\n",
        "from tensorflow.keras import regularizers\n",
        "from sklearn.model_selection import train_test_split\n",
        "import pathlib\n",
        "import shutil\n",
        "import tempfile\n",
        "\n",
        "# sklearn helpers\n",
        "from sklearn.metrics import roc_curve\n",
        "from sklearn.metrics import auc\n",
        "from tensorflow.keras.wrappers.scikit_learn import KerasClassifier\n",
        "from sklearn.base import BaseEstimator\n",
        "from sklearn.preprocessing import StandardScaler\n",
        "import seaborn as sns\n",
        "\n",
        "print(\"TensorFlow Version: \" + tf.__version__)"
      ],
      "execution_count": 1,
      "outputs": [
        {
          "output_type": "stream",
          "text": [
            "TensorFlow Version: 2.3.0\n"
          ],
          "name": "stdout"
        }
      ]
    },
    {
      "cell_type": "code",
      "metadata": {
        "id": "WIIh_G7f6ghi"
      },
      "source": [
        "# Build out Log Directory\n",
        "logdir = pathlib.Path(tempfile.mkdtemp())/\"tensorboard_logs\"\n",
        "shutil.rmtree(logdir, ignore_errors=True)"
      ],
      "execution_count": 2,
      "outputs": []
    },
    {
      "cell_type": "code",
      "metadata": {
        "id": "rEwc0vmK6ghu"
      },
      "source": [
        "# Define Constant Values\n",
        "FEATURES = 28\n",
        "LOAD_BATCH_SIZE = 10000\n",
        "DATA_ROWS = 3000000\n",
        "EPOCHS = 200\n",
        "BATCH_SIZE = 100\n",
        "DECAY_RATE = 0.5\n",
        "LEARNING_RATE = 0.05\n",
        "HIDDEN_UNITS = 300\n",
        "PATIENCE = 4\n",
        "MIN_DELTA = 0.01"
      ],
      "execution_count": 3,
      "outputs": []
    },
    {
      "cell_type": "code",
      "metadata": {
        "id": "QmxyqNC76gh3"
      },
      "source": [
        "# Build out Helper functions\n",
        "def pack_row(*row):\n",
        "  label = row[0]\n",
        "  features = tf.stack(row[1:],1)\n",
        "  return features, label\n",
        "\n",
        "def execute_model(name,\n",
        "             features,\n",
        "             labels,\n",
        "             base_activation='tanh',\n",
        "             epochs=EPOCHS,\n",
        "             batch_size=BATCH_SIZE,\n",
        "             decay_rate=DECAY_RATE,\n",
        "             optimizer=None):\n",
        "    display(md(f\"### {name}\"))\n",
        "\n",
        "    initial_learning_rate = LEARNING_RATE\n",
        "    if not optimizer:\n",
        "        lr_schedule = tf.keras.optimizers.schedules.ExponentialDecay(\n",
        "            initial_learning_rate=initial_learning_rate,\n",
        "            decay_steps=100000,\n",
        "            decay_rate=decay_rate,\n",
        "            staircase=True)\n",
        "        optimizer = tf.keras.optimizers.SGD(learning_rate=lr_schedule)\n",
        "\n",
        "    # Partition data\n",
        "    display(md(\"#### Partition Data\"))\n",
        "    X = features\n",
        "    y = labels\n",
        "    X_train, X_test, y_train, y_test = train_test_split(X,\n",
        "                                                        y,\n",
        "                                                        test_size=0.20,\n",
        "                                                        random_state=7333)\n",
        "    print(\"done.\")\n",
        "\n",
        "    # Partition data\n",
        "    display(md(\"#### Normalize Data\"))\n",
        "    \n",
        "    #fit to train data\n",
        "    scaler = StandardScaler()\n",
        "    X_train = scaler.fit_transform(X_train)\n",
        "    #transform test, do not fit\n",
        "    X_test = scaler.transform(X_test)\n",
        "\n",
        "    print(\"done.\")\n",
        "\n",
        "    \n",
        "    # Build model\n",
        "    display(md(\"#### Build Model\"))\n",
        "    model = tf.keras.Sequential([\n",
        "        tf.keras.layers.Dense(HIDDEN_UNITS, activation=base_activation),\n",
        "        tf.keras.layers.Dropout(rate=0.5),\n",
        "        tf.keras.layers.Dense(HIDDEN_UNITS, activation=base_activation),\n",
        "        tf.keras.layers.Dense(HIDDEN_UNITS, activation=base_activation),\n",
        "        tf.keras.layers.Dense(HIDDEN_UNITS, activation=base_activation),\n",
        "        tf.keras.layers.Dense(1, activation='sigmoid')\n",
        "    ])\n",
        "    model.compile(optimizer=optimizer, loss='mse', metrics=['accuracy'])\n",
        "    print(\"done.\")\n",
        "\n",
        "    # early stopping callback\n",
        "    es = EarlyStopping(monitor=\"accuracy\", min_delta=MIN_DELTA, patience=PATIENCE)\n",
        "\n",
        "    display(md(\"#### Train Model\"))\n",
        "    # fit\n",
        "    history = model.fit(X_train,\n",
        "                        y_train,\n",
        "                        validation_data=(X_test, y_test),\n",
        "                        callbacks=[es],\n",
        "                        epochs=epochs,\n",
        "                        batch_size=batch_size)\n",
        "\n",
        "    display(md(\"#### Train/Loss Plot (MSE)\"))\n",
        "\n",
        "    fig, ax = plt.subplots(nrows=2, ncols=1, figsize=(20, 10))\n",
        "    ax.ravel()\n",
        "    #print(history.history)\n",
        "    p = sns.lineplot(x=range(1,\n",
        "                             len(history.history['loss']) + 1),\n",
        "                     y=history.history['loss'],\n",
        "                     color='blue',\n",
        "                     label='train',\n",
        "                     ax=ax[0])\n",
        "    sns.lineplot(x=range(1,\n",
        "                         len(history.history['val_loss']) + 1),\n",
        "                 y=history.history['val_loss'],\n",
        "                 color='orange',\n",
        "                 label='validation',\n",
        "                 ax=ax[0])\n",
        "    p.set_ylabel('Loss (Blue: Train, Orange: Val.)')\n",
        "    p.set_xlabel('Epochs')\n",
        "    p.set_title('Training/Validation Curves')\n",
        "\n",
        "    # accuracy\n",
        "    model_scores = model.evaluate(X_test, y_test, verbose=0)\n",
        "\n",
        "    # AUC\n",
        "    predictions = model.predict(X_test).ravel()  # predictions\n",
        "    fpr, tpr, thresholds = roc_curve(y_test, predictions)  # ROC\n",
        "    auc_metric = auc(fpr, tpr)  # finally AUC\n",
        "\n",
        "    # print metrics\n",
        "    display(md(\"#### Evaluate Model - Metrics\"))\n",
        "    print('Accuracy:', model_scores[1])\n",
        "    print(f\"AUC: {auc_metric}\")\n",
        "    print(f\"base_activation: {base_activation}\")\n",
        "\n",
        "    #ROC curve\n",
        "    p = sns.scatterplot(\n",
        "        x=fpr,\n",
        "        y=tpr,\n",
        "        label=f'Keras NN {base_activation}: AUC {round(auc_metric, 3)}',\n",
        "        ax=ax[1],\n",
        "        ci=None)\n",
        "    p.set_title('ROC Curve')\n",
        "    plt.show()\n",
        "    display(md(f\"### ----------------------------------\"))\n",
        "\n",
        "    return (model_scores[1], auc_metric) "
      ],
      "execution_count": 4,
      "outputs": []
    },
    {
      "cell_type": "markdown",
      "metadata": {
        "id": "7u7HTjx16gh_"
      },
      "source": [
        "#### Now that the environment has been configured the data required for modeling is downloaded. The data used for modeling comes from the UCI Machine Learning Repository. Specifically, the Higgs-Boson data set (https://archive.ics.uci.edu/ml/datasets/HIGGS)  will be leveraged. According the the UCI Machine Learning Repository description the data contains 28 features across 11,000,000 rows. From the website description:\n",
        "\n",
        "> The first column is the class label (1 for signal, 0 for background), followed by the 28 features (21 low-level features then 7 high-level features): lepton pT, lepton eta, lepton phi, missing energy magnitude, missing energy phi, jet 1 pt, jet 1 eta, jet 1 phi, jet 1 b-tag, jet 2 pt, jet 2 eta, jet 2 phi, jet 2 b-tag, jet 3 pt, jet 3 eta, jet 3 phi, jet 3 b-tag, jet 4 pt, jet 4 eta, jet 4 phi, jet 4 b-tag, m_jj, m_jjj, m_lv, m_jlv, m_bb, m_wbb, m_wwbb. For more detailed information about each feature see the original paper.\n",
        "\n",
        "#### Additionally, the data is broken down into three sets of features:\n",
        "* Low Level Features - Features 1 - 21\n",
        "* High Level Features - Features 22 - 29\n",
        "* Mixed (Low & High) Features - All Features\n",
        "\n",
        "#### For this analysis, all three sets of feature types will be investigated to see if there is a difference.\n"
      ]
    },
    {
      "cell_type": "code",
      "metadata": {
        "id": "g0qABpJo6giA"
      },
      "source": [
        "gz = tf.keras.utils.get_file('HIGGS.csv.gz', 'http://mlphysics.ics.uci.edu/data/higgs/HIGGS.csv.gz')"
      ],
      "execution_count": 5,
      "outputs": []
    },
    {
      "cell_type": "code",
      "metadata": {
        "id": "nDB4bdWr6giI"
      },
      "source": [
        "ds = tf.data.experimental.CsvDataset(gz,[float(),]*(FEATURES+1), compression_type=\"GZIP\")"
      ],
      "execution_count": 6,
      "outputs": []
    },
    {
      "cell_type": "code",
      "metadata": {
        "id": "UBJnNpwg6giQ"
      },
      "source": [
        "packed_ds = ds.batch(LOAD_BATCH_SIZE).map(pack_row).unbatch()"
      ],
      "execution_count": 7,
      "outputs": []
    },
    {
      "cell_type": "markdown",
      "metadata": {
        "id": "x9uw4KZs6giZ"
      },
      "source": [
        "#### Evaluating the data at a high level, the data seems to be normally distributed however there are a few outliers in the data. Given the volume of data it is difficult to tell how much of the data is missing"
      ]
    },
    {
      "cell_type": "code",
      "metadata": {
        "id": "vmYajvVV6gia",
        "outputId": "8ecf7ad8-cef4-426b-adf9-51454422c3ac",
        "colab": {
          "base_uri": "https://localhost:8080/",
          "height": 367
        }
      },
      "source": [
        "for features,label in packed_ds.batch(1000).take(1):\n",
        "  print(features[0])\n",
        "  plt.hist(features.numpy().flatten(), bins = 101)"
      ],
      "execution_count": 8,
      "outputs": [
        {
          "output_type": "stream",
          "text": [
            "tf.Tensor(\n",
            "[ 0.8692932  -0.6350818   0.22569026  0.32747006 -0.6899932   0.75420225\n",
            " -0.24857314 -1.0920639   0.          1.3749921  -0.6536742   0.9303491\n",
            "  1.1074361   1.1389043  -1.5781983  -1.0469854   0.          0.65792954\n",
            " -0.01045457 -0.04576717  3.1019614   1.35376     0.9795631   0.97807616\n",
            "  0.92000484  0.72165745  0.98875093  0.87667835], shape=(28,), dtype=float32)\n"
          ],
          "name": "stdout"
        },
        {
          "output_type": "display_data",
          "data": {
            "image/png": "[encoded data removed]",
            "text/plain": [
              "<Figure size 432x288 with 1 Axes>"
            ]
          },
          "metadata": {
            "tags": [],
            "needs_background": "light"
          }
        }
      ]
    },
    {
      "cell_type": "markdown",
      "metadata": {
        "id": "9yt6duGL6gij"
      },
      "source": [
        "## Model Comparison\n",
        "\n",
        "#### As previously stated, the key goal of this article is to replicate the original model built in Pylearn2 into a new model built in TensorFlow. A recap of the original model is as follows:\n",
        "\n",
        "* (pg. 6)\n",
        ">We selected a five-layer neural\n",
        "network with 300 hidden units in each layer, a learning\n",
        "rate of 0.05, and a weight decay coefficient of 1 × 10−5.\n",
        "\n",
        "* (pg. 9, Methods)\n",
        ">Hidden units all used the tanh activation function.\n",
        "Weights were initialized from a normal distribution with\n",
        "zero mean and standard deviation 0.1 in the first layer,\n",
        "0.001 in the output layer, and 0.05 all other hidden layers\n",
        "\n",
        "* (pg. 9, Methods)\n",
        ">  Gradient computations were made on mini-batches\n",
        "of size 100. A momentum term increased linearly over\n",
        "the first 200 epochs from 0.9 to 0.99, at which point it\n",
        "remained constant.\n",
        "\n",
        "* (pg. 9, Methods)\n",
        ">Training ended when the momentum had\n",
        "reached its maximum value and the minimum error on\n",
        "the validation set (500,000 examples) had not decreased\n",
        "by more than a factor of 0.00001 over 10 epochs. This\n",
        "early stopping prevented overfitting and resulted in each\n",
        "neural network being trained for 200-1000 epochs.\n",
        "\n",
        "* (pg. 9, Methods)\n",
        ">Autoencoder pretraining was performed by training a\n",
        "stack of single-hidden-layer autoencoder networks, then fine-tuning the full network using the class labels. Each autoencoder in the stack used tanh hidden\n",
        "units and linear outputs, and was trained with the same\n",
        "initialization scheme, learning algorithm, and stopping\n",
        "parameters as in the fine-tuning stage. When training\n",
        "with dropout, we increased the learning rate decay factor\n",
        "to 1.0000003, and only ended training when the momentum had reached its maximum value and the error on the\n",
        "validation set had not decreased for 40 epochs.\n",
        "\n",
        "#### For the replicated model, the original model will be followed as closely as possible with the following models/parameters:\n",
        "\n",
        "* Keras Sequential Neural Network\n",
        "* Keras Optimizers (controls learning decay rate in our Stochastic Gradient Descent (SGD) algorithm) \n",
        "\n",
        "The exponential decay of the learning rate at step n of the Stochastic Gradient Descent (SGD) search is controlled by the function:\n",
        "\n",
        "$$lr_{n}=lr_{0}*d^\\frac{n}{ds}$$\n",
        "\n",
        "\n",
        "Where $lr_{n}$ is the learning rate at step $n$, $lr_{0}$ is the initial learning rate, $d$ is the decay rate and $ds$ is the number of steps where the decay will be applied. This method is slightly different than that used by the researchers (see notes in summary/conclusion)\n",
        "\n",
        "The researchers initial learning rate of 0.05 will be matched as follows in our model:\n",
        "* $lr_{0}=0.05$.\n",
        "\n",
        "The learning rate decay steps ($ds$) will be set to 10,000. Setting the decay rate to 0.50 provides an effective learning rate curve that looks as follows:"
      ]
    },
    {
      "cell_type": "code",
      "metadata": {
        "id": "UpYWOOXQ6gik",
        "outputId": "4f6cd2b2-c312-4826-95f0-4ea161500563",
        "colab": {
          "base_uri": "https://localhost:8080/",
          "height": 312
        }
      },
      "source": [
        "iters = 10000\n",
        "epochs = range(1, iters + 1)\n",
        "learning_rate = 0.05\n",
        "decay_rate = 0.50\n",
        "effective_learning_rate = [learning_rate*decay_rate**(n/iters) for n in epochs]\n",
        "p = sns.scatterplot(x=epochs, y=effective_learning_rate, ci=None)\n",
        "p.set_title('Effective Learning Rate')\n",
        "p.set_xlabel('Epoch')\n",
        "p.set_ylabel('LR')\n",
        "p"
      ],
      "execution_count": 9,
      "outputs": [
        {
          "output_type": "execute_result",
          "data": {
            "text/plain": [
              "<matplotlib.axes._subplots.AxesSubplot at 0x7f56e256b9e8>"
            ]
          },
          "metadata": {
            "tags": []
          },
          "execution_count": 9
        },
        {
          "output_type": "display_data",
          "data": {
            "image/png": "[encoded data removed]",
            "text/plain": [
              "<Figure size 432x288 with 1 Axes>"
            ]
          },
          "metadata": {
            "tags": [],
            "needs_background": "light"
          }
        }
      ]
    },
    {
      "cell_type": "markdown",
      "metadata": {
        "id": "6rlsNluR6giq"
      },
      "source": [
        "#### These learning rate settings, ideally, will allow the new model to converge more quickly. \n",
        "\n",
        "#### In the original research, the researchers were able to set the initial weights of their layers according to specified normal ($N(\\mu,\\sigma$)) distributions. Keras dense layers do note seem to support this option. Our model will proceed with the default keras implementation which is random initialization. \n",
        "\n",
        "#### The new model will consist of:\n",
        "\n",
        "* an implicit input layer (matching the dimensions of our feature set) \n",
        "* 4, 300 node dense tanh activation layers\n",
        "* 1 50% probability drop out layer between the 1st and second dense layer\n",
        "* 1 final layer with single node (sigmoid activation)\n",
        "\n",
        "#### Other key features for the new model include:\n",
        "\n",
        "* The drop out layer will serve as a regularization layer\n",
        "* The stopping method will be accuracy based with a minimum delta of 0.01 and patience setting of 4. Training will truncate when an increase of 0.01 in accuracy is not achieved over 4 epochs.\n",
        "* The **momentum** parameter used in the original model's stopping algorithm is not available for use in the new model. There does not seem to be an implementation in the Keras API. \n",
        "* All inputs are scaled to $N(0,1)$ using the sk-learn StandardScaler\n",
        "\n",
        "\n",
        "#### In order to speed up model build times for comparisons, the new model will leverage 3,000,000 rows of the available 11,000,000 of the data set.\n",
        "\n",
        "#### For each of the data ranges (Low-level, High-Level, and Mixed - Low & High) the new Tensorflow model will use the same parameters as the original model:\n",
        "\n",
        "* number of epochs of 200\n",
        "* activation function of tanh\n",
        "* batch size of 100\n",
        "* train/test split of 80/20"
      ]
    },
    {
      "cell_type": "code",
      "metadata": {
        "id": "09oRfXVA6gir",
        "outputId": "8df22f5d-f8ae-4bc9-fa16-90244d9def88",
        "colab": {
          "base_uri": "https://localhost:8080/"
        }
      },
      "source": [
        "data = pd.read_csv(gz, nrows=DATA_ROWS, header=None)\n",
        "data[0] = data[0].astype(int)\n",
        "print(f\"Using {DATA_ROWS:,.0f} rows of entire dataset\")"
      ],
      "execution_count": 10,
      "outputs": [
        {
          "output_type": "stream",
          "text": [
            "Using 3,000,000 rows of entire dataset\n"
          ],
          "name": "stdout"
        }
      ]
    },
    {
      "cell_type": "code",
      "metadata": {
        "id": "e1_7R8466gix",
        "outputId": "6f16a629-e82f-4f40-8bf3-049adaa8147a",
        "colab": {
          "base_uri": "https://localhost:8080/",
          "height": 1000
        }
      },
      "source": [
        "%matplotlib inline\n",
        "\n",
        "compare_dict = {}\n",
        "\n",
        "compare_dict[\"Low-level\"] = execute_model(\"Low-level\",\n",
        "                                     data.iloc[:, range(1, 22)].values,\n",
        "                                     data[0].values)"
      ],
      "execution_count": 11,
      "outputs": [
        {
          "output_type": "display_data",
          "data": {
            "text/markdown": "### Low-level",
            "text/plain": [
              "<IPython.core.display.Markdown object>"
            ]
          },
          "metadata": {
            "tags": []
          }
        },
        {
          "output_type": "display_data",
          "data": {
            "text/markdown": "#### Partition Data",
            "text/plain": [
              "<IPython.core.display.Markdown object>"
            ]
          },
          "metadata": {
            "tags": []
          }
        },
        {
          "output_type": "stream",
          "text": [
            "done.\n"
          ],
          "name": "stdout"
        },
        {
          "output_type": "display_data",
          "data": {
            "text/markdown": "#### Normalize Data",
            "text/plain": [
              "<IPython.core.display.Markdown object>"
            ]
          },
          "metadata": {
            "tags": []
          }
        },
        {
          "output_type": "stream",
          "text": [
            "done.\n"
          ],
          "name": "stdout"
        },
        {
          "output_type": "display_data",
          "data": {
            "text/markdown": "#### Build Model",
            "text/plain": [
              "<IPython.core.display.Markdown object>"
            ]
          },
          "metadata": {
            "tags": []
          }
        },
        {
          "output_type": "stream",
          "text": [
            "done.\n"
          ],
          "name": "stdout"
        },
        {
          "output_type": "display_data",
          "data": {
            "text/markdown": "#### Train Model",
            "text/plain": [
              "<IPython.core.display.Markdown object>"
            ]
          },
          "metadata": {
            "tags": []
          }
        },
        {
          "output_type": "stream",
          "text": [
            "Epoch 1/200\n",
            "24000/24000 [==============================] - 53s 2ms/step - loss: 0.2340 - accuracy: 0.5982 - val_loss: 0.2194 - val_accuracy: 0.6445\n",
            "Epoch 2/200\n",
            "24000/24000 [==============================] - 53s 2ms/step - loss: 0.2187 - accuracy: 0.6456 - val_loss: 0.2116 - val_accuracy: 0.6629\n",
            "Epoch 3/200\n",
            "24000/24000 [==============================] - 52s 2ms/step - loss: 0.2131 - accuracy: 0.6595 - val_loss: 0.2063 - val_accuracy: 0.6755\n",
            "Epoch 4/200\n",
            "24000/24000 [==============================] - 52s 2ms/step - loss: 0.2104 - accuracy: 0.6660 - val_loss: 0.2042 - val_accuracy: 0.6798\n",
            "Epoch 5/200\n",
            "24000/24000 [==============================] - 52s 2ms/step - loss: 0.2081 - accuracy: 0.6711 - val_loss: 0.2027 - val_accuracy: 0.6836\n",
            "Epoch 6/200\n",
            "24000/24000 [==============================] - 52s 2ms/step - loss: 0.2071 - accuracy: 0.6735 - val_loss: 0.2018 - val_accuracy: 0.6853\n",
            "Epoch 7/200\n",
            "24000/24000 [==============================] - 52s 2ms/step - loss: 0.2064 - accuracy: 0.6751 - val_loss: 0.2014 - val_accuracy: 0.6865\n",
            "Epoch 8/200\n",
            "24000/24000 [==============================] - 53s 2ms/step - loss: 0.2057 - accuracy: 0.6764 - val_loss: 0.2012 - val_accuracy: 0.6860\n",
            "Epoch 9/200\n",
            "24000/24000 [==============================] - 51s 2ms/step - loss: 0.2048 - accuracy: 0.6784 - val_loss: 0.2000 - val_accuracy: 0.6896\n"
          ],
          "name": "stdout"
        },
        {
          "output_type": "display_data",
          "data": {
            "text/markdown": "#### Train/Loss Plot (MSE)",
            "text/plain": [
              "<IPython.core.display.Markdown object>"
            ]
          },
          "metadata": {
            "tags": []
          }
        },
        {
          "output_type": "display_data",
          "data": {
            "text/markdown": "#### Evaluate Model - Metrics",
            "text/plain": [
              "<IPython.core.display.Markdown object>"
            ]
          },
          "metadata": {
            "tags": []
          }
        },
        {
          "output_type": "stream",
          "text": [
            "Accuracy: 0.6895849704742432\n",
            "AUC: 0.7555513481909258\n",
            "base_activation: tanh\n"
          ],
          "name": "stdout"
        },
        {
          "output_type": "display_data",
          "data": {
            "image/png": "[encoded data removed]",
            "text/plain": [
              "<Figure size 1440x720 with 2 Axes>"
            ]
          },
          "metadata": {
            "tags": [],
            "needs_background": "light"
          }
        },
        {
          "output_type": "display_data",
          "data": {
            "text/markdown": "### ----------------------------------",
            "text/plain": [
              "<IPython.core.display.Markdown object>"
            ]
          },
          "metadata": {
            "tags": []
          }
        }
      ]
    },
    {
      "cell_type": "markdown",
      "metadata": {
        "id": "pQObX_xZCzcL"
      },
      "source": [
        "#### For the Low-level data analysis using the tanh activation function, the charts above show that the model accuracy is approximately 68.9% and the model AUC is 0.756. The Training/Validation Curves show that it took only 9 Epochs to reach these values."
      ]
    },
    {
      "cell_type": "code",
      "metadata": {
        "id": "ZOuEz428_OfT",
        "outputId": "7d9568fd-958c-4ffc-dc0d-939de48dbe81",
        "colab": {
          "base_uri": "https://localhost:8080/",
          "height": 1000
        }
      },
      "source": [
        "compare_dict[\"High-level\"] = execute_model(\"High-level\",\n",
        "                                     data.iloc[:, range(22, 29)].values,\n",
        "                                     data[0].values)"
      ],
      "execution_count": 12,
      "outputs": [
        {
          "output_type": "display_data",
          "data": {
            "text/markdown": "### High-level",
            "text/plain": [
              "<IPython.core.display.Markdown object>"
            ]
          },
          "metadata": {
            "tags": []
          }
        },
        {
          "output_type": "display_data",
          "data": {
            "text/markdown": "#### Partition Data",
            "text/plain": [
              "<IPython.core.display.Markdown object>"
            ]
          },
          "metadata": {
            "tags": []
          }
        },
        {
          "output_type": "stream",
          "text": [
            "done.\n"
          ],
          "name": "stdout"
        },
        {
          "output_type": "display_data",
          "data": {
            "text/markdown": "#### Normalize Data",
            "text/plain": [
              "<IPython.core.display.Markdown object>"
            ]
          },
          "metadata": {
            "tags": []
          }
        },
        {
          "output_type": "stream",
          "text": [
            "done.\n"
          ],
          "name": "stdout"
        },
        {
          "output_type": "display_data",
          "data": {
            "text/markdown": "#### Build Model",
            "text/plain": [
              "<IPython.core.display.Markdown object>"
            ]
          },
          "metadata": {
            "tags": []
          }
        },
        {
          "output_type": "stream",
          "text": [
            "done.\n"
          ],
          "name": "stdout"
        },
        {
          "output_type": "display_data",
          "data": {
            "text/markdown": "#### Train Model",
            "text/plain": [
              "<IPython.core.display.Markdown object>"
            ]
          },
          "metadata": {
            "tags": []
          }
        },
        {
          "output_type": "stream",
          "text": [
            "Epoch 1/200\n",
            "24000/24000 [==============================] - 52s 2ms/step - loss: 0.2062 - accuracy: 0.6727 - val_loss: 0.1921 - val_accuracy: 0.7014\n",
            "Epoch 2/200\n",
            "24000/24000 [==============================] - 52s 2ms/step - loss: 0.1930 - accuracy: 0.6991 - val_loss: 0.1891 - val_accuracy: 0.7060\n",
            "Epoch 3/200\n",
            "24000/24000 [==============================] - 52s 2ms/step - loss: 0.1913 - accuracy: 0.7022 - val_loss: 0.1876 - val_accuracy: 0.7089\n",
            "Epoch 4/200\n",
            "24000/24000 [==============================] - 53s 2ms/step - loss: 0.1902 - accuracy: 0.7039 - val_loss: 0.1871 - val_accuracy: 0.7094\n",
            "Epoch 5/200\n",
            "24000/24000 [==============================] - 51s 2ms/step - loss: 0.1893 - accuracy: 0.7056 - val_loss: 0.1863 - val_accuracy: 0.7112\n",
            "Epoch 6/200\n",
            "24000/24000 [==============================] - 51s 2ms/step - loss: 0.1889 - accuracy: 0.7065 - val_loss: 0.1864 - val_accuracy: 0.7108\n"
          ],
          "name": "stdout"
        },
        {
          "output_type": "display_data",
          "data": {
            "text/markdown": "#### Train/Loss Plot (MSE)",
            "text/plain": [
              "<IPython.core.display.Markdown object>"
            ]
          },
          "metadata": {
            "tags": []
          }
        },
        {
          "output_type": "display_data",
          "data": {
            "text/markdown": "#### Evaluate Model - Metrics",
            "text/plain": [
              "<IPython.core.display.Markdown object>"
            ]
          },
          "metadata": {
            "tags": []
          }
        },
        {
          "output_type": "stream",
          "text": [
            "Accuracy: 0.7107516527175903\n",
            "AUC: 0.789281808635859\n",
            "base_activation: tanh\n"
          ],
          "name": "stdout"
        },
        {
          "output_type": "display_data",
          "data": {
            "image/png": "[encoded data removed]",
            "text/plain": [
              "<Figure size 1440x720 with 2 Axes>"
            ]
          },
          "metadata": {
            "tags": [],
            "needs_background": "light"
          }
        },
        {
          "output_type": "display_data",
          "data": {
            "text/markdown": "### ----------------------------------",
            "text/plain": [
              "<IPython.core.display.Markdown object>"
            ]
          },
          "metadata": {
            "tags": []
          }
        }
      ]
    },
    {
      "cell_type": "markdown",
      "metadata": {
        "id": "iDgGdtrXDPlO"
      },
      "source": [
        "#### For the High-level data analysis using the tanh activation function, the charts above show that the model accuracy is approximately 71.0% and the model AUC is 0.789. The Training/Validation Curves show that it took only 6 Epochs to reach these values."
      ]
    },
    {
      "cell_type": "code",
      "metadata": {
        "id": "UHMKgWc__ZhU",
        "outputId": "b55d38d8-8b8b-4df2-a43a-1f7491ab5bfd",
        "colab": {
          "base_uri": "https://localhost:8080/",
          "height": 1000
        }
      },
      "source": [
        "compare_dict[\"Mix-Low+High\"] = execute_model(\"Mix-Low+High\",\n",
        "                                     data.iloc[:, range(1, 29)].values,\n",
        "                                     data[0].values)"
      ],
      "execution_count": 13,
      "outputs": [
        {
          "output_type": "display_data",
          "data": {
            "text/markdown": "### Mix-Low+High",
            "text/plain": [
              "<IPython.core.display.Markdown object>"
            ]
          },
          "metadata": {
            "tags": []
          }
        },
        {
          "output_type": "display_data",
          "data": {
            "text/markdown": "#### Partition Data",
            "text/plain": [
              "<IPython.core.display.Markdown object>"
            ]
          },
          "metadata": {
            "tags": []
          }
        },
        {
          "output_type": "stream",
          "text": [
            "done.\n"
          ],
          "name": "stdout"
        },
        {
          "output_type": "display_data",
          "data": {
            "text/markdown": "#### Normalize Data",
            "text/plain": [
              "<IPython.core.display.Markdown object>"
            ]
          },
          "metadata": {
            "tags": []
          }
        },
        {
          "output_type": "stream",
          "text": [
            "done.\n"
          ],
          "name": "stdout"
        },
        {
          "output_type": "display_data",
          "data": {
            "text/markdown": "#### Build Model",
            "text/plain": [
              "<IPython.core.display.Markdown object>"
            ]
          },
          "metadata": {
            "tags": []
          }
        },
        {
          "output_type": "stream",
          "text": [
            "done.\n"
          ],
          "name": "stdout"
        },
        {
          "output_type": "display_data",
          "data": {
            "text/markdown": "#### Train Model",
            "text/plain": [
              "<IPython.core.display.Markdown object>"
            ]
          },
          "metadata": {
            "tags": []
          }
        },
        {
          "output_type": "stream",
          "text": [
            "Epoch 1/200\n",
            "24000/24000 [==============================] - 51s 2ms/step - loss: 0.2092 - accuracy: 0.6685 - val_loss: 0.1891 - val_accuracy: 0.7104\n",
            "Epoch 2/200\n",
            "24000/24000 [==============================] - 52s 2ms/step - loss: 0.1873 - accuracy: 0.7140 - val_loss: 0.1771 - val_accuracy: 0.7320\n",
            "Epoch 3/200\n",
            "24000/24000 [==============================] - 53s 2ms/step - loss: 0.1804 - accuracy: 0.7264 - val_loss: 0.1733 - val_accuracy: 0.7386\n",
            "Epoch 4/200\n",
            "24000/24000 [==============================] - 52s 2ms/step - loss: 0.1773 - accuracy: 0.7319 - val_loss: 0.1713 - val_accuracy: 0.7421\n",
            "Epoch 5/200\n",
            "24000/24000 [==============================] - 52s 2ms/step - loss: 0.1750 - accuracy: 0.7357 - val_loss: 0.1696 - val_accuracy: 0.7448\n",
            "Epoch 6/200\n",
            "24000/24000 [==============================] - 51s 2ms/step - loss: 0.1740 - accuracy: 0.7378 - val_loss: 0.1686 - val_accuracy: 0.7467\n",
            "Epoch 7/200\n",
            "24000/24000 [==============================] - 52s 2ms/step - loss: 0.1733 - accuracy: 0.7386 - val_loss: 0.1682 - val_accuracy: 0.7473\n",
            "Epoch 8/200\n",
            "24000/24000 [==============================] - 51s 2ms/step - loss: 0.1727 - accuracy: 0.7398 - val_loss: 0.1675 - val_accuracy: 0.7484\n",
            "Epoch 9/200\n",
            "24000/24000 [==============================] - 53s 2ms/step - loss: 0.1720 - accuracy: 0.7410 - val_loss: 0.1668 - val_accuracy: 0.7499\n",
            "Epoch 10/200\n",
            "24000/24000 [==============================] - 51s 2ms/step - loss: 0.1715 - accuracy: 0.7420 - val_loss: 0.1666 - val_accuracy: 0.7503\n"
          ],
          "name": "stdout"
        },
        {
          "output_type": "display_data",
          "data": {
            "text/markdown": "#### Train/Loss Plot (MSE)",
            "text/plain": [
              "<IPython.core.display.Markdown object>"
            ]
          },
          "metadata": {
            "tags": []
          }
        },
        {
          "output_type": "display_data",
          "data": {
            "text/markdown": "#### Evaluate Model - Metrics",
            "text/plain": [
              "<IPython.core.display.Markdown object>"
            ]
          },
          "metadata": {
            "tags": []
          }
        },
        {
          "output_type": "stream",
          "text": [
            "Accuracy: 0.7503233551979065\n",
            "AUC: 0.8326145772982707\n",
            "base_activation: tanh\n"
          ],
          "name": "stdout"
        },
        {
          "output_type": "display_data",
          "data": {
            "image/png": "[encoded data removed]",
            "text/plain": [
              "<Figure size 1440x720 with 2 Axes>"
            ]
          },
          "metadata": {
            "tags": [],
            "needs_background": "light"
          }
        },
        {
          "output_type": "display_data",
          "data": {
            "text/markdown": "### ----------------------------------",
            "text/plain": [
              "<IPython.core.display.Markdown object>"
            ]
          },
          "metadata": {
            "tags": []
          }
        }
      ]
    },
    {
      "cell_type": "markdown",
      "metadata": {
        "id": "DU2tZidkDe2V"
      },
      "source": [
        "#### For the mixed data analysis using the tanh activation function, the charts above show that the model accuracy is approximately 75.0% and the model AUC is 0.833. The Training/Validation Curves show that it took only 10 Epochs to reach these values."
      ]
    },
    {
      "cell_type": "markdown",
      "metadata": {
        "id": "yRb0jhDmHyoe"
      },
      "source": [
        "## Model Enhancement\n",
        "\n",
        "#### In this section all three of the models will be re-executed with the Rectified Linear Activation Function (relu). The relu function is a linear function that outputs a positive value or a zero value. It has become the default activation function in current day machine learning due to the ease of training and sometimes better performance. \n",
        "\n",
        "#### One of the key differences between the relu and tanh functions is that the tanh function maps values from -1 to 1 thus providing negative inputs a stronger mapping to a negative value and those closer to zero a zero based value. At the time of the paper, the tanh function was considered better than the sigmoid function in much the same way that relu is now considered better than tanh. In all cases, the activation functions must be tested to truly verify this assumption."
      ]
    },
    {
      "cell_type": "code",
      "metadata": {
        "id": "RW5f2VWbKedU",
        "outputId": "894cb582-2399-40b6-ca62-73c90a9fdb66",
        "colab": {
          "base_uri": "https://localhost:8080/",
          "height": 1000
        }
      },
      "source": [
        "%matplotlib inline\n",
        "\n",
        "compare_dict[\"Low-level relu\"] = execute_model(\"Low-level\",\n",
        "                                     data.iloc[:, range(1, 22)].values,\n",
        "                                     data[0].values,\n",
        "                                     base_activation='relu')"
      ],
      "execution_count": 14,
      "outputs": [
        {
          "output_type": "display_data",
          "data": {
            "text/markdown": "### Low-level",
            "text/plain": [
              "<IPython.core.display.Markdown object>"
            ]
          },
          "metadata": {
            "tags": []
          }
        },
        {
          "output_type": "display_data",
          "data": {
            "text/markdown": "#### Partition Data",
            "text/plain": [
              "<IPython.core.display.Markdown object>"
            ]
          },
          "metadata": {
            "tags": []
          }
        },
        {
          "output_type": "stream",
          "text": [
            "done.\n"
          ],
          "name": "stdout"
        },
        {
          "output_type": "display_data",
          "data": {
            "text/markdown": "#### Normalize Data",
            "text/plain": [
              "<IPython.core.display.Markdown object>"
            ]
          },
          "metadata": {
            "tags": []
          }
        },
        {
          "output_type": "stream",
          "text": [
            "done.\n"
          ],
          "name": "stdout"
        },
        {
          "output_type": "display_data",
          "data": {
            "text/markdown": "#### Build Model",
            "text/plain": [
              "<IPython.core.display.Markdown object>"
            ]
          },
          "metadata": {
            "tags": []
          }
        },
        {
          "output_type": "stream",
          "text": [
            "done.\n"
          ],
          "name": "stdout"
        },
        {
          "output_type": "display_data",
          "data": {
            "text/markdown": "#### Train Model",
            "text/plain": [
              "<IPython.core.display.Markdown object>"
            ]
          },
          "metadata": {
            "tags": []
          }
        },
        {
          "output_type": "stream",
          "text": [
            "Epoch 1/200\n",
            "24000/24000 [==============================] - 51s 2ms/step - loss: 0.2310 - accuracy: 0.6086 - val_loss: 0.2207 - val_accuracy: 0.6409\n",
            "Epoch 2/200\n",
            "24000/24000 [==============================] - 51s 2ms/step - loss: 0.2217 - accuracy: 0.6380 - val_loss: 0.2174 - val_accuracy: 0.6508\n",
            "Epoch 3/200\n",
            "24000/24000 [==============================] - 51s 2ms/step - loss: 0.2158 - accuracy: 0.6528 - val_loss: 0.2103 - val_accuracy: 0.6670\n",
            "Epoch 4/200\n",
            "24000/24000 [==============================] - 51s 2ms/step - loss: 0.2117 - accuracy: 0.6631 - val_loss: 0.2053 - val_accuracy: 0.6780\n",
            "Epoch 5/200\n",
            "24000/24000 [==============================] - 52s 2ms/step - loss: 0.2090 - accuracy: 0.6694 - val_loss: 0.2051 - val_accuracy: 0.6795\n",
            "Epoch 6/200\n",
            "24000/24000 [==============================] - 51s 2ms/step - loss: 0.2077 - accuracy: 0.6724 - val_loss: 0.2024 - val_accuracy: 0.6846\n",
            "Epoch 7/200\n",
            "24000/24000 [==============================] - 52s 2ms/step - loss: 0.2066 - accuracy: 0.6747 - val_loss: 0.2013 - val_accuracy: 0.6872\n",
            "Epoch 8/200\n",
            "24000/24000 [==============================] - 52s 2ms/step - loss: 0.2059 - accuracy: 0.6764 - val_loss: 0.2019 - val_accuracy: 0.6858\n",
            "Epoch 9/200\n",
            "24000/24000 [==============================] - 52s 2ms/step - loss: 0.2050 - accuracy: 0.6784 - val_loss: 0.1999 - val_accuracy: 0.6894\n",
            "Epoch 10/200\n",
            "24000/24000 [==============================] - 53s 2ms/step - loss: 0.2044 - accuracy: 0.6799 - val_loss: 0.1991 - val_accuracy: 0.6910\n",
            "Epoch 11/200\n",
            "24000/24000 [==============================] - 53s 2ms/step - loss: 0.2041 - accuracy: 0.6804 - val_loss: 0.1988 - val_accuracy: 0.6917\n"
          ],
          "name": "stdout"
        },
        {
          "output_type": "display_data",
          "data": {
            "text/markdown": "#### Train/Loss Plot (MSE)",
            "text/plain": [
              "<IPython.core.display.Markdown object>"
            ]
          },
          "metadata": {
            "tags": []
          }
        },
        {
          "output_type": "display_data",
          "data": {
            "text/markdown": "#### Evaluate Model - Metrics",
            "text/plain": [
              "<IPython.core.display.Markdown object>"
            ]
          },
          "metadata": {
            "tags": []
          }
        },
        {
          "output_type": "stream",
          "text": [
            "Accuracy: 0.6916816830635071\n",
            "AUC: 0.7613138026985462\n",
            "base_activation: relu\n"
          ],
          "name": "stdout"
        },
        {
          "output_type": "display_data",
          "data": {
            "image/png": "[encoded data removed]",
            "text/plain": [
              "<Figure size 1440x720 with 2 Axes>"
            ]
          },
          "metadata": {
            "tags": [],
            "needs_background": "light"
          }
        },
        {
          "output_type": "display_data",
          "data": {
            "text/markdown": "### ----------------------------------",
            "text/plain": [
              "<IPython.core.display.Markdown object>"
            ]
          },
          "metadata": {
            "tags": []
          }
        }
      ]
    },
    {
      "cell_type": "markdown",
      "metadata": {
        "id": "HFqGrUQ5K2tR"
      },
      "source": [
        "#### For the Low-level data analysis using the relu activation function, the charts above show that the model accuracy is approximately 69.1% and the model AUC is 0.761. The Training/Validation Curves show that it took only 11 Epochs to reach these values."
      ]
    },
    {
      "cell_type": "code",
      "metadata": {
        "id": "oye7gX0ILCgO",
        "outputId": "506c136b-e792-4cf5-d957-b60e42dc9d98",
        "colab": {
          "base_uri": "https://localhost:8080/",
          "height": 1000
        }
      },
      "source": [
        "%matplotlib inline\n",
        "\n",
        "compare_dict[\"High-level relu\"] = execute_model(\"High-level\",\n",
        "                                     data.iloc[:, range(22, 29)].values,\n",
        "                                     data[0].values,\n",
        "                                     base_activation='relu')"
      ],
      "execution_count": 15,
      "outputs": [
        {
          "output_type": "display_data",
          "data": {
            "text/markdown": "### High-level",
            "text/plain": [
              "<IPython.core.display.Markdown object>"
            ]
          },
          "metadata": {
            "tags": []
          }
        },
        {
          "output_type": "display_data",
          "data": {
            "text/markdown": "#### Partition Data",
            "text/plain": [
              "<IPython.core.display.Markdown object>"
            ]
          },
          "metadata": {
            "tags": []
          }
        },
        {
          "output_type": "stream",
          "text": [
            "done.\n"
          ],
          "name": "stdout"
        },
        {
          "output_type": "display_data",
          "data": {
            "text/markdown": "#### Normalize Data",
            "text/plain": [
              "<IPython.core.display.Markdown object>"
            ]
          },
          "metadata": {
            "tags": []
          }
        },
        {
          "output_type": "stream",
          "text": [
            "done.\n"
          ],
          "name": "stdout"
        },
        {
          "output_type": "display_data",
          "data": {
            "text/markdown": "#### Build Model",
            "text/plain": [
              "<IPython.core.display.Markdown object>"
            ]
          },
          "metadata": {
            "tags": []
          }
        },
        {
          "output_type": "stream",
          "text": [
            "done.\n"
          ],
          "name": "stdout"
        },
        {
          "output_type": "display_data",
          "data": {
            "text/markdown": "#### Train Model",
            "text/plain": [
              "<IPython.core.display.Markdown object>"
            ]
          },
          "metadata": {
            "tags": []
          }
        },
        {
          "output_type": "stream",
          "text": [
            "Epoch 1/200\n",
            "24000/24000 [==============================] - 52s 2ms/step - loss: 0.2014 - accuracy: 0.6817 - val_loss: 0.1919 - val_accuracy: 0.7006\n",
            "Epoch 2/200\n",
            "24000/24000 [==============================] - 52s 2ms/step - loss: 0.1928 - accuracy: 0.6975 - val_loss: 0.1890 - val_accuracy: 0.7055\n",
            "Epoch 3/200\n",
            "24000/24000 [==============================] - 52s 2ms/step - loss: 0.1914 - accuracy: 0.7004 - val_loss: 0.1889 - val_accuracy: 0.7061\n",
            "Epoch 4/200\n",
            "24000/24000 [==============================] - 52s 2ms/step - loss: 0.1905 - accuracy: 0.7027 - val_loss: 0.1895 - val_accuracy: 0.7049\n",
            "Epoch 5/200\n",
            "24000/24000 [==============================] - 53s 2ms/step - loss: 0.1895 - accuracy: 0.7046 - val_loss: 0.1871 - val_accuracy: 0.7091\n",
            "Epoch 6/200\n",
            "24000/24000 [==============================] - 52s 2ms/step - loss: 0.1892 - accuracy: 0.7055 - val_loss: 0.1864 - val_accuracy: 0.7108\n"
          ],
          "name": "stdout"
        },
        {
          "output_type": "display_data",
          "data": {
            "text/markdown": "#### Train/Loss Plot (MSE)",
            "text/plain": [
              "<IPython.core.display.Markdown object>"
            ]
          },
          "metadata": {
            "tags": []
          }
        },
        {
          "output_type": "display_data",
          "data": {
            "text/markdown": "#### Evaluate Model - Metrics",
            "text/plain": [
              "<IPython.core.display.Markdown object>"
            ]
          },
          "metadata": {
            "tags": []
          }
        },
        {
          "output_type": "stream",
          "text": [
            "Accuracy: 0.7107683420181274\n",
            "AUC: 0.7897737720757345\n",
            "base_activation: relu\n"
          ],
          "name": "stdout"
        },
        {
          "output_type": "display_data",
          "data": {
            "image/png": "[encoded data removed]",
            "text/plain": [
              "<Figure size 1440x720 with 2 Axes>"
            ]
          },
          "metadata": {
            "tags": [],
            "needs_background": "light"
          }
        },
        {
          "output_type": "display_data",
          "data": {
            "text/markdown": "### ----------------------------------",
            "text/plain": [
              "<IPython.core.display.Markdown object>"
            ]
          },
          "metadata": {
            "tags": []
          }
        }
      ]
    },
    {
      "cell_type": "markdown",
      "metadata": {
        "id": "wRBlvnRdLI-Z"
      },
      "source": [
        "For the High-level data analysis using the relu activation function, the charts above show that the model accuracy is approximately 71.0% and the model AUC is 0.79. The Training/Validation Curves show that it took only 6 Epochs to reach these values."
      ]
    },
    {
      "cell_type": "code",
      "metadata": {
        "id": "bQvaUwxILbi8",
        "outputId": "1dd5523b-0fe9-4ad1-e93d-49d9d5c8f10d",
        "colab": {
          "base_uri": "https://localhost:8080/",
          "height": 1000
        }
      },
      "source": [
        "%matplotlib inline\n",
        "\n",
        "compare_dict[\"Mix-Low+High relu\"] = execute_model(\"Mix-Low+High\",\n",
        "                                     data.iloc[:, range(1, 29)].values,\n",
        "                                     data[0].values,\n",
        "                                     base_activation='relu')"
      ],
      "execution_count": 16,
      "outputs": [
        {
          "output_type": "display_data",
          "data": {
            "text/markdown": "### Mix-Low+High",
            "text/plain": [
              "<IPython.core.display.Markdown object>"
            ]
          },
          "metadata": {
            "tags": []
          }
        },
        {
          "output_type": "display_data",
          "data": {
            "text/markdown": "#### Partition Data",
            "text/plain": [
              "<IPython.core.display.Markdown object>"
            ]
          },
          "metadata": {
            "tags": []
          }
        },
        {
          "output_type": "stream",
          "text": [
            "done.\n"
          ],
          "name": "stdout"
        },
        {
          "output_type": "display_data",
          "data": {
            "text/markdown": "#### Normalize Data",
            "text/plain": [
              "<IPython.core.display.Markdown object>"
            ]
          },
          "metadata": {
            "tags": []
          }
        },
        {
          "output_type": "stream",
          "text": [
            "done.\n"
          ],
          "name": "stdout"
        },
        {
          "output_type": "display_data",
          "data": {
            "text/markdown": "#### Build Model",
            "text/plain": [
              "<IPython.core.display.Markdown object>"
            ]
          },
          "metadata": {
            "tags": []
          }
        },
        {
          "output_type": "stream",
          "text": [
            "done.\n"
          ],
          "name": "stdout"
        },
        {
          "output_type": "display_data",
          "data": {
            "text/markdown": "#### Train Model",
            "text/plain": [
              "<IPython.core.display.Markdown object>"
            ]
          },
          "metadata": {
            "tags": []
          }
        },
        {
          "output_type": "stream",
          "text": [
            "Epoch 1/200\n",
            "24000/24000 [==============================] - 52s 2ms/step - loss: 0.2077 - accuracy: 0.6714 - val_loss: 0.1874 - val_accuracy: 0.7143\n",
            "Epoch 2/200\n",
            "24000/24000 [==============================] - 51s 2ms/step - loss: 0.1890 - accuracy: 0.7109 - val_loss: 0.1807 - val_accuracy: 0.7254\n",
            "Epoch 3/200\n",
            "24000/24000 [==============================] - 51s 2ms/step - loss: 0.1834 - accuracy: 0.7208 - val_loss: 0.1776 - val_accuracy: 0.7309\n",
            "Epoch 4/200\n",
            "24000/24000 [==============================] - 52s 2ms/step - loss: 0.1803 - accuracy: 0.7263 - val_loss: 0.1737 - val_accuracy: 0.7377\n",
            "Epoch 5/200\n",
            "24000/24000 [==============================] - 51s 2ms/step - loss: 0.1778 - accuracy: 0.7310 - val_loss: 0.1718 - val_accuracy: 0.7413\n",
            "Epoch 6/200\n",
            "24000/24000 [==============================] - 51s 2ms/step - loss: 0.1764 - accuracy: 0.7332 - val_loss: 0.1719 - val_accuracy: 0.7410\n",
            "Epoch 7/200\n",
            "24000/24000 [==============================] - 51s 2ms/step - loss: 0.1756 - accuracy: 0.7348 - val_loss: 0.1714 - val_accuracy: 0.7416\n",
            "Epoch 8/200\n",
            "24000/24000 [==============================] - 51s 2ms/step - loss: 0.1748 - accuracy: 0.7361 - val_loss: 0.1704 - val_accuracy: 0.7427\n"
          ],
          "name": "stdout"
        },
        {
          "output_type": "display_data",
          "data": {
            "text/markdown": "#### Train/Loss Plot (MSE)",
            "text/plain": [
              "<IPython.core.display.Markdown object>"
            ]
          },
          "metadata": {
            "tags": []
          }
        },
        {
          "output_type": "display_data",
          "data": {
            "text/markdown": "#### Evaluate Model - Metrics",
            "text/plain": [
              "<IPython.core.display.Markdown object>"
            ]
          },
          "metadata": {
            "tags": []
          }
        },
        {
          "output_type": "stream",
          "text": [
            "Accuracy: 0.7426549792289734\n",
            "AUC: 0.8269005658530804\n",
            "base_activation: relu\n"
          ],
          "name": "stdout"
        },
        {
          "output_type": "display_data",
          "data": {
            "image/png": "[encoded data removed]",
            "text/plain": [
              "<Figure size 1440x720 with 2 Axes>"
            ]
          },
          "metadata": {
            "tags": [],
            "needs_background": "light"
          }
        },
        {
          "output_type": "display_data",
          "data": {
            "text/markdown": "### ----------------------------------",
            "text/plain": [
              "<IPython.core.display.Markdown object>"
            ]
          },
          "metadata": {
            "tags": []
          }
        }
      ]
    },
    {
      "cell_type": "markdown",
      "metadata": {
        "id": "efLBXMrOLoRY"
      },
      "source": [
        "For the Mixed-level data analysis using the relu activation function, the charts above show that the model accuracy is approximately 75.0% and the model AUC is 0.827. The Training/Validation Curves show that it took only 8 Epochs to reach these values."
      ]
    },
    {
      "cell_type": "markdown",
      "metadata": {
        "id": "QxHCpa79PO6v"
      },
      "source": [
        "## Model Comparison\n",
        "\n",
        "#### In comparing model performance the original researchers leveraged the AUC metric as the metric of choice for model evaluation. Over the course of this research article the models we built closely resembled the AUC scores of the original researchers DNN approaches. A summary of the model results comparing the original researcher models and our models using the tanh activation function is shown below:\n",
        "\n",
        "|||Low Level ||High Level ||All|\n",
        "|--||----------||----------||----------|\n",
        "|Theirs|| 0.88||0.80||0.80|\n",
        "|Ours|| 0.76|| 0.79|| 0.83|\n",
        "\n",
        "#### Evaluating the relu activation function AUC:\n",
        "\n",
        "|Low Level ||High Level ||All|\n",
        "|----------||----------||----------|\n",
        "| 0.76||0.79||0.83|\n",
        "\n",
        "#### From this comparison of AUC metrics it can be seen that the models recreated in Tensorflow were relatively close to the original researchers version developed in Pylearn2. It is also seen that in this particular case the activation function in either model did not have a major impact on AUC. Further investigation between the original model and the Tensorflow model could be undertaken. In this analysis the weights in the networks could be analyzed to obtain additional parity between the models and thus possibly bring the AUC scores even closer. This detailed model reimplementation was outside the scope of this current analysis. "
      ]
    },
    {
      "cell_type": "markdown",
      "metadata": {
        "id": "zr5ABSvCbECX"
      },
      "source": [
        "## Conclusion\n",
        "\n",
        "#### In conclusion we have demonstrated the re-creation of the original model in Tensorflow is possible. The AUC scores between both the original model and the Tensorflow models are relatively close. In addition, our model allowed the flexibility of changing the activation function from tanh to relu. Although this did not greatly impact the AUC scores it did provide more flexibility within the model for future analysis. \n",
        "\n",
        "#### Given this additional approach to model implementation there are other opportunities the original researchers could take to further optimize this approach. In the original research, the authors noted that the training hyperparameters were predetermined without optimization. In the Keras framework classifiers may now be used with the same cross validation/grid search architecture found in sk-learn. Leveraging this type of approach could have been extremely beneficial to the researchers as they could have let the computers perform the hyperparameter optimization at runtime versus having them predetermined. This approach would have allowed for varying dropout rates, learning rates, weight decay, and activation functions which provides a much larger parameter space for tuning in a more efficient manner. \n",
        "\n",
        "#### At the time of the paper, it seemed that lack of compute power was also a hinderance that may no longer be an issue. With today's cheap and almost unlimited cloud compute power at our fingertips, the researchers may have been able to expanded the dataset used in their hyperparameter search. The availability of graphical processing units (GPUs) and/or Tensorflow processing units (TPUs) would have allowed them to expand their hyperparameter search from the 2.6mm training observations and 100,000 validation records to much more of the data set. \n",
        "\n",
        "#### The Tensorflow and Keras frameworks also provided many additional enhancements that the researchers did not have access to. Keras has many classes that would have \"automated\" many of the \"hands on\" approaches the researchers took. For example, the researchers took a \"hands on\" approach to learning rate decay. This allowed them more control over managing this metric, but may have also been time consuming and could have been more \"automated\" within the Keras framework. There is a trade off to these \"automated\" versus \"hands on\" approaches. Given the domain knowledge the researchers had there may have been specific reasons for the more \"hands on\" approach even if \"automated\" approaches could have been implemented in Pylearn2.\n",
        "\n",
        "#### Evaluating standard practices now versus when the paper was written there are a few differences that come about. First, most modern neural network architecture leverages the sigmoid or relu activation functions instead of the tanh activation function. This is due to the simplicity of derivatives for the sigmoid and relu functions. This simplicity typically leads to faster training times. In the examples provided in this article, there was not a large difference seen in training times when comparing the same models on relu and tanh; both models produced similar accuracy and AUC.\n",
        "\n",
        "#### The second standard that has changed is weight initialization. It it currently best practice to use a random initialization of weights, as was done in the new models. In the original models, the researchers elected to initialize the weights within the hidden layers using a normal distribution by layer. The reasoning for this approach is unclear. It could have been due to technological limitations or domain knowledge dictated it as best practice. \n",
        "\n",
        "#### All in all, the results of the original researchers were closely replicated using the Tensorflow framework. The \"new\" model implementation provides much more flexibility on a framework that is considered the current industry standard. Given improvements in frameworks, model architecture and hardware new models created may be more efficient and allow for a much broader spectrum analysis when compared to the original framework."
      ]
    }
  ]
}